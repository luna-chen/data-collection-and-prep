{
 "cells": [
  {
   "cell_type": "code",
   "execution_count": 1,
   "metadata": {},
   "outputs": [],
   "source": [
    "import pandas as pd"
   ]
  },
  {
   "cell_type": "code",
   "execution_count": 5,
   "metadata": {},
   "outputs": [],
   "source": [
    "df_alex_colleen = pd.read_csv(\"../../data/Colleen and Alex-Grid view 20210711.csv\")"
   ]
  },
  {
   "cell_type": "code",
   "execution_count": 6,
   "metadata": {},
   "outputs": [],
   "source": [
    "df_jingle_sheet = pd.read_csv(\"../../data/Jingle Spreadsheet aka Papers for manual DOI collection - Sheet1 (1).csv\")"
   ]
  },
  {
   "cell_type": "code",
   "execution_count": 7,
   "metadata": {},
   "outputs": [
    {
     "name": "stdout",
     "output_type": "stream",
     "text": [
      "<class 'pandas.core.frame.DataFrame'>\n",
      "RangeIndex: 1226 entries, 0 to 1225\n",
      "Data columns (total 10 columns):\n",
      " #   Column                    Non-Null Count  Dtype  \n",
      "---  ------                    --------------  -----  \n",
      " 0   Field 1                   1225 non-null   float64\n",
      " 1   DOI                       11 non-null     object \n",
      " 2   Paper title               11 non-null     object \n",
      " 3   Abstract                  11 non-null     object \n",
      " 4   PDF Link                  18 non-null     object \n",
      " 5   Journal                   1224 non-null   object \n",
      " 6   Primary lit site          1225 non-null   object \n",
      " 7   Functions Level I         1220 non-null   object \n",
      " 8   Functions Level II        1220 non-null   object \n",
      " 9   Functions Level III- NEW  1131 non-null   object \n",
      "dtypes: float64(1), object(9)\n",
      "memory usage: 95.9+ KB\n"
     ]
    }
   ],
   "source": [
    "df_alex_colleen.info()"
   ]
  },
  {
   "cell_type": "code",
   "execution_count": 10,
   "metadata": {},
   "outputs": [],
   "source": [
    "colleen_alex_urls = list(df_alex_colleen['Primary lit site'])"
   ]
  },
  {
   "cell_type": "code",
   "execution_count": 11,
   "metadata": {},
   "outputs": [
    {
     "data": {
      "text/plain": [
       "1226"
      ]
     },
     "execution_count": 11,
     "metadata": {},
     "output_type": "execute_result"
    }
   ],
   "source": [
    "len(colleen_alex_urls)"
   ]
  },
  {
   "cell_type": "code",
   "execution_count": 12,
   "metadata": {},
   "outputs": [],
   "source": [
    "colleen_alex_urls_set = set(colleen_alex_urls)"
   ]
  },
  {
   "cell_type": "code",
   "execution_count": 13,
   "metadata": {},
   "outputs": [
    {
     "data": {
      "text/plain": [
       "1226"
      ]
     },
     "execution_count": 13,
     "metadata": {},
     "output_type": "execute_result"
    }
   ],
   "source": [
    "len(colleen_alex_urls_set)"
   ]
  },
  {
   "cell_type": "code",
   "execution_count": 14,
   "metadata": {},
   "outputs": [
    {
     "name": "stdout",
     "output_type": "stream",
     "text": [
      "<class 'pandas.core.frame.DataFrame'>\n",
      "RangeIndex: 1161 entries, 0 to 1160\n",
      "Data columns (total 12 columns):\n",
      " #   Column           Non-Null Count  Dtype \n",
      "---  ------           --------------  ----- \n",
      " 0   doi              1154 non-null   object\n",
      " 1   url              1161 non-null   object\n",
      " 2   title            725 non-null    object\n",
      " 3   abstract         719 non-null    object\n",
      " 4   full_doc_link    461 non-null    object\n",
      " 5   is_open_access   719 non-null    object\n",
      " 6   label_level_1    1161 non-null   object\n",
      " 7   label_level_2    1161 non-null   object\n",
      " 8   label_level_3    1076 non-null   object\n",
      " 9   journal          1160 non-null   object\n",
      " 10  literature_site  1161 non-null   object\n",
      " 11  Unnamed: 0       1161 non-null   int64 \n",
      "dtypes: int64(1), object(11)\n",
      "memory usage: 109.0+ KB\n"
     ]
    }
   ],
   "source": [
    "df_jingle_sheet.info()"
   ]
  },
  {
   "cell_type": "code",
   "execution_count": 15,
   "metadata": {},
   "outputs": [],
   "source": [
    "jingle_sheet_urls = list(df_jingle_sheet['url'])"
   ]
  },
  {
   "cell_type": "code",
   "execution_count": 16,
   "metadata": {},
   "outputs": [
    {
     "data": {
      "text/plain": [
       "1161"
      ]
     },
     "execution_count": 16,
     "metadata": {},
     "output_type": "execute_result"
    }
   ],
   "source": [
    "len(jingle_sheet_urls)"
   ]
  },
  {
   "cell_type": "code",
   "execution_count": 17,
   "metadata": {},
   "outputs": [],
   "source": [
    "jingle_sheet_urls_set = set(jingle_sheet_urls)"
   ]
  },
  {
   "cell_type": "code",
   "execution_count": 18,
   "metadata": {},
   "outputs": [
    {
     "data": {
      "text/plain": [
       "1161"
      ]
     },
     "execution_count": 18,
     "metadata": {},
     "output_type": "execute_result"
    }
   ],
   "source": [
    "len(jingle_sheet_urls_set)"
   ]
  },
  {
   "cell_type": "code",
   "execution_count": 20,
   "metadata": {},
   "outputs": [
    {
     "data": {
      "text/plain": [
       "1138"
      ]
     },
     "execution_count": 20,
     "metadata": {},
     "output_type": "execute_result"
    }
   ],
   "source": [
    "len(colleen_alex_urls_set.intersection(jingle_sheet_urls_set))"
   ]
  },
  {
   "cell_type": "code",
   "execution_count": 21,
   "metadata": {},
   "outputs": [
    {
     "data": {
      "text/plain": [
       "{' https://doi.org/10.1038/439153a',\n",
       " 'http://citeseerx.ist.psu.edu/viewdoc/download?doi=10.1.1.605.7037&rep=rep1&type=pdf',\n",
       " 'http://connection.ebscohost.com/c/articles/9008131036/antifreeze-bees',\n",
       " 'http://dx.doi.org/10.1126/science.1188761',\n",
       " 'http://meetings.aps.org/Meeting/DFD10/Event/133712',\n",
       " 'http://www.2008.botanyconference.org/engine/search/index.php?func=detail&aid=343',\n",
       " 'http://www.plantphysiol.org/content/153/4/1630',\n",
       " 'https://academic.oup.com/icb/article/56/4/500/2198431',\n",
       " 'https://acsess.onlinelibrary.wiley.com/doi/abs/10.2136/sssaj2009.0313',\n",
       " 'https://aem.asm.org/content/75/21/6635',\n",
       " 'https://agris.fao.org/agris-search/search.do?recordID=QI9600003',\n",
       " 'https://airtable.com/tblEY0y2cQYzXu2J5/viwORV9j9tIcpzcop',\n",
       " 'https://archive.org/stream/biologicalbullet185mari/#page/n19/mode/1up',\n",
       " 'https://aslopubs.onlinelibrary.wiley.com/doi/abs/10.4319/lo.2011.56.4.1310',\n",
       " 'https://besjournals.onlinelibrary.wiley.com/doi/full/10.1111/j.1365-2435.2011.01890.x',\n",
       " 'https://besjournals.onlinelibrary.wiley.com/doi/full/10.1111/j.1365-2745.2009.01601.x',\n",
       " 'https://bmcevolbiol.biomedcentral.com/articles/10.1186/1471-2148-10-214',\n",
       " 'https://books.google.com/books?hl=en&lr=&id=srWdAWBHyp4C&oi=fnd&pg=PP7&dq=animal+friendships&ots=Z15bpY087X&sig=1h5zhI8oaSMoXiRfFVaQcsTcaK4#v=onepage&q=animal%20friendships&f=false',\n",
       " 'https://books.google.com/books?id=ILFpAAAAMAAJ&lpg=PR11&ots=3pmzsRwISC&dq=Olfaction%20and%20Taste%3A%20Proceedings%20of%20the%20Third%20International%20Symposium&lr&pg=PR11#v=onepage&q=Olfaction%20and%20Taste:%20Proceedings%20of%20the%20Third%20International%20Symposium&f=false',\n",
       " 'https://csme.utah.edu/wp-content/uploads/2013/02/Forest_Canopies_Plant_Diversity_Encyclopedia_of_Biodiversity_20011.pdf',\n",
       " 'https://europepmc.org/article/med/12736997',\n",
       " 'https://jeb.biologists.org/content/207/18/3131',\n",
       " 'https://jeb.biologists.org/content/210/15/2593',\n",
       " 'https://link.springer.com/article/10.1007%2FBF00610241',\n",
       " 'https://link.springer.com/article/10.1007%2FBF00610867',\n",
       " 'https://link.springer.com/article/10.1007%2FBF01049065',\n",
       " 'https://link.springer.com/article/10.1007%2Fs00226-005-0065-2',\n",
       " 'https://link.springer.com/article/10.1007%2Fs00442-012-2575-6',\n",
       " 'https://link.springer.com/article/10.1007/s00227-001-0710-8',\n",
       " 'https://link.springer.com/article/10.1007/s004420050198',\n",
       " 'https://link.springer.com/article/10.1007/s12600-010-0087-7',\n",
       " 'https://link.springer.com/article/10.1016/S1672-6529(10)60252-1',\n",
       " 'https://nph.onlinelibrary.wiley.com/doi/full/10.1046/j.0028-646X.2001.00299.x',\n",
       " 'https://onlinelibrary.wiley.com/doi/abs/10.1002/%28SICI%291097-4687%28199710%29234%3A1%3C1%3A%3AAID-JMOR1%3E3.0.CO%3B2-I',\n",
       " 'https://onlinelibrary.wiley.com/doi/abs/10.1002/adem.201080065',\n",
       " 'https://onlinelibrary.wiley.com/doi/abs/10.1002/adma.200801256',\n",
       " 'https://onlinelibrary.wiley.com/doi/abs/10.1111/j.1365-2915.2005.00577.x',\n",
       " 'https://onlinelibrary.wiley.com/doi/abs/10.1111/j.1461-0248.2010.01501.x',\n",
       " 'https://onlinelibrary.wiley.com/doi/abs/10.1111/j.1748-7692.1998.tb00716.x',\n",
       " 'https://onlinelibrary.wiley.com/doi/abs/10.1111/j.1748-7692.1998.tb00717.x',\n",
       " 'https://onlinelibrary.wiley.com/doi/full/10.1002/yea.1148',\n",
       " 'https://pdfs.semanticscholar.org/5d77/d11b2682c5eab61bbee638975cb73c8b02cc.pdf',\n",
       " 'https://portlandpress.com/biochemj/article/356/2/503/39283/Novel-barnacle-underwater-adhesive-protein-is-a',\n",
       " 'https://pubmed.ncbi.nlm.nih.gov/11060219/',\n",
       " 'https://pubmed.ncbi.nlm.nih.gov/15697629/',\n",
       " 'https://pubmed.ncbi.nlm.nih.gov/16347678/',\n",
       " 'https://pubmed.ncbi.nlm.nih.gov/16944346/',\n",
       " 'https://pubmed.ncbi.nlm.nih.gov/30460539/',\n",
       " 'https://pubmed.ncbi.nlm.nih.gov/9450976/',\n",
       " 'https://pubmed.ncbi.nlm.nih.gov/9697323/',\n",
       " 'https://pubmed.ncbi.nlm.nih.gov/9914146/',\n",
       " 'https://pubs.acs.org/doi/10.1021/ja104996y',\n",
       " 'https://pubs.acs.org/doi/10.1021/ja1051632',\n",
       " 'https://pubs.rsc.org/en/content/articlelanding/1991/NP/np9910800309#!divAbstract',\n",
       " 'https://royalsocietypublishing.org/doi/full/10.1098/rspb.2010.1739 ',\n",
       " 'https://science.sciencemag.org/content/293/5527/102',\n",
       " 'https://www.annualreviews.org/doi/10.1146/annurev-biochem-062608-103436',\n",
       " 'https://www.annualreviews.org/doi/abs/10.1146/annurev.micro.51.1.527',\n",
       " 'https://www.cell.com/biophysj/fulltext/S0006-3495(09)02408-4',\n",
       " 'https://www.cell.com/cell/fulltext/S0092-8674(06)00187-5?_returnURL=https%3A%2F%2Flinkinghub.elsevier.com%2Fretrieve%2Fpii%2FS0092867406001875%3Fshowall%3Dtrue',\n",
       " 'https://www.fs.usda.gov/treesearch/pubs/37429',\n",
       " 'https://www.jstage.jst.go.jp/article/tropics/7/1+2/7_1+2_93/_pdf/-char/ja',\n",
       " 'https://www.nature.com/articles/247074a0',\n",
       " 'https://www.nature.com/articles/47396',\n",
       " 'https://www.nature.com/articles/nature00823',\n",
       " 'https://www.nature.com/articles/s41467-020-14547-y',\n",
       " 'https://www.ncbi.nlm.nih.gov/books/NBK10895/',\n",
       " 'https://www.ncbi.nlm.nih.gov/pubmed/20412310',\n",
       " 'https://www.ncbi.nlm.nih.gov/pubmed/26324094',\n",
       " 'https://www.researchgate.net/publication/11401207_Bacterial_Surface_Motility_Slime_Trails_Grappling_Hooks_and_Nozzles',\n",
       " 'https://www.researchgate.net/publication/230737954_Elements_of_beaked_whale_anatomy_and_diving_physiology_and_some_hypothetical_causes_of_sonar-related_stranding',\n",
       " 'https://www.researchgate.net/publication/239919503_Characteristics_and_Impacts_of_Annual_vs_Perennial_Systems',\n",
       " 'https://www.researchgate.net/publication/273142268_A_new_study_on_the_structure_and_function_of_the_adhesive_organs_of_the_Old_World_sucker-footed_bat_Myzopoda_Myzopodidae_of_Madagascar',\n",
       " 'https://www.researchgate.net/publication/285796504_Fog_collection_by_Namib_Desert_Beetles',\n",
       " 'https://www.researchgate.net/publication/46254430_Mycorrhizal_networks_counteract_competitive_effects_of_canopy_trees_on_seedling_survival',\n",
       " 'https://www.sciencedirect.com/science/article/abs/pii/0041010194903905',\n",
       " 'https://www.sciencedirect.com/science/article/pii/S0300944006002657',\n",
       " 'https://www.sciencedirect.com/science/article/pii/S1095643306000511',\n",
       " 'https://www.scribd.com/document/411820185/inter-plant-communication-through-mycorrhizal-networks-mediates-complex-adaptive-behaviour-in-plant-communities',\n",
       " 'https://www.semanticscholar.org/paper/Advanced-fullerene-type-texture-and-further-of-the-Kaupp/da2ca1fbd3e39ab7c459d6d3963d64877644ce54',\n",
       " 'https://www.semanticscholar.org/paper/FEEDING-BEHAVIOR-OF-THE-HUMPBACK-WHALE%2C-MEGAPTERA-Hain-Carter/c3025f98714df5d1d43d93e2743ac4154d5d262f',\n",
       " 'https://www.semanticscholar.org/paper/Reduction-of-Wind-and-Swell-Waves-by-Mangroves-McIvor-M%C3%B6ller/6517417f3f1c12190352fce8785c43b85f5784de',\n",
       " 'https://www.semanticscholar.org/paper/The-Effects-of-Bushfire-on-Victorian-Epiphytic-and-Adams-Lawson/ba52f539b77f753cabee7530a6e3343b90299b5d#paper-header',\n",
       " 'https://www.semanticscholar.org/paper/Theoretical-and-experimental-studies-of-energy-from-Wathen-Mitchell/6cc396489942e6958d605e734b379b59c0cc7865',\n",
       " 'https://www.springer.com/gp/book/9780412561603',\n",
       " 'https://www.yumpu.com/en/document/read/40748212/toward-biomimetic-architecture-annapujadascat',\n",
       " 'https://zslpublications.onlinelibrary.wiley.com/doi/abs/10.1111/j.1469-7998.1973.tb04553.x',\n",
       " nan}"
      ]
     },
     "execution_count": 21,
     "metadata": {},
     "output_type": "execute_result"
    }
   ],
   "source": [
    "colleen_alex_urls_set.difference(jingle_sheet_urls_set)"
   ]
  },
  {
   "cell_type": "code",
   "execution_count": null,
   "metadata": {},
   "outputs": [],
   "source": []
  }
 ],
 "metadata": {
  "kernelspec": {
   "display_name": "Python 3",
   "language": "python",
   "name": "python3"
  },
  "language_info": {
   "codemirror_mode": {
    "name": "ipython",
    "version": 3
   },
   "file_extension": ".py",
   "mimetype": "text/x-python",
   "name": "python",
   "nbconvert_exporter": "python",
   "pygments_lexer": "ipython3",
   "version": "3.7.4"
  }
 },
 "nbformat": 4,
 "nbformat_minor": 4
}
