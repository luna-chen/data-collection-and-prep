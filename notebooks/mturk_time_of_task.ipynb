{
 "cells": [
  {
   "cell_type": "code",
   "execution_count": 71,
   "id": "61d42065",
   "metadata": {},
   "outputs": [],
   "source": [
    "import pandas as pd\n",
    "import plotly\n",
    "import plotly.express as px\n",
    "import seaborn as sns\n",
    "import datetime\n",
    "import matplotlib.pyplot as plt\n",
    "import plotly.graph_objects as go"
   ]
  },
  {
   "cell_type": "code",
   "execution_count": 53,
   "id": "380c03e8",
   "metadata": {},
   "outputs": [],
   "source": [
    "df = pd.read_csv(\"../../HITResultsForPetalBinaryLabeling.csv\")"
   ]
  },
  {
   "cell_type": "code",
   "execution_count": 117,
   "id": "c56783fe",
   "metadata": {},
   "outputs": [
    {
     "data": {
      "text/html": [
       "<div>\n",
       "<style scoped>\n",
       "    .dataframe tbody tr th:only-of-type {\n",
       "        vertical-align: middle;\n",
       "    }\n",
       "\n",
       "    .dataframe tbody tr th {\n",
       "        vertical-align: top;\n",
       "    }\n",
       "\n",
       "    .dataframe thead th {\n",
       "        text-align: right;\n",
       "    }\n",
       "</style>\n",
       "<table border=\"1\" class=\"dataframe\">\n",
       "  <thead>\n",
       "    <tr style=\"text-align: right;\">\n",
       "      <th></th>\n",
       "      <th>HitId</th>\n",
       "      <th>HitTitle</th>\n",
       "      <th>Annotation</th>\n",
       "      <th>AssignmentId</th>\n",
       "      <th>WorkerId</th>\n",
       "      <th>Status</th>\n",
       "      <th>AcceptTime</th>\n",
       "      <th>SubmitTime</th>\n",
       "      <th>category.labels</th>\n",
       "      <th>ApproveRejectTime</th>\n",
       "      <th>TaskDuration</th>\n",
       "    </tr>\n",
       "  </thead>\n",
       "  <tbody>\n",
       "    <tr>\n",
       "      <th>0</th>\n",
       "      <td>3HRWUH63R2752ZPX4QWWZVM8LKQ5NR</td>\n",
       "      <td>Petal Binary Labeling</td>\n",
       "      <td>NaN</td>\n",
       "      <td>320DUZ38GGRAMQKQWQTXY4RWZZYJGV</td>\n",
       "      <td>AL8JC13KU3C9T</td>\n",
       "      <td>Submitted</td>\n",
       "      <td>2021-08-20 00:36:55+00:00</td>\n",
       "      <td>2021-08-20 00:37:01+00:00</td>\n",
       "      <td>[\"Yes\"]</td>\n",
       "      <td>NaN</td>\n",
       "      <td>0 days 00:00:06</td>\n",
       "    </tr>\n",
       "    <tr>\n",
       "      <th>1</th>\n",
       "      <td>3HRWUH63R2752ZPX4QWWZVM8LKQ5NR</td>\n",
       "      <td>Petal Binary Labeling</td>\n",
       "      <td>NaN</td>\n",
       "      <td>3Y4W8Q93L8PG11ATBP68V7ZTHVSVDN</td>\n",
       "      <td>A20878HW89X71R</td>\n",
       "      <td>Submitted</td>\n",
       "      <td>2021-08-23 14:48:29+00:00</td>\n",
       "      <td>2021-08-23 14:57:14+00:00</td>\n",
       "      <td>[\"Yes\"]</td>\n",
       "      <td>NaN</td>\n",
       "      <td>0 days 00:08:45</td>\n",
       "    </tr>\n",
       "    <tr>\n",
       "      <th>2</th>\n",
       "      <td>31YWE12TF8HP1XHKUPY2VHR2E4V7XS</td>\n",
       "      <td>Petal Binary Labeling</td>\n",
       "      <td>NaN</td>\n",
       "      <td>30ZX6P7VFH0K7WCJXB88W0XVPGT2JV</td>\n",
       "      <td>AL8JC13KU3C9T</td>\n",
       "      <td>Submitted</td>\n",
       "      <td>2021-08-19 23:04:19+00:00</td>\n",
       "      <td>2021-08-19 23:06:33+00:00</td>\n",
       "      <td>[\"Yes\"]</td>\n",
       "      <td>NaN</td>\n",
       "      <td>0 days 00:02:14</td>\n",
       "    </tr>\n",
       "    <tr>\n",
       "      <th>3</th>\n",
       "      <td>31YWE12TF8HP1XHKUPY2VHR2E4V7XS</td>\n",
       "      <td>Petal Binary Labeling</td>\n",
       "      <td>NaN</td>\n",
       "      <td>352YTHGRO4IYJ4WGDPOBD2EEW3OH46</td>\n",
       "      <td>A20878HW89X71R</td>\n",
       "      <td>Submitted</td>\n",
       "      <td>2021-08-23 06:56:40+00:00</td>\n",
       "      <td>2021-08-23 06:58:20+00:00</td>\n",
       "      <td>[\"Yes\"]</td>\n",
       "      <td>NaN</td>\n",
       "      <td>0 days 00:01:40</td>\n",
       "    </tr>\n",
       "    <tr>\n",
       "      <th>4</th>\n",
       "      <td>39RRBHZ0B26GHIIVD5P3YGNG8MZVZ4</td>\n",
       "      <td>Petal Binary Labeling</td>\n",
       "      <td>NaN</td>\n",
       "      <td>3FUI0JHJP63Y706DYQUQZ3LYZX733V</td>\n",
       "      <td>AL8JC13KU3C9T</td>\n",
       "      <td>Submitted</td>\n",
       "      <td>2021-08-20 00:36:44+00:00</td>\n",
       "      <td>2021-08-20 00:36:51+00:00</td>\n",
       "      <td>[\"Yes\"]</td>\n",
       "      <td>NaN</td>\n",
       "      <td>0 days 00:00:07</td>\n",
       "    </tr>\n",
       "  </tbody>\n",
       "</table>\n",
       "</div>"
      ],
      "text/plain": [
       "                            HitId               HitTitle  Annotation  \\\n",
       "0  3HRWUH63R2752ZPX4QWWZVM8LKQ5NR  Petal Binary Labeling         NaN   \n",
       "1  3HRWUH63R2752ZPX4QWWZVM8LKQ5NR  Petal Binary Labeling         NaN   \n",
       "2  31YWE12TF8HP1XHKUPY2VHR2E4V7XS  Petal Binary Labeling         NaN   \n",
       "3  31YWE12TF8HP1XHKUPY2VHR2E4V7XS  Petal Binary Labeling         NaN   \n",
       "4  39RRBHZ0B26GHIIVD5P3YGNG8MZVZ4  Petal Binary Labeling         NaN   \n",
       "\n",
       "                     AssignmentId        WorkerId     Status  \\\n",
       "0  320DUZ38GGRAMQKQWQTXY4RWZZYJGV   AL8JC13KU3C9T  Submitted   \n",
       "1  3Y4W8Q93L8PG11ATBP68V7ZTHVSVDN  A20878HW89X71R  Submitted   \n",
       "2  30ZX6P7VFH0K7WCJXB88W0XVPGT2JV   AL8JC13KU3C9T  Submitted   \n",
       "3  352YTHGRO4IYJ4WGDPOBD2EEW3OH46  A20878HW89X71R  Submitted   \n",
       "4  3FUI0JHJP63Y706DYQUQZ3LYZX733V   AL8JC13KU3C9T  Submitted   \n",
       "\n",
       "                 AcceptTime                SubmitTime category.labels  \\\n",
       "0 2021-08-20 00:36:55+00:00 2021-08-20 00:37:01+00:00         [\"Yes\"]   \n",
       "1 2021-08-23 14:48:29+00:00 2021-08-23 14:57:14+00:00         [\"Yes\"]   \n",
       "2 2021-08-19 23:04:19+00:00 2021-08-19 23:06:33+00:00         [\"Yes\"]   \n",
       "3 2021-08-23 06:56:40+00:00 2021-08-23 06:58:20+00:00         [\"Yes\"]   \n",
       "4 2021-08-20 00:36:44+00:00 2021-08-20 00:36:51+00:00         [\"Yes\"]   \n",
       "\n",
       "  ApproveRejectTime    TaskDuration  \n",
       "0               NaN 0 days 00:00:06  \n",
       "1               NaN 0 days 00:08:45  \n",
       "2               NaN 0 days 00:02:14  \n",
       "3               NaN 0 days 00:01:40  \n",
       "4               NaN 0 days 00:00:07  "
      ]
     },
     "execution_count": 117,
     "metadata": {},
     "output_type": "execute_result"
    }
   ],
   "source": [
    "df.head()"
   ]
  },
  {
   "cell_type": "code",
   "execution_count": 119,
   "id": "820e9522",
   "metadata": {},
   "outputs": [
    {
     "data": {
      "text/plain": [
       "count         120\n",
       "unique          3\n",
       "top       [\"Yes\"]\n",
       "freq           74\n",
       "Name: category.labels, dtype: object"
      ]
     },
     "execution_count": 119,
     "metadata": {},
     "output_type": "execute_result"
    }
   ],
   "source": [
    "df[\"category.labels\"].describe()"
   ]
  },
  {
   "cell_type": "code",
   "execution_count": 121,
   "id": "576bf7ef",
   "metadata": {},
   "outputs": [
    {
     "data": {
      "text/plain": [
       "count           120\n",
       "unique            2\n",
       "top       Submitted\n",
       "freq            119\n",
       "Name: Status, dtype: object"
      ]
     },
     "execution_count": 121,
     "metadata": {},
     "output_type": "execute_result"
    }
   ],
   "source": [
    "df[\"Status\"].describe() # one response differs"
   ]
  },
  {
   "cell_type": "code",
   "execution_count": 122,
   "id": "a574b354",
   "metadata": {},
   "outputs": [
    {
     "data": {
      "text/plain": [
       "count                       120\n",
       "unique                        1\n",
       "top       Petal Binary Labeling\n",
       "freq                        120\n",
       "Name: HitTitle, dtype: object"
      ]
     },
     "execution_count": 122,
     "metadata": {},
     "output_type": "execute_result"
    }
   ],
   "source": [
    "df[\"HitTitle\"].describe() # all have same response"
   ]
  },
  {
   "cell_type": "code",
   "execution_count": 126,
   "id": "59cacd68",
   "metadata": {},
   "outputs": [
    {
     "data": {
      "text/plain": [
       "count                            1\n",
       "unique                           1\n",
       "top       2021-08-12T20:04:06.000Z\n",
       "freq                             1\n",
       "Name: ApproveRejectTime, dtype: object"
      ]
     },
     "execution_count": 126,
     "metadata": {},
     "output_type": "execute_result"
    }
   ],
   "source": [
    "df[\"ApproveRejectTime\"].describe() # one type of response, most NaN"
   ]
  },
  {
   "cell_type": "markdown",
   "id": "47b5feb8",
   "metadata": {},
   "source": [
    "Evaluate AcceptTime vs. SubmitTime"
   ]
  },
  {
   "cell_type": "code",
   "execution_count": 87,
   "id": "0edbd4f3",
   "metadata": {},
   "outputs": [
    {
     "data": {
      "application/vnd.plotly.v1+json": {
       "config": {
        "plotlyServerURL": "https://plot.ly"
       },
       "data": [
        {
         "hovertemplate": "color=[\"Yes\"]<br>x=%{x}<br>y=%{y}<extra></extra>",
         "legendgroup": "[\"Yes\"]",
         "marker": {
          "color": "#636efa",
          "symbol": "circle"
         },
         "mode": "markers",
         "name": "[\"Yes\"]",
         "orientation": "v",
         "showlegend": true,
         "type": "scatter",
         "x": [
          "2021-08-20T00:36:55+00:00",
          "2021-08-23T14:48:29+00:00",
          "2021-08-19T23:04:19+00:00",
          "2021-08-23T06:56:40+00:00",
          "2021-08-20T00:36:44+00:00",
          "2021-08-19T23:10:12+00:00",
          "2021-08-23T10:13:13+00:00",
          "2021-08-20T00:37:57+00:00",
          "2021-08-19T23:12:05+00:00",
          "2021-08-19T23:20:41+00:00",
          "2021-08-19T23:14:21+00:00",
          "2021-08-23T14:44:39+00:00",
          "2021-08-30T04:54:09+00:00",
          "2021-08-19T23:12:46+00:00",
          "2021-08-19T23:17:46+00:00",
          "2021-08-23T11:14:39+00:00",
          "2021-08-19T23:20:20+00:00",
          "2021-08-23T07:44:49+00:00",
          "2021-08-20T00:37:27+00:00",
          "2021-08-19T23:20:00+00:00",
          "2021-08-19T23:16:48+00:00",
          "2021-08-23T07:45:47+00:00",
          "2021-08-19T23:36:28+00:00",
          "2021-08-27T14:50:57+00:00",
          "2021-08-20T00:35:26+00:00",
          "2021-08-20T17:08:24+00:00",
          "2021-08-19T23:35:37+00:00",
          "2021-08-23T13:38:43+00:00",
          "2021-08-19T23:21:55+00:00",
          "2021-08-23T10:58:02+00:00",
          "2021-08-19T23:22:50+00:00",
          "2021-08-23T11:36:48+00:00",
          "2021-08-20T00:38:15+00:00",
          "2021-08-19T23:17:10+00:00",
          "2021-08-23T10:10:45+00:00",
          "2021-08-19T23:14:45+00:00",
          "2021-08-23T11:11:00+00:00",
          "2021-08-19T23:23:27+00:00",
          "2021-08-23T11:18:16+00:00",
          "2021-08-19T23:34:30+00:00",
          "2021-08-23T10:14:14+00:00",
          "2021-08-20T00:36:33+00:00",
          "2021-08-23T09:58:26+00:00",
          "2021-08-19T23:12:29+00:00",
          "2021-08-23T13:42:38+00:00",
          "2021-08-30T04:57:41+00:00",
          "2021-08-23T08:10:53+00:00",
          "2021-08-20T00:35:40+00:00",
          "2021-08-23T14:46:26+00:00",
          "2021-08-30T04:54:58+00:00",
          "2021-08-19T23:35:27+00:00",
          "2021-08-19T23:09:35+00:00",
          "2021-08-23T13:39:23+00:00",
          "2021-08-19T23:16:14+00:00",
          "2021-08-23T10:11:47+00:00",
          "2021-08-23T14:57:20+00:00",
          "2021-08-23T07:38:22+00:00",
          "2021-08-19T23:17:27+00:00",
          "2021-08-20T17:35:25+00:00",
          "2021-08-23T07:35:00+00:00",
          "2021-08-19T23:33:05+00:00",
          "2021-08-23T07:46:47+00:00",
          "2021-08-23T07:39:17+00:00",
          "2021-08-27T14:56:29+00:00",
          "2021-08-19T23:13:31+00:00",
          "2021-08-23T07:42:03+00:00",
          "2021-08-19T23:21:41+00:00",
          "2021-08-20T00:38:05+00:00",
          "2021-08-23T08:08:32+00:00",
          "2021-07-13T20:02:47+00:00",
          "2021-08-19T23:15:15+00:00",
          "2021-08-23T13:36:33+00:00",
          "2021-08-19T23:35:16+00:00",
          "2021-08-23T09:56:30+00:00"
         ],
         "xaxis": "x",
         "y": [
          "2021-08-20T00:37:01+00:00",
          "2021-08-23T14:57:14+00:00",
          "2021-08-19T23:06:33+00:00",
          "2021-08-23T06:58:20+00:00",
          "2021-08-20T00:36:51+00:00",
          "2021-08-19T23:12:02+00:00",
          "2021-08-23T10:14:10+00:00",
          "2021-08-20T00:38:02+00:00",
          "2021-08-19T23:12:24+00:00",
          "2021-08-19T23:21:22+00:00",
          "2021-08-19T23:14:42+00:00",
          "2021-08-23T14:45:02+00:00",
          "2021-08-30T04:54:55+00:00",
          "2021-08-19T23:13:28+00:00",
          "2021-08-19T23:18:32+00:00",
          "2021-08-23T11:15:49+00:00",
          "2021-08-19T23:20:37+00:00",
          "2021-08-23T07:45:41+00:00",
          "2021-08-20T00:37:54+00:00",
          "2021-08-19T23:20:12+00:00",
          "2021-08-19T23:17:08+00:00",
          "2021-08-23T07:46:37+00:00",
          "2021-08-19T23:36:39+00:00",
          "2021-08-27T14:51:01+00:00",
          "2021-08-20T00:35:36+00:00",
          "2021-08-20T17:10:25+00:00",
          "2021-08-19T23:35:45+00:00",
          "2021-08-23T13:39:10+00:00",
          "2021-08-19T23:22:09+00:00",
          "2021-08-23T11:04:11+00:00",
          "2021-08-19T23:23:04+00:00",
          "2021-08-23T11:38:25+00:00",
          "2021-08-20T00:38:21+00:00",
          "2021-08-19T23:17:24+00:00",
          "2021-08-23T10:11:14+00:00",
          "2021-08-19T23:15:12+00:00",
          "2021-08-23T11:14:16+00:00",
          "2021-08-19T23:32:58+00:00",
          "2021-08-23T11:21:14+00:00",
          "2021-08-19T23:34:35+00:00",
          "2021-08-23T10:15:17+00:00",
          "2021-08-20T00:36:40+00:00",
          "2021-08-23T10:00:07+00:00",
          "2021-08-19T23:12:42+00:00",
          "2021-08-23T13:44:15+00:00",
          "2021-08-30T04:59:09+00:00",
          "2021-08-23T08:12:06+00:00",
          "2021-08-20T00:35:47+00:00",
          "2021-08-23T14:46:50+00:00",
          "2021-08-30T04:55:37+00:00",
          "2021-08-19T23:35:34+00:00",
          "2021-08-19T23:10:08+00:00",
          "2021-08-23T13:39:36+00:00",
          "2021-08-19T23:16:45+00:00",
          "2021-08-23T10:13:08+00:00",
          "2021-08-23T14:59:54+00:00",
          "2021-08-23T07:39:06+00:00",
          "2021-08-19T23:17:44+00:00",
          "2021-08-20T17:35:38+00:00",
          "2021-08-23T07:36:09+00:00",
          "2021-08-19T23:33:27+00:00",
          "2021-08-23T07:49:33+00:00",
          "2021-08-23T07:41:51+00:00",
          "2021-08-27T14:56:36+00:00",
          "2021-08-19T23:14:17+00:00",
          "2021-08-23T07:43:06+00:00",
          "2021-08-19T23:21:52+00:00",
          "2021-08-20T00:38:12+00:00",
          "2021-08-23T08:09:55+00:00",
          "2021-07-13T20:03:31+00:00",
          "2021-08-19T23:16:11+00:00",
          "2021-08-23T13:38:33+00:00",
          "2021-08-19T23:35:24+00:00",
          "2021-08-23T09:58:05+00:00"
         ],
         "yaxis": "y"
        },
        {
         "hovertemplate": "color=[\"No\"]<br>x=%{x}<br>y=%{y}<extra></extra>",
         "legendgroup": "[\"No\"]",
         "marker": {
          "color": "#EF553B",
          "symbol": "circle"
         },
         "mode": "markers",
         "name": "[\"No\"]",
         "orientation": "v",
         "showlegend": true,
         "type": "scatter",
         "x": [
          "2021-08-23T06:29:15+00:00",
          "2021-08-23T11:30:42+00:00",
          "2021-08-30T04:47:24+00:00",
          "2021-08-23T06:25:54+00:00",
          "2021-08-23T06:51:19+00:00",
          "2021-08-23T11:53:53+00:00",
          "2021-08-20T00:35:50+00:00",
          "2021-08-23T07:43:11+00:00",
          "2021-08-23T14:45:13+00:00",
          "2021-08-19T23:23:07+00:00",
          "2021-08-23T11:38:59+00:00",
          "2021-08-19T23:33:33+00:00",
          "2021-08-23T08:10:09+00:00",
          "2021-08-23T11:51:12+00:00",
          "2021-08-23T07:49:48+00:00",
          "2021-08-30T04:51:06+00:00",
          "2021-08-23T13:39:48+00:00",
          "2021-08-30T16:55:21+00:00",
          "2021-08-19T23:34:47+00:00",
          "2021-08-23T06:29:32+00:00",
          "2021-08-23T13:33:52+00:00",
          "2021-08-23T11:16:34+00:00",
          "2021-08-23T06:54:48+00:00",
          "2021-08-27T14:44:03+00:00",
          "2021-08-27T14:47:49+00:00",
          "2021-08-19T23:21:25+00:00",
          "2021-08-25T23:16:09+00:00",
          "2021-08-23T11:31:48+00:00",
          "2021-08-19T23:08:25+00:00",
          "2021-08-23T14:47:31+00:00",
          "2021-08-19T23:35:47+00:00",
          "2021-08-30T04:49:31+00:00",
          "2021-08-19T23:18:34+00:00",
          "2021-08-23T15:07:07+00:00",
          "2021-08-20T00:36:10+00:00",
          "2021-08-23T10:19:02+00:00",
          "2021-08-23T07:36:25+00:00",
          "2021-08-30T04:55:39+00:00",
          "2021-08-20T00:37:04+00:00",
          "2021-08-23T13:55:02+00:00"
         ],
         "xaxis": "x",
         "y": [
          "2021-08-23T06:29:21+00:00",
          "2021-08-23T11:31:43+00:00",
          "2021-08-30T04:49:17+00:00",
          "2021-08-23T06:26:06+00:00",
          "2021-08-23T06:54:00+00:00",
          "2021-08-23T11:55:29+00:00",
          "2021-08-20T00:36:06+00:00",
          "2021-08-23T07:44:45+00:00",
          "2021-08-23T14:46:21+00:00",
          "2021-08-19T23:23:22+00:00",
          "2021-08-23T11:42:09+00:00",
          "2021-08-19T23:34:26+00:00",
          "2021-08-23T08:10:41+00:00",
          "2021-08-23T11:51:30+00:00",
          "2021-08-23T07:52:04+00:00",
          "2021-08-30T04:52:34+00:00",
          "2021-08-23T13:41:35+00:00",
          "2021-08-30T16:56:46+00:00",
          "2021-08-19T23:35:12+00:00",
          "2021-08-23T06:29:36+00:00",
          "2021-08-23T13:36:14+00:00",
          "2021-08-23T11:18:06+00:00",
          "2021-08-23T06:56:30+00:00",
          "2021-08-27T14:44:32+00:00",
          "2021-08-27T14:48:40+00:00",
          "2021-08-19T23:21:38+00:00",
          "2021-08-25T23:19:55+00:00",
          "2021-08-23T11:32:30+00:00",
          "2021-08-19T23:09:29+00:00",
          "2021-08-23T14:48:08+00:00",
          "2021-08-19T23:36:15+00:00",
          "2021-08-30T04:51:01+00:00",
          "2021-08-19T23:19:35+00:00",
          "2021-08-23T15:08:40+00:00",
          "2021-08-20T00:36:29+00:00",
          "2021-08-23T10:21:58+00:00",
          "2021-08-23T07:38:14+00:00",
          "2021-08-30T04:57:21+00:00",
          "2021-08-20T00:37:24+00:00",
          "2021-08-23T13:56:09+00:00"
         ],
         "yaxis": "y"
        },
        {
         "hovertemplate": "color=[\"Not sure (skip)\"]<br>x=%{x}<br>y=%{y}<extra></extra>",
         "legendgroup": "[\"Not sure (skip)\"]",
         "marker": {
          "color": "#00cc96",
          "symbol": "circle"
         },
         "mode": "markers",
         "name": "[\"Not sure (skip)\"]",
         "orientation": "v",
         "showlegend": true,
         "type": "scatter",
         "x": [
          "2021-08-30T04:52:38+00:00",
          "2021-08-23T10:56:00+00:00",
          "2021-08-19T23:06:49+00:00",
          "2021-08-25T23:28:07+00:00",
          "2021-08-19T23:22:17+00:00",
          "2021-08-25T23:24:27+00:00"
         ],
         "xaxis": "x",
         "y": [
          "2021-08-30T04:54:06+00:00",
          "2021-08-23T10:57:53+00:00",
          "2021-08-19T23:08:19+00:00",
          "2021-08-25T23:31:17+00:00",
          "2021-08-19T23:22:47+00:00",
          "2021-08-25T23:28:05+00:00"
         ],
         "yaxis": "y"
        }
       ],
       "layout": {
        "legend": {
         "title": {
          "text": "color"
         },
         "tracegroupgap": 0
        },
        "margin": {
         "t": 60
        },
        "template": {
         "data": {
          "bar": [
           {
            "error_x": {
             "color": "#2a3f5f"
            },
            "error_y": {
             "color": "#2a3f5f"
            },
            "marker": {
             "line": {
              "color": "#E5ECF6",
              "width": 0.5
             },
             "pattern": {
              "fillmode": "overlay",
              "size": 10,
              "solidity": 0.2
             }
            },
            "type": "bar"
           }
          ],
          "barpolar": [
           {
            "marker": {
             "line": {
              "color": "#E5ECF6",
              "width": 0.5
             },
             "pattern": {
              "fillmode": "overlay",
              "size": 10,
              "solidity": 0.2
             }
            },
            "type": "barpolar"
           }
          ],
          "carpet": [
           {
            "aaxis": {
             "endlinecolor": "#2a3f5f",
             "gridcolor": "white",
             "linecolor": "white",
             "minorgridcolor": "white",
             "startlinecolor": "#2a3f5f"
            },
            "baxis": {
             "endlinecolor": "#2a3f5f",
             "gridcolor": "white",
             "linecolor": "white",
             "minorgridcolor": "white",
             "startlinecolor": "#2a3f5f"
            },
            "type": "carpet"
           }
          ],
          "choropleth": [
           {
            "colorbar": {
             "outlinewidth": 0,
             "ticks": ""
            },
            "type": "choropleth"
           }
          ],
          "contour": [
           {
            "colorbar": {
             "outlinewidth": 0,
             "ticks": ""
            },
            "colorscale": [
             [
              0,
              "#0d0887"
             ],
             [
              0.1111111111111111,
              "#46039f"
             ],
             [
              0.2222222222222222,
              "#7201a8"
             ],
             [
              0.3333333333333333,
              "#9c179e"
             ],
             [
              0.4444444444444444,
              "#bd3786"
             ],
             [
              0.5555555555555556,
              "#d8576b"
             ],
             [
              0.6666666666666666,
              "#ed7953"
             ],
             [
              0.7777777777777778,
              "#fb9f3a"
             ],
             [
              0.8888888888888888,
              "#fdca26"
             ],
             [
              1,
              "#f0f921"
             ]
            ],
            "type": "contour"
           }
          ],
          "contourcarpet": [
           {
            "colorbar": {
             "outlinewidth": 0,
             "ticks": ""
            },
            "type": "contourcarpet"
           }
          ],
          "heatmap": [
           {
            "colorbar": {
             "outlinewidth": 0,
             "ticks": ""
            },
            "colorscale": [
             [
              0,
              "#0d0887"
             ],
             [
              0.1111111111111111,
              "#46039f"
             ],
             [
              0.2222222222222222,
              "#7201a8"
             ],
             [
              0.3333333333333333,
              "#9c179e"
             ],
             [
              0.4444444444444444,
              "#bd3786"
             ],
             [
              0.5555555555555556,
              "#d8576b"
             ],
             [
              0.6666666666666666,
              "#ed7953"
             ],
             [
              0.7777777777777778,
              "#fb9f3a"
             ],
             [
              0.8888888888888888,
              "#fdca26"
             ],
             [
              1,
              "#f0f921"
             ]
            ],
            "type": "heatmap"
           }
          ],
          "heatmapgl": [
           {
            "colorbar": {
             "outlinewidth": 0,
             "ticks": ""
            },
            "colorscale": [
             [
              0,
              "#0d0887"
             ],
             [
              0.1111111111111111,
              "#46039f"
             ],
             [
              0.2222222222222222,
              "#7201a8"
             ],
             [
              0.3333333333333333,
              "#9c179e"
             ],
             [
              0.4444444444444444,
              "#bd3786"
             ],
             [
              0.5555555555555556,
              "#d8576b"
             ],
             [
              0.6666666666666666,
              "#ed7953"
             ],
             [
              0.7777777777777778,
              "#fb9f3a"
             ],
             [
              0.8888888888888888,
              "#fdca26"
             ],
             [
              1,
              "#f0f921"
             ]
            ],
            "type": "heatmapgl"
           }
          ],
          "histogram": [
           {
            "marker": {
             "pattern": {
              "fillmode": "overlay",
              "size": 10,
              "solidity": 0.2
             }
            },
            "type": "histogram"
           }
          ],
          "histogram2d": [
           {
            "colorbar": {
             "outlinewidth": 0,
             "ticks": ""
            },
            "colorscale": [
             [
              0,
              "#0d0887"
             ],
             [
              0.1111111111111111,
              "#46039f"
             ],
             [
              0.2222222222222222,
              "#7201a8"
             ],
             [
              0.3333333333333333,
              "#9c179e"
             ],
             [
              0.4444444444444444,
              "#bd3786"
             ],
             [
              0.5555555555555556,
              "#d8576b"
             ],
             [
              0.6666666666666666,
              "#ed7953"
             ],
             [
              0.7777777777777778,
              "#fb9f3a"
             ],
             [
              0.8888888888888888,
              "#fdca26"
             ],
             [
              1,
              "#f0f921"
             ]
            ],
            "type": "histogram2d"
           }
          ],
          "histogram2dcontour": [
           {
            "colorbar": {
             "outlinewidth": 0,
             "ticks": ""
            },
            "colorscale": [
             [
              0,
              "#0d0887"
             ],
             [
              0.1111111111111111,
              "#46039f"
             ],
             [
              0.2222222222222222,
              "#7201a8"
             ],
             [
              0.3333333333333333,
              "#9c179e"
             ],
             [
              0.4444444444444444,
              "#bd3786"
             ],
             [
              0.5555555555555556,
              "#d8576b"
             ],
             [
              0.6666666666666666,
              "#ed7953"
             ],
             [
              0.7777777777777778,
              "#fb9f3a"
             ],
             [
              0.8888888888888888,
              "#fdca26"
             ],
             [
              1,
              "#f0f921"
             ]
            ],
            "type": "histogram2dcontour"
           }
          ],
          "mesh3d": [
           {
            "colorbar": {
             "outlinewidth": 0,
             "ticks": ""
            },
            "type": "mesh3d"
           }
          ],
          "parcoords": [
           {
            "line": {
             "colorbar": {
              "outlinewidth": 0,
              "ticks": ""
             }
            },
            "type": "parcoords"
           }
          ],
          "pie": [
           {
            "automargin": true,
            "type": "pie"
           }
          ],
          "scatter": [
           {
            "marker": {
             "colorbar": {
              "outlinewidth": 0,
              "ticks": ""
             }
            },
            "type": "scatter"
           }
          ],
          "scatter3d": [
           {
            "line": {
             "colorbar": {
              "outlinewidth": 0,
              "ticks": ""
             }
            },
            "marker": {
             "colorbar": {
              "outlinewidth": 0,
              "ticks": ""
             }
            },
            "type": "scatter3d"
           }
          ],
          "scattercarpet": [
           {
            "marker": {
             "colorbar": {
              "outlinewidth": 0,
              "ticks": ""
             }
            },
            "type": "scattercarpet"
           }
          ],
          "scattergeo": [
           {
            "marker": {
             "colorbar": {
              "outlinewidth": 0,
              "ticks": ""
             }
            },
            "type": "scattergeo"
           }
          ],
          "scattergl": [
           {
            "marker": {
             "colorbar": {
              "outlinewidth": 0,
              "ticks": ""
             }
            },
            "type": "scattergl"
           }
          ],
          "scattermapbox": [
           {
            "marker": {
             "colorbar": {
              "outlinewidth": 0,
              "ticks": ""
             }
            },
            "type": "scattermapbox"
           }
          ],
          "scatterpolar": [
           {
            "marker": {
             "colorbar": {
              "outlinewidth": 0,
              "ticks": ""
             }
            },
            "type": "scatterpolar"
           }
          ],
          "scatterpolargl": [
           {
            "marker": {
             "colorbar": {
              "outlinewidth": 0,
              "ticks": ""
             }
            },
            "type": "scatterpolargl"
           }
          ],
          "scatterternary": [
           {
            "marker": {
             "colorbar": {
              "outlinewidth": 0,
              "ticks": ""
             }
            },
            "type": "scatterternary"
           }
          ],
          "surface": [
           {
            "colorbar": {
             "outlinewidth": 0,
             "ticks": ""
            },
            "colorscale": [
             [
              0,
              "#0d0887"
             ],
             [
              0.1111111111111111,
              "#46039f"
             ],
             [
              0.2222222222222222,
              "#7201a8"
             ],
             [
              0.3333333333333333,
              "#9c179e"
             ],
             [
              0.4444444444444444,
              "#bd3786"
             ],
             [
              0.5555555555555556,
              "#d8576b"
             ],
             [
              0.6666666666666666,
              "#ed7953"
             ],
             [
              0.7777777777777778,
              "#fb9f3a"
             ],
             [
              0.8888888888888888,
              "#fdca26"
             ],
             [
              1,
              "#f0f921"
             ]
            ],
            "type": "surface"
           }
          ],
          "table": [
           {
            "cells": {
             "fill": {
              "color": "#EBF0F8"
             },
             "line": {
              "color": "white"
             }
            },
            "header": {
             "fill": {
              "color": "#C8D4E3"
             },
             "line": {
              "color": "white"
             }
            },
            "type": "table"
           }
          ]
         },
         "layout": {
          "annotationdefaults": {
           "arrowcolor": "#2a3f5f",
           "arrowhead": 0,
           "arrowwidth": 1
          },
          "autotypenumbers": "strict",
          "coloraxis": {
           "colorbar": {
            "outlinewidth": 0,
            "ticks": ""
           }
          },
          "colorscale": {
           "diverging": [
            [
             0,
             "#8e0152"
            ],
            [
             0.1,
             "#c51b7d"
            ],
            [
             0.2,
             "#de77ae"
            ],
            [
             0.3,
             "#f1b6da"
            ],
            [
             0.4,
             "#fde0ef"
            ],
            [
             0.5,
             "#f7f7f7"
            ],
            [
             0.6,
             "#e6f5d0"
            ],
            [
             0.7,
             "#b8e186"
            ],
            [
             0.8,
             "#7fbc41"
            ],
            [
             0.9,
             "#4d9221"
            ],
            [
             1,
             "#276419"
            ]
           ],
           "sequential": [
            [
             0,
             "#0d0887"
            ],
            [
             0.1111111111111111,
             "#46039f"
            ],
            [
             0.2222222222222222,
             "#7201a8"
            ],
            [
             0.3333333333333333,
             "#9c179e"
            ],
            [
             0.4444444444444444,
             "#bd3786"
            ],
            [
             0.5555555555555556,
             "#d8576b"
            ],
            [
             0.6666666666666666,
             "#ed7953"
            ],
            [
             0.7777777777777778,
             "#fb9f3a"
            ],
            [
             0.8888888888888888,
             "#fdca26"
            ],
            [
             1,
             "#f0f921"
            ]
           ],
           "sequentialminus": [
            [
             0,
             "#0d0887"
            ],
            [
             0.1111111111111111,
             "#46039f"
            ],
            [
             0.2222222222222222,
             "#7201a8"
            ],
            [
             0.3333333333333333,
             "#9c179e"
            ],
            [
             0.4444444444444444,
             "#bd3786"
            ],
            [
             0.5555555555555556,
             "#d8576b"
            ],
            [
             0.6666666666666666,
             "#ed7953"
            ],
            [
             0.7777777777777778,
             "#fb9f3a"
            ],
            [
             0.8888888888888888,
             "#fdca26"
            ],
            [
             1,
             "#f0f921"
            ]
           ]
          },
          "colorway": [
           "#636efa",
           "#EF553B",
           "#00cc96",
           "#ab63fa",
           "#FFA15A",
           "#19d3f3",
           "#FF6692",
           "#B6E880",
           "#FF97FF",
           "#FECB52"
          ],
          "font": {
           "color": "#2a3f5f"
          },
          "geo": {
           "bgcolor": "white",
           "lakecolor": "white",
           "landcolor": "#E5ECF6",
           "showlakes": true,
           "showland": true,
           "subunitcolor": "white"
          },
          "hoverlabel": {
           "align": "left"
          },
          "hovermode": "closest",
          "mapbox": {
           "style": "light"
          },
          "paper_bgcolor": "white",
          "plot_bgcolor": "#E5ECF6",
          "polar": {
           "angularaxis": {
            "gridcolor": "white",
            "linecolor": "white",
            "ticks": ""
           },
           "bgcolor": "#E5ECF6",
           "radialaxis": {
            "gridcolor": "white",
            "linecolor": "white",
            "ticks": ""
           }
          },
          "scene": {
           "xaxis": {
            "backgroundcolor": "#E5ECF6",
            "gridcolor": "white",
            "gridwidth": 2,
            "linecolor": "white",
            "showbackground": true,
            "ticks": "",
            "zerolinecolor": "white"
           },
           "yaxis": {
            "backgroundcolor": "#E5ECF6",
            "gridcolor": "white",
            "gridwidth": 2,
            "linecolor": "white",
            "showbackground": true,
            "ticks": "",
            "zerolinecolor": "white"
           },
           "zaxis": {
            "backgroundcolor": "#E5ECF6",
            "gridcolor": "white",
            "gridwidth": 2,
            "linecolor": "white",
            "showbackground": true,
            "ticks": "",
            "zerolinecolor": "white"
           }
          },
          "shapedefaults": {
           "line": {
            "color": "#2a3f5f"
           }
          },
          "ternary": {
           "aaxis": {
            "gridcolor": "white",
            "linecolor": "white",
            "ticks": ""
           },
           "baxis": {
            "gridcolor": "white",
            "linecolor": "white",
            "ticks": ""
           },
           "bgcolor": "#E5ECF6",
           "caxis": {
            "gridcolor": "white",
            "linecolor": "white",
            "ticks": ""
           }
          },
          "title": {
           "x": 0.05
          },
          "xaxis": {
           "automargin": true,
           "gridcolor": "white",
           "linecolor": "white",
           "ticks": "",
           "title": {
            "standoff": 15
           },
           "zerolinecolor": "white",
           "zerolinewidth": 2
          },
          "yaxis": {
           "automargin": true,
           "gridcolor": "white",
           "linecolor": "white",
           "ticks": "",
           "title": {
            "standoff": 15
           },
           "zerolinecolor": "white",
           "zerolinewidth": 2
          }
         }
        },
        "xaxis": {
         "anchor": "y",
         "domain": [
          0,
          1
         ],
         "title": {
          "text": "x"
         }
        },
        "yaxis": {
         "anchor": "x",
         "domain": [
          0,
          1
         ],
         "title": {
          "text": "y"
         }
        }
       }
      },
      "text/html": [
       "<div>                            <div id=\"f2ea618d-bc2e-42b2-ab7d-737d240ffccd\" class=\"plotly-graph-div\" style=\"height:525px; width:100%;\"></div>            <script type=\"text/javascript\">                require([\"plotly\"], function(Plotly) {                    window.PLOTLYENV=window.PLOTLYENV || {};                                    if (document.getElementById(\"f2ea618d-bc2e-42b2-ab7d-737d240ffccd\")) {                    Plotly.newPlot(                        \"f2ea618d-bc2e-42b2-ab7d-737d240ffccd\",                        [{\"hovertemplate\":\"color=[\\\"Yes\\\"]<br>x=%{x}<br>y=%{y}<extra></extra>\",\"legendgroup\":\"[\\\"Yes\\\"]\",\"marker\":{\"color\":\"#636efa\",\"symbol\":\"circle\"},\"mode\":\"markers\",\"name\":\"[\\\"Yes\\\"]\",\"orientation\":\"v\",\"showlegend\":true,\"type\":\"scatter\",\"x\":[\"2021-08-20T00:36:55+00:00\",\"2021-08-23T14:48:29+00:00\",\"2021-08-19T23:04:19+00:00\",\"2021-08-23T06:56:40+00:00\",\"2021-08-20T00:36:44+00:00\",\"2021-08-19T23:10:12+00:00\",\"2021-08-23T10:13:13+00:00\",\"2021-08-20T00:37:57+00:00\",\"2021-08-19T23:12:05+00:00\",\"2021-08-19T23:20:41+00:00\",\"2021-08-19T23:14:21+00:00\",\"2021-08-23T14:44:39+00:00\",\"2021-08-30T04:54:09+00:00\",\"2021-08-19T23:12:46+00:00\",\"2021-08-19T23:17:46+00:00\",\"2021-08-23T11:14:39+00:00\",\"2021-08-19T23:20:20+00:00\",\"2021-08-23T07:44:49+00:00\",\"2021-08-20T00:37:27+00:00\",\"2021-08-19T23:20:00+00:00\",\"2021-08-19T23:16:48+00:00\",\"2021-08-23T07:45:47+00:00\",\"2021-08-19T23:36:28+00:00\",\"2021-08-27T14:50:57+00:00\",\"2021-08-20T00:35:26+00:00\",\"2021-08-20T17:08:24+00:00\",\"2021-08-19T23:35:37+00:00\",\"2021-08-23T13:38:43+00:00\",\"2021-08-19T23:21:55+00:00\",\"2021-08-23T10:58:02+00:00\",\"2021-08-19T23:22:50+00:00\",\"2021-08-23T11:36:48+00:00\",\"2021-08-20T00:38:15+00:00\",\"2021-08-19T23:17:10+00:00\",\"2021-08-23T10:10:45+00:00\",\"2021-08-19T23:14:45+00:00\",\"2021-08-23T11:11:00+00:00\",\"2021-08-19T23:23:27+00:00\",\"2021-08-23T11:18:16+00:00\",\"2021-08-19T23:34:30+00:00\",\"2021-08-23T10:14:14+00:00\",\"2021-08-20T00:36:33+00:00\",\"2021-08-23T09:58:26+00:00\",\"2021-08-19T23:12:29+00:00\",\"2021-08-23T13:42:38+00:00\",\"2021-08-30T04:57:41+00:00\",\"2021-08-23T08:10:53+00:00\",\"2021-08-20T00:35:40+00:00\",\"2021-08-23T14:46:26+00:00\",\"2021-08-30T04:54:58+00:00\",\"2021-08-19T23:35:27+00:00\",\"2021-08-19T23:09:35+00:00\",\"2021-08-23T13:39:23+00:00\",\"2021-08-19T23:16:14+00:00\",\"2021-08-23T10:11:47+00:00\",\"2021-08-23T14:57:20+00:00\",\"2021-08-23T07:38:22+00:00\",\"2021-08-19T23:17:27+00:00\",\"2021-08-20T17:35:25+00:00\",\"2021-08-23T07:35:00+00:00\",\"2021-08-19T23:33:05+00:00\",\"2021-08-23T07:46:47+00:00\",\"2021-08-23T07:39:17+00:00\",\"2021-08-27T14:56:29+00:00\",\"2021-08-19T23:13:31+00:00\",\"2021-08-23T07:42:03+00:00\",\"2021-08-19T23:21:41+00:00\",\"2021-08-20T00:38:05+00:00\",\"2021-08-23T08:08:32+00:00\",\"2021-07-13T20:02:47+00:00\",\"2021-08-19T23:15:15+00:00\",\"2021-08-23T13:36:33+00:00\",\"2021-08-19T23:35:16+00:00\",\"2021-08-23T09:56:30+00:00\"],\"xaxis\":\"x\",\"y\":[\"2021-08-20T00:37:01+00:00\",\"2021-08-23T14:57:14+00:00\",\"2021-08-19T23:06:33+00:00\",\"2021-08-23T06:58:20+00:00\",\"2021-08-20T00:36:51+00:00\",\"2021-08-19T23:12:02+00:00\",\"2021-08-23T10:14:10+00:00\",\"2021-08-20T00:38:02+00:00\",\"2021-08-19T23:12:24+00:00\",\"2021-08-19T23:21:22+00:00\",\"2021-08-19T23:14:42+00:00\",\"2021-08-23T14:45:02+00:00\",\"2021-08-30T04:54:55+00:00\",\"2021-08-19T23:13:28+00:00\",\"2021-08-19T23:18:32+00:00\",\"2021-08-23T11:15:49+00:00\",\"2021-08-19T23:20:37+00:00\",\"2021-08-23T07:45:41+00:00\",\"2021-08-20T00:37:54+00:00\",\"2021-08-19T23:20:12+00:00\",\"2021-08-19T23:17:08+00:00\",\"2021-08-23T07:46:37+00:00\",\"2021-08-19T23:36:39+00:00\",\"2021-08-27T14:51:01+00:00\",\"2021-08-20T00:35:36+00:00\",\"2021-08-20T17:10:25+00:00\",\"2021-08-19T23:35:45+00:00\",\"2021-08-23T13:39:10+00:00\",\"2021-08-19T23:22:09+00:00\",\"2021-08-23T11:04:11+00:00\",\"2021-08-19T23:23:04+00:00\",\"2021-08-23T11:38:25+00:00\",\"2021-08-20T00:38:21+00:00\",\"2021-08-19T23:17:24+00:00\",\"2021-08-23T10:11:14+00:00\",\"2021-08-19T23:15:12+00:00\",\"2021-08-23T11:14:16+00:00\",\"2021-08-19T23:32:58+00:00\",\"2021-08-23T11:21:14+00:00\",\"2021-08-19T23:34:35+00:00\",\"2021-08-23T10:15:17+00:00\",\"2021-08-20T00:36:40+00:00\",\"2021-08-23T10:00:07+00:00\",\"2021-08-19T23:12:42+00:00\",\"2021-08-23T13:44:15+00:00\",\"2021-08-30T04:59:09+00:00\",\"2021-08-23T08:12:06+00:00\",\"2021-08-20T00:35:47+00:00\",\"2021-08-23T14:46:50+00:00\",\"2021-08-30T04:55:37+00:00\",\"2021-08-19T23:35:34+00:00\",\"2021-08-19T23:10:08+00:00\",\"2021-08-23T13:39:36+00:00\",\"2021-08-19T23:16:45+00:00\",\"2021-08-23T10:13:08+00:00\",\"2021-08-23T14:59:54+00:00\",\"2021-08-23T07:39:06+00:00\",\"2021-08-19T23:17:44+00:00\",\"2021-08-20T17:35:38+00:00\",\"2021-08-23T07:36:09+00:00\",\"2021-08-19T23:33:27+00:00\",\"2021-08-23T07:49:33+00:00\",\"2021-08-23T07:41:51+00:00\",\"2021-08-27T14:56:36+00:00\",\"2021-08-19T23:14:17+00:00\",\"2021-08-23T07:43:06+00:00\",\"2021-08-19T23:21:52+00:00\",\"2021-08-20T00:38:12+00:00\",\"2021-08-23T08:09:55+00:00\",\"2021-07-13T20:03:31+00:00\",\"2021-08-19T23:16:11+00:00\",\"2021-08-23T13:38:33+00:00\",\"2021-08-19T23:35:24+00:00\",\"2021-08-23T09:58:05+00:00\"],\"yaxis\":\"y\"},{\"hovertemplate\":\"color=[\\\"No\\\"]<br>x=%{x}<br>y=%{y}<extra></extra>\",\"legendgroup\":\"[\\\"No\\\"]\",\"marker\":{\"color\":\"#EF553B\",\"symbol\":\"circle\"},\"mode\":\"markers\",\"name\":\"[\\\"No\\\"]\",\"orientation\":\"v\",\"showlegend\":true,\"type\":\"scatter\",\"x\":[\"2021-08-23T06:29:15+00:00\",\"2021-08-23T11:30:42+00:00\",\"2021-08-30T04:47:24+00:00\",\"2021-08-23T06:25:54+00:00\",\"2021-08-23T06:51:19+00:00\",\"2021-08-23T11:53:53+00:00\",\"2021-08-20T00:35:50+00:00\",\"2021-08-23T07:43:11+00:00\",\"2021-08-23T14:45:13+00:00\",\"2021-08-19T23:23:07+00:00\",\"2021-08-23T11:38:59+00:00\",\"2021-08-19T23:33:33+00:00\",\"2021-08-23T08:10:09+00:00\",\"2021-08-23T11:51:12+00:00\",\"2021-08-23T07:49:48+00:00\",\"2021-08-30T04:51:06+00:00\",\"2021-08-23T13:39:48+00:00\",\"2021-08-30T16:55:21+00:00\",\"2021-08-19T23:34:47+00:00\",\"2021-08-23T06:29:32+00:00\",\"2021-08-23T13:33:52+00:00\",\"2021-08-23T11:16:34+00:00\",\"2021-08-23T06:54:48+00:00\",\"2021-08-27T14:44:03+00:00\",\"2021-08-27T14:47:49+00:00\",\"2021-08-19T23:21:25+00:00\",\"2021-08-25T23:16:09+00:00\",\"2021-08-23T11:31:48+00:00\",\"2021-08-19T23:08:25+00:00\",\"2021-08-23T14:47:31+00:00\",\"2021-08-19T23:35:47+00:00\",\"2021-08-30T04:49:31+00:00\",\"2021-08-19T23:18:34+00:00\",\"2021-08-23T15:07:07+00:00\",\"2021-08-20T00:36:10+00:00\",\"2021-08-23T10:19:02+00:00\",\"2021-08-23T07:36:25+00:00\",\"2021-08-30T04:55:39+00:00\",\"2021-08-20T00:37:04+00:00\",\"2021-08-23T13:55:02+00:00\"],\"xaxis\":\"x\",\"y\":[\"2021-08-23T06:29:21+00:00\",\"2021-08-23T11:31:43+00:00\",\"2021-08-30T04:49:17+00:00\",\"2021-08-23T06:26:06+00:00\",\"2021-08-23T06:54:00+00:00\",\"2021-08-23T11:55:29+00:00\",\"2021-08-20T00:36:06+00:00\",\"2021-08-23T07:44:45+00:00\",\"2021-08-23T14:46:21+00:00\",\"2021-08-19T23:23:22+00:00\",\"2021-08-23T11:42:09+00:00\",\"2021-08-19T23:34:26+00:00\",\"2021-08-23T08:10:41+00:00\",\"2021-08-23T11:51:30+00:00\",\"2021-08-23T07:52:04+00:00\",\"2021-08-30T04:52:34+00:00\",\"2021-08-23T13:41:35+00:00\",\"2021-08-30T16:56:46+00:00\",\"2021-08-19T23:35:12+00:00\",\"2021-08-23T06:29:36+00:00\",\"2021-08-23T13:36:14+00:00\",\"2021-08-23T11:18:06+00:00\",\"2021-08-23T06:56:30+00:00\",\"2021-08-27T14:44:32+00:00\",\"2021-08-27T14:48:40+00:00\",\"2021-08-19T23:21:38+00:00\",\"2021-08-25T23:19:55+00:00\",\"2021-08-23T11:32:30+00:00\",\"2021-08-19T23:09:29+00:00\",\"2021-08-23T14:48:08+00:00\",\"2021-08-19T23:36:15+00:00\",\"2021-08-30T04:51:01+00:00\",\"2021-08-19T23:19:35+00:00\",\"2021-08-23T15:08:40+00:00\",\"2021-08-20T00:36:29+00:00\",\"2021-08-23T10:21:58+00:00\",\"2021-08-23T07:38:14+00:00\",\"2021-08-30T04:57:21+00:00\",\"2021-08-20T00:37:24+00:00\",\"2021-08-23T13:56:09+00:00\"],\"yaxis\":\"y\"},{\"hovertemplate\":\"color=[\\\"Not sure (skip)\\\"]<br>x=%{x}<br>y=%{y}<extra></extra>\",\"legendgroup\":\"[\\\"Not sure (skip)\\\"]\",\"marker\":{\"color\":\"#00cc96\",\"symbol\":\"circle\"},\"mode\":\"markers\",\"name\":\"[\\\"Not sure (skip)\\\"]\",\"orientation\":\"v\",\"showlegend\":true,\"type\":\"scatter\",\"x\":[\"2021-08-30T04:52:38+00:00\",\"2021-08-23T10:56:00+00:00\",\"2021-08-19T23:06:49+00:00\",\"2021-08-25T23:28:07+00:00\",\"2021-08-19T23:22:17+00:00\",\"2021-08-25T23:24:27+00:00\"],\"xaxis\":\"x\",\"y\":[\"2021-08-30T04:54:06+00:00\",\"2021-08-23T10:57:53+00:00\",\"2021-08-19T23:08:19+00:00\",\"2021-08-25T23:31:17+00:00\",\"2021-08-19T23:22:47+00:00\",\"2021-08-25T23:28:05+00:00\"],\"yaxis\":\"y\"}],                        {\"legend\":{\"title\":{\"text\":\"color\"},\"tracegroupgap\":0},\"margin\":{\"t\":60},\"template\":{\"data\":{\"bar\":[{\"error_x\":{\"color\":\"#2a3f5f\"},\"error_y\":{\"color\":\"#2a3f5f\"},\"marker\":{\"line\":{\"color\":\"#E5ECF6\",\"width\":0.5},\"pattern\":{\"fillmode\":\"overlay\",\"size\":10,\"solidity\":0.2}},\"type\":\"bar\"}],\"barpolar\":[{\"marker\":{\"line\":{\"color\":\"#E5ECF6\",\"width\":0.5},\"pattern\":{\"fillmode\":\"overlay\",\"size\":10,\"solidity\":0.2}},\"type\":\"barpolar\"}],\"carpet\":[{\"aaxis\":{\"endlinecolor\":\"#2a3f5f\",\"gridcolor\":\"white\",\"linecolor\":\"white\",\"minorgridcolor\":\"white\",\"startlinecolor\":\"#2a3f5f\"},\"baxis\":{\"endlinecolor\":\"#2a3f5f\",\"gridcolor\":\"white\",\"linecolor\":\"white\",\"minorgridcolor\":\"white\",\"startlinecolor\":\"#2a3f5f\"},\"type\":\"carpet\"}],\"choropleth\":[{\"colorbar\":{\"outlinewidth\":0,\"ticks\":\"\"},\"type\":\"choropleth\"}],\"contour\":[{\"colorbar\":{\"outlinewidth\":0,\"ticks\":\"\"},\"colorscale\":[[0.0,\"#0d0887\"],[0.1111111111111111,\"#46039f\"],[0.2222222222222222,\"#7201a8\"],[0.3333333333333333,\"#9c179e\"],[0.4444444444444444,\"#bd3786\"],[0.5555555555555556,\"#d8576b\"],[0.6666666666666666,\"#ed7953\"],[0.7777777777777778,\"#fb9f3a\"],[0.8888888888888888,\"#fdca26\"],[1.0,\"#f0f921\"]],\"type\":\"contour\"}],\"contourcarpet\":[{\"colorbar\":{\"outlinewidth\":0,\"ticks\":\"\"},\"type\":\"contourcarpet\"}],\"heatmap\":[{\"colorbar\":{\"outlinewidth\":0,\"ticks\":\"\"},\"colorscale\":[[0.0,\"#0d0887\"],[0.1111111111111111,\"#46039f\"],[0.2222222222222222,\"#7201a8\"],[0.3333333333333333,\"#9c179e\"],[0.4444444444444444,\"#bd3786\"],[0.5555555555555556,\"#d8576b\"],[0.6666666666666666,\"#ed7953\"],[0.7777777777777778,\"#fb9f3a\"],[0.8888888888888888,\"#fdca26\"],[1.0,\"#f0f921\"]],\"type\":\"heatmap\"}],\"heatmapgl\":[{\"colorbar\":{\"outlinewidth\":0,\"ticks\":\"\"},\"colorscale\":[[0.0,\"#0d0887\"],[0.1111111111111111,\"#46039f\"],[0.2222222222222222,\"#7201a8\"],[0.3333333333333333,\"#9c179e\"],[0.4444444444444444,\"#bd3786\"],[0.5555555555555556,\"#d8576b\"],[0.6666666666666666,\"#ed7953\"],[0.7777777777777778,\"#fb9f3a\"],[0.8888888888888888,\"#fdca26\"],[1.0,\"#f0f921\"]],\"type\":\"heatmapgl\"}],\"histogram\":[{\"marker\":{\"pattern\":{\"fillmode\":\"overlay\",\"size\":10,\"solidity\":0.2}},\"type\":\"histogram\"}],\"histogram2d\":[{\"colorbar\":{\"outlinewidth\":0,\"ticks\":\"\"},\"colorscale\":[[0.0,\"#0d0887\"],[0.1111111111111111,\"#46039f\"],[0.2222222222222222,\"#7201a8\"],[0.3333333333333333,\"#9c179e\"],[0.4444444444444444,\"#bd3786\"],[0.5555555555555556,\"#d8576b\"],[0.6666666666666666,\"#ed7953\"],[0.7777777777777778,\"#fb9f3a\"],[0.8888888888888888,\"#fdca26\"],[1.0,\"#f0f921\"]],\"type\":\"histogram2d\"}],\"histogram2dcontour\":[{\"colorbar\":{\"outlinewidth\":0,\"ticks\":\"\"},\"colorscale\":[[0.0,\"#0d0887\"],[0.1111111111111111,\"#46039f\"],[0.2222222222222222,\"#7201a8\"],[0.3333333333333333,\"#9c179e\"],[0.4444444444444444,\"#bd3786\"],[0.5555555555555556,\"#d8576b\"],[0.6666666666666666,\"#ed7953\"],[0.7777777777777778,\"#fb9f3a\"],[0.8888888888888888,\"#fdca26\"],[1.0,\"#f0f921\"]],\"type\":\"histogram2dcontour\"}],\"mesh3d\":[{\"colorbar\":{\"outlinewidth\":0,\"ticks\":\"\"},\"type\":\"mesh3d\"}],\"parcoords\":[{\"line\":{\"colorbar\":{\"outlinewidth\":0,\"ticks\":\"\"}},\"type\":\"parcoords\"}],\"pie\":[{\"automargin\":true,\"type\":\"pie\"}],\"scatter\":[{\"marker\":{\"colorbar\":{\"outlinewidth\":0,\"ticks\":\"\"}},\"type\":\"scatter\"}],\"scatter3d\":[{\"line\":{\"colorbar\":{\"outlinewidth\":0,\"ticks\":\"\"}},\"marker\":{\"colorbar\":{\"outlinewidth\":0,\"ticks\":\"\"}},\"type\":\"scatter3d\"}],\"scattercarpet\":[{\"marker\":{\"colorbar\":{\"outlinewidth\":0,\"ticks\":\"\"}},\"type\":\"scattercarpet\"}],\"scattergeo\":[{\"marker\":{\"colorbar\":{\"outlinewidth\":0,\"ticks\":\"\"}},\"type\":\"scattergeo\"}],\"scattergl\":[{\"marker\":{\"colorbar\":{\"outlinewidth\":0,\"ticks\":\"\"}},\"type\":\"scattergl\"}],\"scattermapbox\":[{\"marker\":{\"colorbar\":{\"outlinewidth\":0,\"ticks\":\"\"}},\"type\":\"scattermapbox\"}],\"scatterpolar\":[{\"marker\":{\"colorbar\":{\"outlinewidth\":0,\"ticks\":\"\"}},\"type\":\"scatterpolar\"}],\"scatterpolargl\":[{\"marker\":{\"colorbar\":{\"outlinewidth\":0,\"ticks\":\"\"}},\"type\":\"scatterpolargl\"}],\"scatterternary\":[{\"marker\":{\"colorbar\":{\"outlinewidth\":0,\"ticks\":\"\"}},\"type\":\"scatterternary\"}],\"surface\":[{\"colorbar\":{\"outlinewidth\":0,\"ticks\":\"\"},\"colorscale\":[[0.0,\"#0d0887\"],[0.1111111111111111,\"#46039f\"],[0.2222222222222222,\"#7201a8\"],[0.3333333333333333,\"#9c179e\"],[0.4444444444444444,\"#bd3786\"],[0.5555555555555556,\"#d8576b\"],[0.6666666666666666,\"#ed7953\"],[0.7777777777777778,\"#fb9f3a\"],[0.8888888888888888,\"#fdca26\"],[1.0,\"#f0f921\"]],\"type\":\"surface\"}],\"table\":[{\"cells\":{\"fill\":{\"color\":\"#EBF0F8\"},\"line\":{\"color\":\"white\"}},\"header\":{\"fill\":{\"color\":\"#C8D4E3\"},\"line\":{\"color\":\"white\"}},\"type\":\"table\"}]},\"layout\":{\"annotationdefaults\":{\"arrowcolor\":\"#2a3f5f\",\"arrowhead\":0,\"arrowwidth\":1},\"autotypenumbers\":\"strict\",\"coloraxis\":{\"colorbar\":{\"outlinewidth\":0,\"ticks\":\"\"}},\"colorscale\":{\"diverging\":[[0,\"#8e0152\"],[0.1,\"#c51b7d\"],[0.2,\"#de77ae\"],[0.3,\"#f1b6da\"],[0.4,\"#fde0ef\"],[0.5,\"#f7f7f7\"],[0.6,\"#e6f5d0\"],[0.7,\"#b8e186\"],[0.8,\"#7fbc41\"],[0.9,\"#4d9221\"],[1,\"#276419\"]],\"sequential\":[[0.0,\"#0d0887\"],[0.1111111111111111,\"#46039f\"],[0.2222222222222222,\"#7201a8\"],[0.3333333333333333,\"#9c179e\"],[0.4444444444444444,\"#bd3786\"],[0.5555555555555556,\"#d8576b\"],[0.6666666666666666,\"#ed7953\"],[0.7777777777777778,\"#fb9f3a\"],[0.8888888888888888,\"#fdca26\"],[1.0,\"#f0f921\"]],\"sequentialminus\":[[0.0,\"#0d0887\"],[0.1111111111111111,\"#46039f\"],[0.2222222222222222,\"#7201a8\"],[0.3333333333333333,\"#9c179e\"],[0.4444444444444444,\"#bd3786\"],[0.5555555555555556,\"#d8576b\"],[0.6666666666666666,\"#ed7953\"],[0.7777777777777778,\"#fb9f3a\"],[0.8888888888888888,\"#fdca26\"],[1.0,\"#f0f921\"]]},\"colorway\":[\"#636efa\",\"#EF553B\",\"#00cc96\",\"#ab63fa\",\"#FFA15A\",\"#19d3f3\",\"#FF6692\",\"#B6E880\",\"#FF97FF\",\"#FECB52\"],\"font\":{\"color\":\"#2a3f5f\"},\"geo\":{\"bgcolor\":\"white\",\"lakecolor\":\"white\",\"landcolor\":\"#E5ECF6\",\"showlakes\":true,\"showland\":true,\"subunitcolor\":\"white\"},\"hoverlabel\":{\"align\":\"left\"},\"hovermode\":\"closest\",\"mapbox\":{\"style\":\"light\"},\"paper_bgcolor\":\"white\",\"plot_bgcolor\":\"#E5ECF6\",\"polar\":{\"angularaxis\":{\"gridcolor\":\"white\",\"linecolor\":\"white\",\"ticks\":\"\"},\"bgcolor\":\"#E5ECF6\",\"radialaxis\":{\"gridcolor\":\"white\",\"linecolor\":\"white\",\"ticks\":\"\"}},\"scene\":{\"xaxis\":{\"backgroundcolor\":\"#E5ECF6\",\"gridcolor\":\"white\",\"gridwidth\":2,\"linecolor\":\"white\",\"showbackground\":true,\"ticks\":\"\",\"zerolinecolor\":\"white\"},\"yaxis\":{\"backgroundcolor\":\"#E5ECF6\",\"gridcolor\":\"white\",\"gridwidth\":2,\"linecolor\":\"white\",\"showbackground\":true,\"ticks\":\"\",\"zerolinecolor\":\"white\"},\"zaxis\":{\"backgroundcolor\":\"#E5ECF6\",\"gridcolor\":\"white\",\"gridwidth\":2,\"linecolor\":\"white\",\"showbackground\":true,\"ticks\":\"\",\"zerolinecolor\":\"white\"}},\"shapedefaults\":{\"line\":{\"color\":\"#2a3f5f\"}},\"ternary\":{\"aaxis\":{\"gridcolor\":\"white\",\"linecolor\":\"white\",\"ticks\":\"\"},\"baxis\":{\"gridcolor\":\"white\",\"linecolor\":\"white\",\"ticks\":\"\"},\"bgcolor\":\"#E5ECF6\",\"caxis\":{\"gridcolor\":\"white\",\"linecolor\":\"white\",\"ticks\":\"\"}},\"title\":{\"x\":0.05},\"xaxis\":{\"automargin\":true,\"gridcolor\":\"white\",\"linecolor\":\"white\",\"ticks\":\"\",\"title\":{\"standoff\":15},\"zerolinecolor\":\"white\",\"zerolinewidth\":2},\"yaxis\":{\"automargin\":true,\"gridcolor\":\"white\",\"linecolor\":\"white\",\"ticks\":\"\",\"title\":{\"standoff\":15},\"zerolinecolor\":\"white\",\"zerolinewidth\":2}}},\"xaxis\":{\"anchor\":\"y\",\"domain\":[0.0,1.0],\"title\":{\"text\":\"x\"}},\"yaxis\":{\"anchor\":\"x\",\"domain\":[0.0,1.0],\"title\":{\"text\":\"y\"}}},                        {\"responsive\": true}                    ).then(function(){\n",
       "                            \n",
       "var gd = document.getElementById('f2ea618d-bc2e-42b2-ab7d-737d240ffccd');\n",
       "var x = new MutationObserver(function (mutations, observer) {{\n",
       "        var display = window.getComputedStyle(gd).display;\n",
       "        if (!display || display === 'none') {{\n",
       "            console.log([gd, 'removed!']);\n",
       "            Plotly.purge(gd);\n",
       "            observer.disconnect();\n",
       "        }}\n",
       "}});\n",
       "\n",
       "// Listen for the removal of the full notebook cells\n",
       "var notebookContainer = gd.closest('#notebook-container');\n",
       "if (notebookContainer) {{\n",
       "    x.observe(notebookContainer, {childList: true});\n",
       "}}\n",
       "\n",
       "// Listen for the clearing of the current output cell\n",
       "var outputEl = gd.closest('.output');\n",
       "if (outputEl) {{\n",
       "    x.observe(outputEl, {childList: true});\n",
       "}}\n",
       "\n",
       "                        })                };                });            </script>        </div>"
      ]
     },
     "metadata": {},
     "output_type": "display_data"
    }
   ],
   "source": [
    "fig = px.scatter(x=df[\"AcceptTime\"], y=df[\"SubmitTime\"], color = df[\"category.labels\"])\n",
    "fig.show() "
   ]
  },
  {
   "cell_type": "code",
   "execution_count": 62,
   "id": "fca47bf1",
   "metadata": {},
   "outputs": [],
   "source": [
    "# SubmitTime and AcceptTime were formatted as datetime but stored as strings\n",
    "# Converting to datetime objects\n",
    "df[\"SubmitTime\"] = pd.to_datetime(df[\"SubmitTime\"])\n",
    "df[\"AcceptTime\"] = pd.to_datetime(df[\"AcceptTime\"])"
   ]
  },
  {
   "cell_type": "code",
   "execution_count": 65,
   "id": "1a59704e",
   "metadata": {},
   "outputs": [
    {
     "data": {
      "text/plain": [
       "count                          120\n",
       "mean     0 days 00:01:12.158333333\n",
       "std      0 days 00:01:26.584683940\n",
       "min                0 days 00:00:04\n",
       "25%                0 days 00:00:17\n",
       "50%                0 days 00:00:46\n",
       "75%         0 days 00:01:36.250000\n",
       "max                0 days 00:09:31\n",
       "Name: TaskDuration, dtype: object"
      ]
     },
     "execution_count": 65,
     "metadata": {},
     "output_type": "execute_result"
    }
   ],
   "source": [
    "df[\"TaskDuration\"] = df[\"SubmitTime\"] - df[\"AcceptTime\"]\n",
    "df.TaskDuration.describe()"
   ]
  },
  {
   "cell_type": "code",
   "execution_count": 79,
   "id": "3084687c",
   "metadata": {},
   "outputs": [
    {
     "data": {
      "application/vnd.plotly.v1+json": {
       "config": {
        "plotlyServerURL": "https://plot.ly"
       },
       "data": [
        {
         "hovertemplate": "category.labels=[\"Yes\"]<br>TaskDuration=%{x}<br>index=%{y}<extra></extra>",
         "legendgroup": "[\"Yes\"]",
         "marker": {
          "color": "#636efa",
          "symbol": "circle"
         },
         "mode": "markers",
         "name": "[\"Yes\"]",
         "orientation": "h",
         "showlegend": true,
         "type": "scatter",
         "x": [
          6000000000,
          525000000000,
          134000000000,
          100000000000,
          7000000000,
          110000000000,
          57000000000,
          5000000000,
          19000000000,
          41000000000,
          21000000000,
          23000000000,
          46000000000,
          42000000000,
          46000000000,
          70000000000,
          17000000000,
          52000000000,
          27000000000,
          12000000000,
          20000000000,
          50000000000,
          11000000000,
          4000000000,
          10000000000,
          121000000000,
          8000000000,
          27000000000,
          14000000000,
          369000000000,
          14000000000,
          97000000000,
          6000000000,
          14000000000,
          29000000000,
          27000000000,
          196000000000,
          571000000000,
          178000000000,
          5000000000,
          63000000000,
          7000000000,
          101000000000,
          13000000000,
          97000000000,
          88000000000,
          73000000000,
          7000000000,
          24000000000,
          39000000000,
          7000000000,
          33000000000,
          13000000000,
          31000000000,
          81000000000,
          154000000000,
          44000000000,
          17000000000,
          13000000000,
          69000000000,
          22000000000,
          166000000000,
          154000000000,
          7000000000,
          46000000000,
          63000000000,
          11000000000,
          7000000000,
          83000000000,
          44000000000,
          56000000000,
          120000000000,
          8000000000,
          95000000000
         ],
         "xaxis": "x",
         "y": [
          0,
          1,
          2,
          3,
          4,
          7,
          8,
          10,
          13,
          17,
          19,
          20,
          21,
          26,
          28,
          29,
          30,
          31,
          32,
          35,
          41,
          42,
          44,
          46,
          47,
          48,
          50,
          51,
          52,
          53,
          54,
          55,
          56,
          59,
          60,
          61,
          62,
          64,
          65,
          66,
          67,
          68,
          69,
          70,
          71,
          72,
          74,
          76,
          77,
          78,
          79,
          81,
          82,
          83,
          84,
          88,
          91,
          95,
          96,
          97,
          98,
          99,
          101,
          102,
          103,
          104,
          105,
          107,
          108,
          109,
          110,
          111,
          118,
          119
         ],
         "yaxis": "y"
        },
        {
         "hovertemplate": "category.labels=[\"No\"]<br>TaskDuration=%{x}<br>index=%{y}<extra></extra>",
         "legendgroup": "[\"No\"]",
         "marker": {
          "color": "#EF553B",
          "symbol": "circle"
         },
         "mode": "markers",
         "name": "[\"No\"]",
         "orientation": "h",
         "showlegend": true,
         "type": "scatter",
         "x": [
          6000000000,
          61000000000,
          113000000000,
          12000000000,
          161000000000,
          96000000000,
          16000000000,
          94000000000,
          68000000000,
          15000000000,
          190000000000,
          53000000000,
          32000000000,
          18000000000,
          136000000000,
          88000000000,
          107000000000,
          85000000000,
          25000000000,
          4000000000,
          142000000000,
          92000000000,
          102000000000,
          29000000000,
          51000000000,
          13000000000,
          226000000000,
          42000000000,
          64000000000,
          37000000000,
          28000000000,
          90000000000,
          61000000000,
          93000000000,
          19000000000,
          176000000000,
          109000000000,
          102000000000,
          20000000000,
          67000000000
         ],
         "xaxis": "x",
         "y": [
          5,
          6,
          9,
          11,
          12,
          14,
          15,
          16,
          18,
          22,
          23,
          24,
          25,
          27,
          33,
          34,
          36,
          37,
          38,
          39,
          40,
          45,
          57,
          58,
          63,
          73,
          75,
          80,
          85,
          86,
          87,
          89,
          92,
          93,
          100,
          106,
          113,
          114,
          115,
          116
         ],
         "yaxis": "y"
        },
        {
         "hovertemplate": "category.labels=[\"Not sure (skip)\"]<br>TaskDuration=%{x}<br>index=%{y}<extra></extra>",
         "legendgroup": "[\"Not sure (skip)\"]",
         "marker": {
          "color": "#00cc96",
          "symbol": "circle"
         },
         "mode": "markers",
         "name": "[\"Not sure (skip)\"]",
         "orientation": "h",
         "showlegend": true,
         "type": "scatter",
         "x": [
          88000000000,
          113000000000,
          90000000000,
          190000000000,
          30000000000,
          218000000000
         ],
         "xaxis": "x",
         "y": [
          43,
          49,
          90,
          94,
          112,
          117
         ],
         "yaxis": "y"
        }
       ],
       "layout": {
        "legend": {
         "title": {
          "text": "category.labels"
         },
         "tracegroupgap": 0
        },
        "margin": {
         "t": 60
        },
        "template": {
         "data": {
          "bar": [
           {
            "error_x": {
             "color": "#2a3f5f"
            },
            "error_y": {
             "color": "#2a3f5f"
            },
            "marker": {
             "line": {
              "color": "#E5ECF6",
              "width": 0.5
             },
             "pattern": {
              "fillmode": "overlay",
              "size": 10,
              "solidity": 0.2
             }
            },
            "type": "bar"
           }
          ],
          "barpolar": [
           {
            "marker": {
             "line": {
              "color": "#E5ECF6",
              "width": 0.5
             },
             "pattern": {
              "fillmode": "overlay",
              "size": 10,
              "solidity": 0.2
             }
            },
            "type": "barpolar"
           }
          ],
          "carpet": [
           {
            "aaxis": {
             "endlinecolor": "#2a3f5f",
             "gridcolor": "white",
             "linecolor": "white",
             "minorgridcolor": "white",
             "startlinecolor": "#2a3f5f"
            },
            "baxis": {
             "endlinecolor": "#2a3f5f",
             "gridcolor": "white",
             "linecolor": "white",
             "minorgridcolor": "white",
             "startlinecolor": "#2a3f5f"
            },
            "type": "carpet"
           }
          ],
          "choropleth": [
           {
            "colorbar": {
             "outlinewidth": 0,
             "ticks": ""
            },
            "type": "choropleth"
           }
          ],
          "contour": [
           {
            "colorbar": {
             "outlinewidth": 0,
             "ticks": ""
            },
            "colorscale": [
             [
              0,
              "#0d0887"
             ],
             [
              0.1111111111111111,
              "#46039f"
             ],
             [
              0.2222222222222222,
              "#7201a8"
             ],
             [
              0.3333333333333333,
              "#9c179e"
             ],
             [
              0.4444444444444444,
              "#bd3786"
             ],
             [
              0.5555555555555556,
              "#d8576b"
             ],
             [
              0.6666666666666666,
              "#ed7953"
             ],
             [
              0.7777777777777778,
              "#fb9f3a"
             ],
             [
              0.8888888888888888,
              "#fdca26"
             ],
             [
              1,
              "#f0f921"
             ]
            ],
            "type": "contour"
           }
          ],
          "contourcarpet": [
           {
            "colorbar": {
             "outlinewidth": 0,
             "ticks": ""
            },
            "type": "contourcarpet"
           }
          ],
          "heatmap": [
           {
            "colorbar": {
             "outlinewidth": 0,
             "ticks": ""
            },
            "colorscale": [
             [
              0,
              "#0d0887"
             ],
             [
              0.1111111111111111,
              "#46039f"
             ],
             [
              0.2222222222222222,
              "#7201a8"
             ],
             [
              0.3333333333333333,
              "#9c179e"
             ],
             [
              0.4444444444444444,
              "#bd3786"
             ],
             [
              0.5555555555555556,
              "#d8576b"
             ],
             [
              0.6666666666666666,
              "#ed7953"
             ],
             [
              0.7777777777777778,
              "#fb9f3a"
             ],
             [
              0.8888888888888888,
              "#fdca26"
             ],
             [
              1,
              "#f0f921"
             ]
            ],
            "type": "heatmap"
           }
          ],
          "heatmapgl": [
           {
            "colorbar": {
             "outlinewidth": 0,
             "ticks": ""
            },
            "colorscale": [
             [
              0,
              "#0d0887"
             ],
             [
              0.1111111111111111,
              "#46039f"
             ],
             [
              0.2222222222222222,
              "#7201a8"
             ],
             [
              0.3333333333333333,
              "#9c179e"
             ],
             [
              0.4444444444444444,
              "#bd3786"
             ],
             [
              0.5555555555555556,
              "#d8576b"
             ],
             [
              0.6666666666666666,
              "#ed7953"
             ],
             [
              0.7777777777777778,
              "#fb9f3a"
             ],
             [
              0.8888888888888888,
              "#fdca26"
             ],
             [
              1,
              "#f0f921"
             ]
            ],
            "type": "heatmapgl"
           }
          ],
          "histogram": [
           {
            "marker": {
             "pattern": {
              "fillmode": "overlay",
              "size": 10,
              "solidity": 0.2
             }
            },
            "type": "histogram"
           }
          ],
          "histogram2d": [
           {
            "colorbar": {
             "outlinewidth": 0,
             "ticks": ""
            },
            "colorscale": [
             [
              0,
              "#0d0887"
             ],
             [
              0.1111111111111111,
              "#46039f"
             ],
             [
              0.2222222222222222,
              "#7201a8"
             ],
             [
              0.3333333333333333,
              "#9c179e"
             ],
             [
              0.4444444444444444,
              "#bd3786"
             ],
             [
              0.5555555555555556,
              "#d8576b"
             ],
             [
              0.6666666666666666,
              "#ed7953"
             ],
             [
              0.7777777777777778,
              "#fb9f3a"
             ],
             [
              0.8888888888888888,
              "#fdca26"
             ],
             [
              1,
              "#f0f921"
             ]
            ],
            "type": "histogram2d"
           }
          ],
          "histogram2dcontour": [
           {
            "colorbar": {
             "outlinewidth": 0,
             "ticks": ""
            },
            "colorscale": [
             [
              0,
              "#0d0887"
             ],
             [
              0.1111111111111111,
              "#46039f"
             ],
             [
              0.2222222222222222,
              "#7201a8"
             ],
             [
              0.3333333333333333,
              "#9c179e"
             ],
             [
              0.4444444444444444,
              "#bd3786"
             ],
             [
              0.5555555555555556,
              "#d8576b"
             ],
             [
              0.6666666666666666,
              "#ed7953"
             ],
             [
              0.7777777777777778,
              "#fb9f3a"
             ],
             [
              0.8888888888888888,
              "#fdca26"
             ],
             [
              1,
              "#f0f921"
             ]
            ],
            "type": "histogram2dcontour"
           }
          ],
          "mesh3d": [
           {
            "colorbar": {
             "outlinewidth": 0,
             "ticks": ""
            },
            "type": "mesh3d"
           }
          ],
          "parcoords": [
           {
            "line": {
             "colorbar": {
              "outlinewidth": 0,
              "ticks": ""
             }
            },
            "type": "parcoords"
           }
          ],
          "pie": [
           {
            "automargin": true,
            "type": "pie"
           }
          ],
          "scatter": [
           {
            "marker": {
             "colorbar": {
              "outlinewidth": 0,
              "ticks": ""
             }
            },
            "type": "scatter"
           }
          ],
          "scatter3d": [
           {
            "line": {
             "colorbar": {
              "outlinewidth": 0,
              "ticks": ""
             }
            },
            "marker": {
             "colorbar": {
              "outlinewidth": 0,
              "ticks": ""
             }
            },
            "type": "scatter3d"
           }
          ],
          "scattercarpet": [
           {
            "marker": {
             "colorbar": {
              "outlinewidth": 0,
              "ticks": ""
             }
            },
            "type": "scattercarpet"
           }
          ],
          "scattergeo": [
           {
            "marker": {
             "colorbar": {
              "outlinewidth": 0,
              "ticks": ""
             }
            },
            "type": "scattergeo"
           }
          ],
          "scattergl": [
           {
            "marker": {
             "colorbar": {
              "outlinewidth": 0,
              "ticks": ""
             }
            },
            "type": "scattergl"
           }
          ],
          "scattermapbox": [
           {
            "marker": {
             "colorbar": {
              "outlinewidth": 0,
              "ticks": ""
             }
            },
            "type": "scattermapbox"
           }
          ],
          "scatterpolar": [
           {
            "marker": {
             "colorbar": {
              "outlinewidth": 0,
              "ticks": ""
             }
            },
            "type": "scatterpolar"
           }
          ],
          "scatterpolargl": [
           {
            "marker": {
             "colorbar": {
              "outlinewidth": 0,
              "ticks": ""
             }
            },
            "type": "scatterpolargl"
           }
          ],
          "scatterternary": [
           {
            "marker": {
             "colorbar": {
              "outlinewidth": 0,
              "ticks": ""
             }
            },
            "type": "scatterternary"
           }
          ],
          "surface": [
           {
            "colorbar": {
             "outlinewidth": 0,
             "ticks": ""
            },
            "colorscale": [
             [
              0,
              "#0d0887"
             ],
             [
              0.1111111111111111,
              "#46039f"
             ],
             [
              0.2222222222222222,
              "#7201a8"
             ],
             [
              0.3333333333333333,
              "#9c179e"
             ],
             [
              0.4444444444444444,
              "#bd3786"
             ],
             [
              0.5555555555555556,
              "#d8576b"
             ],
             [
              0.6666666666666666,
              "#ed7953"
             ],
             [
              0.7777777777777778,
              "#fb9f3a"
             ],
             [
              0.8888888888888888,
              "#fdca26"
             ],
             [
              1,
              "#f0f921"
             ]
            ],
            "type": "surface"
           }
          ],
          "table": [
           {
            "cells": {
             "fill": {
              "color": "#EBF0F8"
             },
             "line": {
              "color": "white"
             }
            },
            "header": {
             "fill": {
              "color": "#C8D4E3"
             },
             "line": {
              "color": "white"
             }
            },
            "type": "table"
           }
          ]
         },
         "layout": {
          "annotationdefaults": {
           "arrowcolor": "#2a3f5f",
           "arrowhead": 0,
           "arrowwidth": 1
          },
          "autotypenumbers": "strict",
          "coloraxis": {
           "colorbar": {
            "outlinewidth": 0,
            "ticks": ""
           }
          },
          "colorscale": {
           "diverging": [
            [
             0,
             "#8e0152"
            ],
            [
             0.1,
             "#c51b7d"
            ],
            [
             0.2,
             "#de77ae"
            ],
            [
             0.3,
             "#f1b6da"
            ],
            [
             0.4,
             "#fde0ef"
            ],
            [
             0.5,
             "#f7f7f7"
            ],
            [
             0.6,
             "#e6f5d0"
            ],
            [
             0.7,
             "#b8e186"
            ],
            [
             0.8,
             "#7fbc41"
            ],
            [
             0.9,
             "#4d9221"
            ],
            [
             1,
             "#276419"
            ]
           ],
           "sequential": [
            [
             0,
             "#0d0887"
            ],
            [
             0.1111111111111111,
             "#46039f"
            ],
            [
             0.2222222222222222,
             "#7201a8"
            ],
            [
             0.3333333333333333,
             "#9c179e"
            ],
            [
             0.4444444444444444,
             "#bd3786"
            ],
            [
             0.5555555555555556,
             "#d8576b"
            ],
            [
             0.6666666666666666,
             "#ed7953"
            ],
            [
             0.7777777777777778,
             "#fb9f3a"
            ],
            [
             0.8888888888888888,
             "#fdca26"
            ],
            [
             1,
             "#f0f921"
            ]
           ],
           "sequentialminus": [
            [
             0,
             "#0d0887"
            ],
            [
             0.1111111111111111,
             "#46039f"
            ],
            [
             0.2222222222222222,
             "#7201a8"
            ],
            [
             0.3333333333333333,
             "#9c179e"
            ],
            [
             0.4444444444444444,
             "#bd3786"
            ],
            [
             0.5555555555555556,
             "#d8576b"
            ],
            [
             0.6666666666666666,
             "#ed7953"
            ],
            [
             0.7777777777777778,
             "#fb9f3a"
            ],
            [
             0.8888888888888888,
             "#fdca26"
            ],
            [
             1,
             "#f0f921"
            ]
           ]
          },
          "colorway": [
           "#636efa",
           "#EF553B",
           "#00cc96",
           "#ab63fa",
           "#FFA15A",
           "#19d3f3",
           "#FF6692",
           "#B6E880",
           "#FF97FF",
           "#FECB52"
          ],
          "font": {
           "color": "#2a3f5f"
          },
          "geo": {
           "bgcolor": "white",
           "lakecolor": "white",
           "landcolor": "#E5ECF6",
           "showlakes": true,
           "showland": true,
           "subunitcolor": "white"
          },
          "hoverlabel": {
           "align": "left"
          },
          "hovermode": "closest",
          "mapbox": {
           "style": "light"
          },
          "paper_bgcolor": "white",
          "plot_bgcolor": "#E5ECF6",
          "polar": {
           "angularaxis": {
            "gridcolor": "white",
            "linecolor": "white",
            "ticks": ""
           },
           "bgcolor": "#E5ECF6",
           "radialaxis": {
            "gridcolor": "white",
            "linecolor": "white",
            "ticks": ""
           }
          },
          "scene": {
           "xaxis": {
            "backgroundcolor": "#E5ECF6",
            "gridcolor": "white",
            "gridwidth": 2,
            "linecolor": "white",
            "showbackground": true,
            "ticks": "",
            "zerolinecolor": "white"
           },
           "yaxis": {
            "backgroundcolor": "#E5ECF6",
            "gridcolor": "white",
            "gridwidth": 2,
            "linecolor": "white",
            "showbackground": true,
            "ticks": "",
            "zerolinecolor": "white"
           },
           "zaxis": {
            "backgroundcolor": "#E5ECF6",
            "gridcolor": "white",
            "gridwidth": 2,
            "linecolor": "white",
            "showbackground": true,
            "ticks": "",
            "zerolinecolor": "white"
           }
          },
          "shapedefaults": {
           "line": {
            "color": "#2a3f5f"
           }
          },
          "ternary": {
           "aaxis": {
            "gridcolor": "white",
            "linecolor": "white",
            "ticks": ""
           },
           "baxis": {
            "gridcolor": "white",
            "linecolor": "white",
            "ticks": ""
           },
           "bgcolor": "#E5ECF6",
           "caxis": {
            "gridcolor": "white",
            "linecolor": "white",
            "ticks": ""
           }
          },
          "title": {
           "x": 0.05
          },
          "xaxis": {
           "automargin": true,
           "gridcolor": "white",
           "linecolor": "white",
           "ticks": "",
           "title": {
            "standoff": 15
           },
           "zerolinecolor": "white",
           "zerolinewidth": 2
          },
          "yaxis": {
           "automargin": true,
           "gridcolor": "white",
           "linecolor": "white",
           "ticks": "",
           "title": {
            "standoff": 15
           },
           "zerolinecolor": "white",
           "zerolinewidth": 2
          }
         }
        },
        "xaxis": {
         "anchor": "y",
         "domain": [
          0,
          1
         ],
         "title": {
          "text": "TaskDuration"
         }
        },
        "yaxis": {
         "anchor": "x",
         "domain": [
          0,
          1
         ],
         "title": {
          "text": "index"
         }
        }
       }
      },
      "text/html": [
       "<div>                            <div id=\"b24e47ec-7513-4c84-8803-85b94015c0ec\" class=\"plotly-graph-div\" style=\"height:525px; width:100%;\"></div>            <script type=\"text/javascript\">                require([\"plotly\"], function(Plotly) {                    window.PLOTLYENV=window.PLOTLYENV || {};                                    if (document.getElementById(\"b24e47ec-7513-4c84-8803-85b94015c0ec\")) {                    Plotly.newPlot(                        \"b24e47ec-7513-4c84-8803-85b94015c0ec\",                        [{\"hovertemplate\":\"category.labels=[\\\"Yes\\\"]<br>TaskDuration=%{x}<br>index=%{y}<extra></extra>\",\"legendgroup\":\"[\\\"Yes\\\"]\",\"marker\":{\"color\":\"#636efa\",\"symbol\":\"circle\"},\"mode\":\"markers\",\"name\":\"[\\\"Yes\\\"]\",\"orientation\":\"h\",\"showlegend\":true,\"type\":\"scatter\",\"x\":[6000000000,525000000000,134000000000,100000000000,7000000000,110000000000,57000000000,5000000000,19000000000,41000000000,21000000000,23000000000,46000000000,42000000000,46000000000,70000000000,17000000000,52000000000,27000000000,12000000000,20000000000,50000000000,11000000000,4000000000,10000000000,121000000000,8000000000,27000000000,14000000000,369000000000,14000000000,97000000000,6000000000,14000000000,29000000000,27000000000,196000000000,571000000000,178000000000,5000000000,63000000000,7000000000,101000000000,13000000000,97000000000,88000000000,73000000000,7000000000,24000000000,39000000000,7000000000,33000000000,13000000000,31000000000,81000000000,154000000000,44000000000,17000000000,13000000000,69000000000,22000000000,166000000000,154000000000,7000000000,46000000000,63000000000,11000000000,7000000000,83000000000,44000000000,56000000000,120000000000,8000000000,95000000000],\"xaxis\":\"x\",\"y\":[0,1,2,3,4,7,8,10,13,17,19,20,21,26,28,29,30,31,32,35,41,42,44,46,47,48,50,51,52,53,54,55,56,59,60,61,62,64,65,66,67,68,69,70,71,72,74,76,77,78,79,81,82,83,84,88,91,95,96,97,98,99,101,102,103,104,105,107,108,109,110,111,118,119],\"yaxis\":\"y\"},{\"hovertemplate\":\"category.labels=[\\\"No\\\"]<br>TaskDuration=%{x}<br>index=%{y}<extra></extra>\",\"legendgroup\":\"[\\\"No\\\"]\",\"marker\":{\"color\":\"#EF553B\",\"symbol\":\"circle\"},\"mode\":\"markers\",\"name\":\"[\\\"No\\\"]\",\"orientation\":\"h\",\"showlegend\":true,\"type\":\"scatter\",\"x\":[6000000000,61000000000,113000000000,12000000000,161000000000,96000000000,16000000000,94000000000,68000000000,15000000000,190000000000,53000000000,32000000000,18000000000,136000000000,88000000000,107000000000,85000000000,25000000000,4000000000,142000000000,92000000000,102000000000,29000000000,51000000000,13000000000,226000000000,42000000000,64000000000,37000000000,28000000000,90000000000,61000000000,93000000000,19000000000,176000000000,109000000000,102000000000,20000000000,67000000000],\"xaxis\":\"x\",\"y\":[5,6,9,11,12,14,15,16,18,22,23,24,25,27,33,34,36,37,38,39,40,45,57,58,63,73,75,80,85,86,87,89,92,93,100,106,113,114,115,116],\"yaxis\":\"y\"},{\"hovertemplate\":\"category.labels=[\\\"Not sure (skip)\\\"]<br>TaskDuration=%{x}<br>index=%{y}<extra></extra>\",\"legendgroup\":\"[\\\"Not sure (skip)\\\"]\",\"marker\":{\"color\":\"#00cc96\",\"symbol\":\"circle\"},\"mode\":\"markers\",\"name\":\"[\\\"Not sure (skip)\\\"]\",\"orientation\":\"h\",\"showlegend\":true,\"type\":\"scatter\",\"x\":[88000000000,113000000000,90000000000,190000000000,30000000000,218000000000],\"xaxis\":\"x\",\"y\":[43,49,90,94,112,117],\"yaxis\":\"y\"}],                        {\"legend\":{\"title\":{\"text\":\"category.labels\"},\"tracegroupgap\":0},\"margin\":{\"t\":60},\"template\":{\"data\":{\"bar\":[{\"error_x\":{\"color\":\"#2a3f5f\"},\"error_y\":{\"color\":\"#2a3f5f\"},\"marker\":{\"line\":{\"color\":\"#E5ECF6\",\"width\":0.5},\"pattern\":{\"fillmode\":\"overlay\",\"size\":10,\"solidity\":0.2}},\"type\":\"bar\"}],\"barpolar\":[{\"marker\":{\"line\":{\"color\":\"#E5ECF6\",\"width\":0.5},\"pattern\":{\"fillmode\":\"overlay\",\"size\":10,\"solidity\":0.2}},\"type\":\"barpolar\"}],\"carpet\":[{\"aaxis\":{\"endlinecolor\":\"#2a3f5f\",\"gridcolor\":\"white\",\"linecolor\":\"white\",\"minorgridcolor\":\"white\",\"startlinecolor\":\"#2a3f5f\"},\"baxis\":{\"endlinecolor\":\"#2a3f5f\",\"gridcolor\":\"white\",\"linecolor\":\"white\",\"minorgridcolor\":\"white\",\"startlinecolor\":\"#2a3f5f\"},\"type\":\"carpet\"}],\"choropleth\":[{\"colorbar\":{\"outlinewidth\":0,\"ticks\":\"\"},\"type\":\"choropleth\"}],\"contour\":[{\"colorbar\":{\"outlinewidth\":0,\"ticks\":\"\"},\"colorscale\":[[0.0,\"#0d0887\"],[0.1111111111111111,\"#46039f\"],[0.2222222222222222,\"#7201a8\"],[0.3333333333333333,\"#9c179e\"],[0.4444444444444444,\"#bd3786\"],[0.5555555555555556,\"#d8576b\"],[0.6666666666666666,\"#ed7953\"],[0.7777777777777778,\"#fb9f3a\"],[0.8888888888888888,\"#fdca26\"],[1.0,\"#f0f921\"]],\"type\":\"contour\"}],\"contourcarpet\":[{\"colorbar\":{\"outlinewidth\":0,\"ticks\":\"\"},\"type\":\"contourcarpet\"}],\"heatmap\":[{\"colorbar\":{\"outlinewidth\":0,\"ticks\":\"\"},\"colorscale\":[[0.0,\"#0d0887\"],[0.1111111111111111,\"#46039f\"],[0.2222222222222222,\"#7201a8\"],[0.3333333333333333,\"#9c179e\"],[0.4444444444444444,\"#bd3786\"],[0.5555555555555556,\"#d8576b\"],[0.6666666666666666,\"#ed7953\"],[0.7777777777777778,\"#fb9f3a\"],[0.8888888888888888,\"#fdca26\"],[1.0,\"#f0f921\"]],\"type\":\"heatmap\"}],\"heatmapgl\":[{\"colorbar\":{\"outlinewidth\":0,\"ticks\":\"\"},\"colorscale\":[[0.0,\"#0d0887\"],[0.1111111111111111,\"#46039f\"],[0.2222222222222222,\"#7201a8\"],[0.3333333333333333,\"#9c179e\"],[0.4444444444444444,\"#bd3786\"],[0.5555555555555556,\"#d8576b\"],[0.6666666666666666,\"#ed7953\"],[0.7777777777777778,\"#fb9f3a\"],[0.8888888888888888,\"#fdca26\"],[1.0,\"#f0f921\"]],\"type\":\"heatmapgl\"}],\"histogram\":[{\"marker\":{\"pattern\":{\"fillmode\":\"overlay\",\"size\":10,\"solidity\":0.2}},\"type\":\"histogram\"}],\"histogram2d\":[{\"colorbar\":{\"outlinewidth\":0,\"ticks\":\"\"},\"colorscale\":[[0.0,\"#0d0887\"],[0.1111111111111111,\"#46039f\"],[0.2222222222222222,\"#7201a8\"],[0.3333333333333333,\"#9c179e\"],[0.4444444444444444,\"#bd3786\"],[0.5555555555555556,\"#d8576b\"],[0.6666666666666666,\"#ed7953\"],[0.7777777777777778,\"#fb9f3a\"],[0.8888888888888888,\"#fdca26\"],[1.0,\"#f0f921\"]],\"type\":\"histogram2d\"}],\"histogram2dcontour\":[{\"colorbar\":{\"outlinewidth\":0,\"ticks\":\"\"},\"colorscale\":[[0.0,\"#0d0887\"],[0.1111111111111111,\"#46039f\"],[0.2222222222222222,\"#7201a8\"],[0.3333333333333333,\"#9c179e\"],[0.4444444444444444,\"#bd3786\"],[0.5555555555555556,\"#d8576b\"],[0.6666666666666666,\"#ed7953\"],[0.7777777777777778,\"#fb9f3a\"],[0.8888888888888888,\"#fdca26\"],[1.0,\"#f0f921\"]],\"type\":\"histogram2dcontour\"}],\"mesh3d\":[{\"colorbar\":{\"outlinewidth\":0,\"ticks\":\"\"},\"type\":\"mesh3d\"}],\"parcoords\":[{\"line\":{\"colorbar\":{\"outlinewidth\":0,\"ticks\":\"\"}},\"type\":\"parcoords\"}],\"pie\":[{\"automargin\":true,\"type\":\"pie\"}],\"scatter\":[{\"marker\":{\"colorbar\":{\"outlinewidth\":0,\"ticks\":\"\"}},\"type\":\"scatter\"}],\"scatter3d\":[{\"line\":{\"colorbar\":{\"outlinewidth\":0,\"ticks\":\"\"}},\"marker\":{\"colorbar\":{\"outlinewidth\":0,\"ticks\":\"\"}},\"type\":\"scatter3d\"}],\"scattercarpet\":[{\"marker\":{\"colorbar\":{\"outlinewidth\":0,\"ticks\":\"\"}},\"type\":\"scattercarpet\"}],\"scattergeo\":[{\"marker\":{\"colorbar\":{\"outlinewidth\":0,\"ticks\":\"\"}},\"type\":\"scattergeo\"}],\"scattergl\":[{\"marker\":{\"colorbar\":{\"outlinewidth\":0,\"ticks\":\"\"}},\"type\":\"scattergl\"}],\"scattermapbox\":[{\"marker\":{\"colorbar\":{\"outlinewidth\":0,\"ticks\":\"\"}},\"type\":\"scattermapbox\"}],\"scatterpolar\":[{\"marker\":{\"colorbar\":{\"outlinewidth\":0,\"ticks\":\"\"}},\"type\":\"scatterpolar\"}],\"scatterpolargl\":[{\"marker\":{\"colorbar\":{\"outlinewidth\":0,\"ticks\":\"\"}},\"type\":\"scatterpolargl\"}],\"scatterternary\":[{\"marker\":{\"colorbar\":{\"outlinewidth\":0,\"ticks\":\"\"}},\"type\":\"scatterternary\"}],\"surface\":[{\"colorbar\":{\"outlinewidth\":0,\"ticks\":\"\"},\"colorscale\":[[0.0,\"#0d0887\"],[0.1111111111111111,\"#46039f\"],[0.2222222222222222,\"#7201a8\"],[0.3333333333333333,\"#9c179e\"],[0.4444444444444444,\"#bd3786\"],[0.5555555555555556,\"#d8576b\"],[0.6666666666666666,\"#ed7953\"],[0.7777777777777778,\"#fb9f3a\"],[0.8888888888888888,\"#fdca26\"],[1.0,\"#f0f921\"]],\"type\":\"surface\"}],\"table\":[{\"cells\":{\"fill\":{\"color\":\"#EBF0F8\"},\"line\":{\"color\":\"white\"}},\"header\":{\"fill\":{\"color\":\"#C8D4E3\"},\"line\":{\"color\":\"white\"}},\"type\":\"table\"}]},\"layout\":{\"annotationdefaults\":{\"arrowcolor\":\"#2a3f5f\",\"arrowhead\":0,\"arrowwidth\":1},\"autotypenumbers\":\"strict\",\"coloraxis\":{\"colorbar\":{\"outlinewidth\":0,\"ticks\":\"\"}},\"colorscale\":{\"diverging\":[[0,\"#8e0152\"],[0.1,\"#c51b7d\"],[0.2,\"#de77ae\"],[0.3,\"#f1b6da\"],[0.4,\"#fde0ef\"],[0.5,\"#f7f7f7\"],[0.6,\"#e6f5d0\"],[0.7,\"#b8e186\"],[0.8,\"#7fbc41\"],[0.9,\"#4d9221\"],[1,\"#276419\"]],\"sequential\":[[0.0,\"#0d0887\"],[0.1111111111111111,\"#46039f\"],[0.2222222222222222,\"#7201a8\"],[0.3333333333333333,\"#9c179e\"],[0.4444444444444444,\"#bd3786\"],[0.5555555555555556,\"#d8576b\"],[0.6666666666666666,\"#ed7953\"],[0.7777777777777778,\"#fb9f3a\"],[0.8888888888888888,\"#fdca26\"],[1.0,\"#f0f921\"]],\"sequentialminus\":[[0.0,\"#0d0887\"],[0.1111111111111111,\"#46039f\"],[0.2222222222222222,\"#7201a8\"],[0.3333333333333333,\"#9c179e\"],[0.4444444444444444,\"#bd3786\"],[0.5555555555555556,\"#d8576b\"],[0.6666666666666666,\"#ed7953\"],[0.7777777777777778,\"#fb9f3a\"],[0.8888888888888888,\"#fdca26\"],[1.0,\"#f0f921\"]]},\"colorway\":[\"#636efa\",\"#EF553B\",\"#00cc96\",\"#ab63fa\",\"#FFA15A\",\"#19d3f3\",\"#FF6692\",\"#B6E880\",\"#FF97FF\",\"#FECB52\"],\"font\":{\"color\":\"#2a3f5f\"},\"geo\":{\"bgcolor\":\"white\",\"lakecolor\":\"white\",\"landcolor\":\"#E5ECF6\",\"showlakes\":true,\"showland\":true,\"subunitcolor\":\"white\"},\"hoverlabel\":{\"align\":\"left\"},\"hovermode\":\"closest\",\"mapbox\":{\"style\":\"light\"},\"paper_bgcolor\":\"white\",\"plot_bgcolor\":\"#E5ECF6\",\"polar\":{\"angularaxis\":{\"gridcolor\":\"white\",\"linecolor\":\"white\",\"ticks\":\"\"},\"bgcolor\":\"#E5ECF6\",\"radialaxis\":{\"gridcolor\":\"white\",\"linecolor\":\"white\",\"ticks\":\"\"}},\"scene\":{\"xaxis\":{\"backgroundcolor\":\"#E5ECF6\",\"gridcolor\":\"white\",\"gridwidth\":2,\"linecolor\":\"white\",\"showbackground\":true,\"ticks\":\"\",\"zerolinecolor\":\"white\"},\"yaxis\":{\"backgroundcolor\":\"#E5ECF6\",\"gridcolor\":\"white\",\"gridwidth\":2,\"linecolor\":\"white\",\"showbackground\":true,\"ticks\":\"\",\"zerolinecolor\":\"white\"},\"zaxis\":{\"backgroundcolor\":\"#E5ECF6\",\"gridcolor\":\"white\",\"gridwidth\":2,\"linecolor\":\"white\",\"showbackground\":true,\"ticks\":\"\",\"zerolinecolor\":\"white\"}},\"shapedefaults\":{\"line\":{\"color\":\"#2a3f5f\"}},\"ternary\":{\"aaxis\":{\"gridcolor\":\"white\",\"linecolor\":\"white\",\"ticks\":\"\"},\"baxis\":{\"gridcolor\":\"white\",\"linecolor\":\"white\",\"ticks\":\"\"},\"bgcolor\":\"#E5ECF6\",\"caxis\":{\"gridcolor\":\"white\",\"linecolor\":\"white\",\"ticks\":\"\"}},\"title\":{\"x\":0.05},\"xaxis\":{\"automargin\":true,\"gridcolor\":\"white\",\"linecolor\":\"white\",\"ticks\":\"\",\"title\":{\"standoff\":15},\"zerolinecolor\":\"white\",\"zerolinewidth\":2},\"yaxis\":{\"automargin\":true,\"gridcolor\":\"white\",\"linecolor\":\"white\",\"ticks\":\"\",\"title\":{\"standoff\":15},\"zerolinecolor\":\"white\",\"zerolinewidth\":2}}},\"xaxis\":{\"anchor\":\"y\",\"domain\":[0.0,1.0],\"title\":{\"text\":\"TaskDuration\"}},\"yaxis\":{\"anchor\":\"x\",\"domain\":[0.0,1.0],\"title\":{\"text\":\"index\"}}},                        {\"responsive\": true}                    ).then(function(){\n",
       "                            \n",
       "var gd = document.getElementById('b24e47ec-7513-4c84-8803-85b94015c0ec');\n",
       "var x = new MutationObserver(function (mutations, observer) {{\n",
       "        var display = window.getComputedStyle(gd).display;\n",
       "        if (!display || display === 'none') {{\n",
       "            console.log([gd, 'removed!']);\n",
       "            Plotly.purge(gd);\n",
       "            observer.disconnect();\n",
       "        }}\n",
       "}});\n",
       "\n",
       "// Listen for the removal of the full notebook cells\n",
       "var notebookContainer = gd.closest('#notebook-container');\n",
       "if (notebookContainer) {{\n",
       "    x.observe(notebookContainer, {childList: true});\n",
       "}}\n",
       "\n",
       "// Listen for the clearing of the current output cell\n",
       "var outputEl = gd.closest('.output');\n",
       "if (outputEl) {{\n",
       "    x.observe(outputEl, {childList: true});\n",
       "}}\n",
       "\n",
       "                        })                };                });            </script>        </div>"
      ]
     },
     "metadata": {},
     "output_type": "display_data"
    }
   ],
   "source": [
    "fig = px.scatter(df, x = \"TaskDuration\", color = \"category.labels\")\n",
    "fig.show()"
   ]
  },
  {
   "cell_type": "code",
   "execution_count": 88,
   "id": "a6796062",
   "metadata": {
    "scrolled": true
   },
   "outputs": [
    {
     "data": {
      "application/vnd.plotly.v1+json": {
       "config": {
        "plotlyServerURL": "https://plot.ly"
       },
       "data": [
        {
         "hovertemplate": "category.labels=[\"Yes\"]<br>AcceptTime=%{x}<br>SubmitTime=%{y}<extra></extra>",
         "legendgroup": "[\"Yes\"]",
         "line": {
          "color": "#636efa",
          "dash": "solid"
         },
         "marker": {
          "symbol": "circle"
         },
         "mode": "lines",
         "name": "[\"Yes\"]",
         "orientation": "v",
         "showlegend": true,
         "type": "scatter",
         "x": [
          "2021-08-20T00:36:55+00:00",
          "2021-08-23T14:48:29+00:00",
          "2021-08-19T23:04:19+00:00",
          "2021-08-23T06:56:40+00:00",
          "2021-08-20T00:36:44+00:00",
          "2021-08-19T23:10:12+00:00",
          "2021-08-23T10:13:13+00:00",
          "2021-08-20T00:37:57+00:00",
          "2021-08-19T23:12:05+00:00",
          "2021-08-19T23:20:41+00:00",
          "2021-08-19T23:14:21+00:00",
          "2021-08-23T14:44:39+00:00",
          "2021-08-30T04:54:09+00:00",
          "2021-08-19T23:12:46+00:00",
          "2021-08-19T23:17:46+00:00",
          "2021-08-23T11:14:39+00:00",
          "2021-08-19T23:20:20+00:00",
          "2021-08-23T07:44:49+00:00",
          "2021-08-20T00:37:27+00:00",
          "2021-08-19T23:20:00+00:00",
          "2021-08-19T23:16:48+00:00",
          "2021-08-23T07:45:47+00:00",
          "2021-08-19T23:36:28+00:00",
          "2021-08-27T14:50:57+00:00",
          "2021-08-20T00:35:26+00:00",
          "2021-08-20T17:08:24+00:00",
          "2021-08-19T23:35:37+00:00",
          "2021-08-23T13:38:43+00:00",
          "2021-08-19T23:21:55+00:00",
          "2021-08-23T10:58:02+00:00",
          "2021-08-19T23:22:50+00:00",
          "2021-08-23T11:36:48+00:00",
          "2021-08-20T00:38:15+00:00",
          "2021-08-19T23:17:10+00:00",
          "2021-08-23T10:10:45+00:00",
          "2021-08-19T23:14:45+00:00",
          "2021-08-23T11:11:00+00:00",
          "2021-08-19T23:23:27+00:00",
          "2021-08-23T11:18:16+00:00",
          "2021-08-19T23:34:30+00:00",
          "2021-08-23T10:14:14+00:00",
          "2021-08-20T00:36:33+00:00",
          "2021-08-23T09:58:26+00:00",
          "2021-08-19T23:12:29+00:00",
          "2021-08-23T13:42:38+00:00",
          "2021-08-30T04:57:41+00:00",
          "2021-08-23T08:10:53+00:00",
          "2021-08-20T00:35:40+00:00",
          "2021-08-23T14:46:26+00:00",
          "2021-08-30T04:54:58+00:00",
          "2021-08-19T23:35:27+00:00",
          "2021-08-19T23:09:35+00:00",
          "2021-08-23T13:39:23+00:00",
          "2021-08-19T23:16:14+00:00",
          "2021-08-23T10:11:47+00:00",
          "2021-08-23T14:57:20+00:00",
          "2021-08-23T07:38:22+00:00",
          "2021-08-19T23:17:27+00:00",
          "2021-08-20T17:35:25+00:00",
          "2021-08-23T07:35:00+00:00",
          "2021-08-19T23:33:05+00:00",
          "2021-08-23T07:46:47+00:00",
          "2021-08-23T07:39:17+00:00",
          "2021-08-27T14:56:29+00:00",
          "2021-08-19T23:13:31+00:00",
          "2021-08-23T07:42:03+00:00",
          "2021-08-19T23:21:41+00:00",
          "2021-08-20T00:38:05+00:00",
          "2021-08-23T08:08:32+00:00",
          "2021-07-13T20:02:47+00:00",
          "2021-08-19T23:15:15+00:00",
          "2021-08-23T13:36:33+00:00",
          "2021-08-19T23:35:16+00:00",
          "2021-08-23T09:56:30+00:00"
         ],
         "xaxis": "x",
         "y": [
          "2021-08-20T00:37:01+00:00",
          "2021-08-23T14:57:14+00:00",
          "2021-08-19T23:06:33+00:00",
          "2021-08-23T06:58:20+00:00",
          "2021-08-20T00:36:51+00:00",
          "2021-08-19T23:12:02+00:00",
          "2021-08-23T10:14:10+00:00",
          "2021-08-20T00:38:02+00:00",
          "2021-08-19T23:12:24+00:00",
          "2021-08-19T23:21:22+00:00",
          "2021-08-19T23:14:42+00:00",
          "2021-08-23T14:45:02+00:00",
          "2021-08-30T04:54:55+00:00",
          "2021-08-19T23:13:28+00:00",
          "2021-08-19T23:18:32+00:00",
          "2021-08-23T11:15:49+00:00",
          "2021-08-19T23:20:37+00:00",
          "2021-08-23T07:45:41+00:00",
          "2021-08-20T00:37:54+00:00",
          "2021-08-19T23:20:12+00:00",
          "2021-08-19T23:17:08+00:00",
          "2021-08-23T07:46:37+00:00",
          "2021-08-19T23:36:39+00:00",
          "2021-08-27T14:51:01+00:00",
          "2021-08-20T00:35:36+00:00",
          "2021-08-20T17:10:25+00:00",
          "2021-08-19T23:35:45+00:00",
          "2021-08-23T13:39:10+00:00",
          "2021-08-19T23:22:09+00:00",
          "2021-08-23T11:04:11+00:00",
          "2021-08-19T23:23:04+00:00",
          "2021-08-23T11:38:25+00:00",
          "2021-08-20T00:38:21+00:00",
          "2021-08-19T23:17:24+00:00",
          "2021-08-23T10:11:14+00:00",
          "2021-08-19T23:15:12+00:00",
          "2021-08-23T11:14:16+00:00",
          "2021-08-19T23:32:58+00:00",
          "2021-08-23T11:21:14+00:00",
          "2021-08-19T23:34:35+00:00",
          "2021-08-23T10:15:17+00:00",
          "2021-08-20T00:36:40+00:00",
          "2021-08-23T10:00:07+00:00",
          "2021-08-19T23:12:42+00:00",
          "2021-08-23T13:44:15+00:00",
          "2021-08-30T04:59:09+00:00",
          "2021-08-23T08:12:06+00:00",
          "2021-08-20T00:35:47+00:00",
          "2021-08-23T14:46:50+00:00",
          "2021-08-30T04:55:37+00:00",
          "2021-08-19T23:35:34+00:00",
          "2021-08-19T23:10:08+00:00",
          "2021-08-23T13:39:36+00:00",
          "2021-08-19T23:16:45+00:00",
          "2021-08-23T10:13:08+00:00",
          "2021-08-23T14:59:54+00:00",
          "2021-08-23T07:39:06+00:00",
          "2021-08-19T23:17:44+00:00",
          "2021-08-20T17:35:38+00:00",
          "2021-08-23T07:36:09+00:00",
          "2021-08-19T23:33:27+00:00",
          "2021-08-23T07:49:33+00:00",
          "2021-08-23T07:41:51+00:00",
          "2021-08-27T14:56:36+00:00",
          "2021-08-19T23:14:17+00:00",
          "2021-08-23T07:43:06+00:00",
          "2021-08-19T23:21:52+00:00",
          "2021-08-20T00:38:12+00:00",
          "2021-08-23T08:09:55+00:00",
          "2021-07-13T20:03:31+00:00",
          "2021-08-19T23:16:11+00:00",
          "2021-08-23T13:38:33+00:00",
          "2021-08-19T23:35:24+00:00",
          "2021-08-23T09:58:05+00:00"
         ],
         "yaxis": "y"
        },
        {
         "hovertemplate": "category.labels=[\"No\"]<br>AcceptTime=%{x}<br>SubmitTime=%{y}<extra></extra>",
         "legendgroup": "[\"No\"]",
         "line": {
          "color": "#EF553B",
          "dash": "solid"
         },
         "marker": {
          "symbol": "circle"
         },
         "mode": "lines",
         "name": "[\"No\"]",
         "orientation": "v",
         "showlegend": true,
         "type": "scatter",
         "x": [
          "2021-08-23T06:29:15+00:00",
          "2021-08-23T11:30:42+00:00",
          "2021-08-30T04:47:24+00:00",
          "2021-08-23T06:25:54+00:00",
          "2021-08-23T06:51:19+00:00",
          "2021-08-23T11:53:53+00:00",
          "2021-08-20T00:35:50+00:00",
          "2021-08-23T07:43:11+00:00",
          "2021-08-23T14:45:13+00:00",
          "2021-08-19T23:23:07+00:00",
          "2021-08-23T11:38:59+00:00",
          "2021-08-19T23:33:33+00:00",
          "2021-08-23T08:10:09+00:00",
          "2021-08-23T11:51:12+00:00",
          "2021-08-23T07:49:48+00:00",
          "2021-08-30T04:51:06+00:00",
          "2021-08-23T13:39:48+00:00",
          "2021-08-30T16:55:21+00:00",
          "2021-08-19T23:34:47+00:00",
          "2021-08-23T06:29:32+00:00",
          "2021-08-23T13:33:52+00:00",
          "2021-08-23T11:16:34+00:00",
          "2021-08-23T06:54:48+00:00",
          "2021-08-27T14:44:03+00:00",
          "2021-08-27T14:47:49+00:00",
          "2021-08-19T23:21:25+00:00",
          "2021-08-25T23:16:09+00:00",
          "2021-08-23T11:31:48+00:00",
          "2021-08-19T23:08:25+00:00",
          "2021-08-23T14:47:31+00:00",
          "2021-08-19T23:35:47+00:00",
          "2021-08-30T04:49:31+00:00",
          "2021-08-19T23:18:34+00:00",
          "2021-08-23T15:07:07+00:00",
          "2021-08-20T00:36:10+00:00",
          "2021-08-23T10:19:02+00:00",
          "2021-08-23T07:36:25+00:00",
          "2021-08-30T04:55:39+00:00",
          "2021-08-20T00:37:04+00:00",
          "2021-08-23T13:55:02+00:00"
         ],
         "xaxis": "x",
         "y": [
          "2021-08-23T06:29:21+00:00",
          "2021-08-23T11:31:43+00:00",
          "2021-08-30T04:49:17+00:00",
          "2021-08-23T06:26:06+00:00",
          "2021-08-23T06:54:00+00:00",
          "2021-08-23T11:55:29+00:00",
          "2021-08-20T00:36:06+00:00",
          "2021-08-23T07:44:45+00:00",
          "2021-08-23T14:46:21+00:00",
          "2021-08-19T23:23:22+00:00",
          "2021-08-23T11:42:09+00:00",
          "2021-08-19T23:34:26+00:00",
          "2021-08-23T08:10:41+00:00",
          "2021-08-23T11:51:30+00:00",
          "2021-08-23T07:52:04+00:00",
          "2021-08-30T04:52:34+00:00",
          "2021-08-23T13:41:35+00:00",
          "2021-08-30T16:56:46+00:00",
          "2021-08-19T23:35:12+00:00",
          "2021-08-23T06:29:36+00:00",
          "2021-08-23T13:36:14+00:00",
          "2021-08-23T11:18:06+00:00",
          "2021-08-23T06:56:30+00:00",
          "2021-08-27T14:44:32+00:00",
          "2021-08-27T14:48:40+00:00",
          "2021-08-19T23:21:38+00:00",
          "2021-08-25T23:19:55+00:00",
          "2021-08-23T11:32:30+00:00",
          "2021-08-19T23:09:29+00:00",
          "2021-08-23T14:48:08+00:00",
          "2021-08-19T23:36:15+00:00",
          "2021-08-30T04:51:01+00:00",
          "2021-08-19T23:19:35+00:00",
          "2021-08-23T15:08:40+00:00",
          "2021-08-20T00:36:29+00:00",
          "2021-08-23T10:21:58+00:00",
          "2021-08-23T07:38:14+00:00",
          "2021-08-30T04:57:21+00:00",
          "2021-08-20T00:37:24+00:00",
          "2021-08-23T13:56:09+00:00"
         ],
         "yaxis": "y"
        },
        {
         "hovertemplate": "category.labels=[\"Not sure (skip)\"]<br>AcceptTime=%{x}<br>SubmitTime=%{y}<extra></extra>",
         "legendgroup": "[\"Not sure (skip)\"]",
         "line": {
          "color": "#00cc96",
          "dash": "solid"
         },
         "marker": {
          "symbol": "circle"
         },
         "mode": "lines",
         "name": "[\"Not sure (skip)\"]",
         "orientation": "v",
         "showlegend": true,
         "type": "scatter",
         "x": [
          "2021-08-30T04:52:38+00:00",
          "2021-08-23T10:56:00+00:00",
          "2021-08-19T23:06:49+00:00",
          "2021-08-25T23:28:07+00:00",
          "2021-08-19T23:22:17+00:00",
          "2021-08-25T23:24:27+00:00"
         ],
         "xaxis": "x",
         "y": [
          "2021-08-30T04:54:06+00:00",
          "2021-08-23T10:57:53+00:00",
          "2021-08-19T23:08:19+00:00",
          "2021-08-25T23:31:17+00:00",
          "2021-08-19T23:22:47+00:00",
          "2021-08-25T23:28:05+00:00"
         ],
         "yaxis": "y"
        }
       ],
       "layout": {
        "legend": {
         "title": {
          "text": "category.labels"
         },
         "tracegroupgap": 0
        },
        "margin": {
         "t": 60
        },
        "template": {
         "data": {
          "bar": [
           {
            "error_x": {
             "color": "#2a3f5f"
            },
            "error_y": {
             "color": "#2a3f5f"
            },
            "marker": {
             "line": {
              "color": "#E5ECF6",
              "width": 0.5
             },
             "pattern": {
              "fillmode": "overlay",
              "size": 10,
              "solidity": 0.2
             }
            },
            "type": "bar"
           }
          ],
          "barpolar": [
           {
            "marker": {
             "line": {
              "color": "#E5ECF6",
              "width": 0.5
             },
             "pattern": {
              "fillmode": "overlay",
              "size": 10,
              "solidity": 0.2
             }
            },
            "type": "barpolar"
           }
          ],
          "carpet": [
           {
            "aaxis": {
             "endlinecolor": "#2a3f5f",
             "gridcolor": "white",
             "linecolor": "white",
             "minorgridcolor": "white",
             "startlinecolor": "#2a3f5f"
            },
            "baxis": {
             "endlinecolor": "#2a3f5f",
             "gridcolor": "white",
             "linecolor": "white",
             "minorgridcolor": "white",
             "startlinecolor": "#2a3f5f"
            },
            "type": "carpet"
           }
          ],
          "choropleth": [
           {
            "colorbar": {
             "outlinewidth": 0,
             "ticks": ""
            },
            "type": "choropleth"
           }
          ],
          "contour": [
           {
            "colorbar": {
             "outlinewidth": 0,
             "ticks": ""
            },
            "colorscale": [
             [
              0,
              "#0d0887"
             ],
             [
              0.1111111111111111,
              "#46039f"
             ],
             [
              0.2222222222222222,
              "#7201a8"
             ],
             [
              0.3333333333333333,
              "#9c179e"
             ],
             [
              0.4444444444444444,
              "#bd3786"
             ],
             [
              0.5555555555555556,
              "#d8576b"
             ],
             [
              0.6666666666666666,
              "#ed7953"
             ],
             [
              0.7777777777777778,
              "#fb9f3a"
             ],
             [
              0.8888888888888888,
              "#fdca26"
             ],
             [
              1,
              "#f0f921"
             ]
            ],
            "type": "contour"
           }
          ],
          "contourcarpet": [
           {
            "colorbar": {
             "outlinewidth": 0,
             "ticks": ""
            },
            "type": "contourcarpet"
           }
          ],
          "heatmap": [
           {
            "colorbar": {
             "outlinewidth": 0,
             "ticks": ""
            },
            "colorscale": [
             [
              0,
              "#0d0887"
             ],
             [
              0.1111111111111111,
              "#46039f"
             ],
             [
              0.2222222222222222,
              "#7201a8"
             ],
             [
              0.3333333333333333,
              "#9c179e"
             ],
             [
              0.4444444444444444,
              "#bd3786"
             ],
             [
              0.5555555555555556,
              "#d8576b"
             ],
             [
              0.6666666666666666,
              "#ed7953"
             ],
             [
              0.7777777777777778,
              "#fb9f3a"
             ],
             [
              0.8888888888888888,
              "#fdca26"
             ],
             [
              1,
              "#f0f921"
             ]
            ],
            "type": "heatmap"
           }
          ],
          "heatmapgl": [
           {
            "colorbar": {
             "outlinewidth": 0,
             "ticks": ""
            },
            "colorscale": [
             [
              0,
              "#0d0887"
             ],
             [
              0.1111111111111111,
              "#46039f"
             ],
             [
              0.2222222222222222,
              "#7201a8"
             ],
             [
              0.3333333333333333,
              "#9c179e"
             ],
             [
              0.4444444444444444,
              "#bd3786"
             ],
             [
              0.5555555555555556,
              "#d8576b"
             ],
             [
              0.6666666666666666,
              "#ed7953"
             ],
             [
              0.7777777777777778,
              "#fb9f3a"
             ],
             [
              0.8888888888888888,
              "#fdca26"
             ],
             [
              1,
              "#f0f921"
             ]
            ],
            "type": "heatmapgl"
           }
          ],
          "histogram": [
           {
            "marker": {
             "pattern": {
              "fillmode": "overlay",
              "size": 10,
              "solidity": 0.2
             }
            },
            "type": "histogram"
           }
          ],
          "histogram2d": [
           {
            "colorbar": {
             "outlinewidth": 0,
             "ticks": ""
            },
            "colorscale": [
             [
              0,
              "#0d0887"
             ],
             [
              0.1111111111111111,
              "#46039f"
             ],
             [
              0.2222222222222222,
              "#7201a8"
             ],
             [
              0.3333333333333333,
              "#9c179e"
             ],
             [
              0.4444444444444444,
              "#bd3786"
             ],
             [
              0.5555555555555556,
              "#d8576b"
             ],
             [
              0.6666666666666666,
              "#ed7953"
             ],
             [
              0.7777777777777778,
              "#fb9f3a"
             ],
             [
              0.8888888888888888,
              "#fdca26"
             ],
             [
              1,
              "#f0f921"
             ]
            ],
            "type": "histogram2d"
           }
          ],
          "histogram2dcontour": [
           {
            "colorbar": {
             "outlinewidth": 0,
             "ticks": ""
            },
            "colorscale": [
             [
              0,
              "#0d0887"
             ],
             [
              0.1111111111111111,
              "#46039f"
             ],
             [
              0.2222222222222222,
              "#7201a8"
             ],
             [
              0.3333333333333333,
              "#9c179e"
             ],
             [
              0.4444444444444444,
              "#bd3786"
             ],
             [
              0.5555555555555556,
              "#d8576b"
             ],
             [
              0.6666666666666666,
              "#ed7953"
             ],
             [
              0.7777777777777778,
              "#fb9f3a"
             ],
             [
              0.8888888888888888,
              "#fdca26"
             ],
             [
              1,
              "#f0f921"
             ]
            ],
            "type": "histogram2dcontour"
           }
          ],
          "mesh3d": [
           {
            "colorbar": {
             "outlinewidth": 0,
             "ticks": ""
            },
            "type": "mesh3d"
           }
          ],
          "parcoords": [
           {
            "line": {
             "colorbar": {
              "outlinewidth": 0,
              "ticks": ""
             }
            },
            "type": "parcoords"
           }
          ],
          "pie": [
           {
            "automargin": true,
            "type": "pie"
           }
          ],
          "scatter": [
           {
            "marker": {
             "colorbar": {
              "outlinewidth": 0,
              "ticks": ""
             }
            },
            "type": "scatter"
           }
          ],
          "scatter3d": [
           {
            "line": {
             "colorbar": {
              "outlinewidth": 0,
              "ticks": ""
             }
            },
            "marker": {
             "colorbar": {
              "outlinewidth": 0,
              "ticks": ""
             }
            },
            "type": "scatter3d"
           }
          ],
          "scattercarpet": [
           {
            "marker": {
             "colorbar": {
              "outlinewidth": 0,
              "ticks": ""
             }
            },
            "type": "scattercarpet"
           }
          ],
          "scattergeo": [
           {
            "marker": {
             "colorbar": {
              "outlinewidth": 0,
              "ticks": ""
             }
            },
            "type": "scattergeo"
           }
          ],
          "scattergl": [
           {
            "marker": {
             "colorbar": {
              "outlinewidth": 0,
              "ticks": ""
             }
            },
            "type": "scattergl"
           }
          ],
          "scattermapbox": [
           {
            "marker": {
             "colorbar": {
              "outlinewidth": 0,
              "ticks": ""
             }
            },
            "type": "scattermapbox"
           }
          ],
          "scatterpolar": [
           {
            "marker": {
             "colorbar": {
              "outlinewidth": 0,
              "ticks": ""
             }
            },
            "type": "scatterpolar"
           }
          ],
          "scatterpolargl": [
           {
            "marker": {
             "colorbar": {
              "outlinewidth": 0,
              "ticks": ""
             }
            },
            "type": "scatterpolargl"
           }
          ],
          "scatterternary": [
           {
            "marker": {
             "colorbar": {
              "outlinewidth": 0,
              "ticks": ""
             }
            },
            "type": "scatterternary"
           }
          ],
          "surface": [
           {
            "colorbar": {
             "outlinewidth": 0,
             "ticks": ""
            },
            "colorscale": [
             [
              0,
              "#0d0887"
             ],
             [
              0.1111111111111111,
              "#46039f"
             ],
             [
              0.2222222222222222,
              "#7201a8"
             ],
             [
              0.3333333333333333,
              "#9c179e"
             ],
             [
              0.4444444444444444,
              "#bd3786"
             ],
             [
              0.5555555555555556,
              "#d8576b"
             ],
             [
              0.6666666666666666,
              "#ed7953"
             ],
             [
              0.7777777777777778,
              "#fb9f3a"
             ],
             [
              0.8888888888888888,
              "#fdca26"
             ],
             [
              1,
              "#f0f921"
             ]
            ],
            "type": "surface"
           }
          ],
          "table": [
           {
            "cells": {
             "fill": {
              "color": "#EBF0F8"
             },
             "line": {
              "color": "white"
             }
            },
            "header": {
             "fill": {
              "color": "#C8D4E3"
             },
             "line": {
              "color": "white"
             }
            },
            "type": "table"
           }
          ]
         },
         "layout": {
          "annotationdefaults": {
           "arrowcolor": "#2a3f5f",
           "arrowhead": 0,
           "arrowwidth": 1
          },
          "autotypenumbers": "strict",
          "coloraxis": {
           "colorbar": {
            "outlinewidth": 0,
            "ticks": ""
           }
          },
          "colorscale": {
           "diverging": [
            [
             0,
             "#8e0152"
            ],
            [
             0.1,
             "#c51b7d"
            ],
            [
             0.2,
             "#de77ae"
            ],
            [
             0.3,
             "#f1b6da"
            ],
            [
             0.4,
             "#fde0ef"
            ],
            [
             0.5,
             "#f7f7f7"
            ],
            [
             0.6,
             "#e6f5d0"
            ],
            [
             0.7,
             "#b8e186"
            ],
            [
             0.8,
             "#7fbc41"
            ],
            [
             0.9,
             "#4d9221"
            ],
            [
             1,
             "#276419"
            ]
           ],
           "sequential": [
            [
             0,
             "#0d0887"
            ],
            [
             0.1111111111111111,
             "#46039f"
            ],
            [
             0.2222222222222222,
             "#7201a8"
            ],
            [
             0.3333333333333333,
             "#9c179e"
            ],
            [
             0.4444444444444444,
             "#bd3786"
            ],
            [
             0.5555555555555556,
             "#d8576b"
            ],
            [
             0.6666666666666666,
             "#ed7953"
            ],
            [
             0.7777777777777778,
             "#fb9f3a"
            ],
            [
             0.8888888888888888,
             "#fdca26"
            ],
            [
             1,
             "#f0f921"
            ]
           ],
           "sequentialminus": [
            [
             0,
             "#0d0887"
            ],
            [
             0.1111111111111111,
             "#46039f"
            ],
            [
             0.2222222222222222,
             "#7201a8"
            ],
            [
             0.3333333333333333,
             "#9c179e"
            ],
            [
             0.4444444444444444,
             "#bd3786"
            ],
            [
             0.5555555555555556,
             "#d8576b"
            ],
            [
             0.6666666666666666,
             "#ed7953"
            ],
            [
             0.7777777777777778,
             "#fb9f3a"
            ],
            [
             0.8888888888888888,
             "#fdca26"
            ],
            [
             1,
             "#f0f921"
            ]
           ]
          },
          "colorway": [
           "#636efa",
           "#EF553B",
           "#00cc96",
           "#ab63fa",
           "#FFA15A",
           "#19d3f3",
           "#FF6692",
           "#B6E880",
           "#FF97FF",
           "#FECB52"
          ],
          "font": {
           "color": "#2a3f5f"
          },
          "geo": {
           "bgcolor": "white",
           "lakecolor": "white",
           "landcolor": "#E5ECF6",
           "showlakes": true,
           "showland": true,
           "subunitcolor": "white"
          },
          "hoverlabel": {
           "align": "left"
          },
          "hovermode": "closest",
          "mapbox": {
           "style": "light"
          },
          "paper_bgcolor": "white",
          "plot_bgcolor": "#E5ECF6",
          "polar": {
           "angularaxis": {
            "gridcolor": "white",
            "linecolor": "white",
            "ticks": ""
           },
           "bgcolor": "#E5ECF6",
           "radialaxis": {
            "gridcolor": "white",
            "linecolor": "white",
            "ticks": ""
           }
          },
          "scene": {
           "xaxis": {
            "backgroundcolor": "#E5ECF6",
            "gridcolor": "white",
            "gridwidth": 2,
            "linecolor": "white",
            "showbackground": true,
            "ticks": "",
            "zerolinecolor": "white"
           },
           "yaxis": {
            "backgroundcolor": "#E5ECF6",
            "gridcolor": "white",
            "gridwidth": 2,
            "linecolor": "white",
            "showbackground": true,
            "ticks": "",
            "zerolinecolor": "white"
           },
           "zaxis": {
            "backgroundcolor": "#E5ECF6",
            "gridcolor": "white",
            "gridwidth": 2,
            "linecolor": "white",
            "showbackground": true,
            "ticks": "",
            "zerolinecolor": "white"
           }
          },
          "shapedefaults": {
           "line": {
            "color": "#2a3f5f"
           }
          },
          "ternary": {
           "aaxis": {
            "gridcolor": "white",
            "linecolor": "white",
            "ticks": ""
           },
           "baxis": {
            "gridcolor": "white",
            "linecolor": "white",
            "ticks": ""
           },
           "bgcolor": "#E5ECF6",
           "caxis": {
            "gridcolor": "white",
            "linecolor": "white",
            "ticks": ""
           }
          },
          "title": {
           "x": 0.05
          },
          "xaxis": {
           "automargin": true,
           "gridcolor": "white",
           "linecolor": "white",
           "ticks": "",
           "title": {
            "standoff": 15
           },
           "zerolinecolor": "white",
           "zerolinewidth": 2
          },
          "yaxis": {
           "automargin": true,
           "gridcolor": "white",
           "linecolor": "white",
           "ticks": "",
           "title": {
            "standoff": 15
           },
           "zerolinecolor": "white",
           "zerolinewidth": 2
          }
         }
        },
        "xaxis": {
         "anchor": "y",
         "domain": [
          0,
          1
         ],
         "title": {
          "text": "AcceptTime"
         }
        },
        "yaxis": {
         "anchor": "x",
         "domain": [
          0,
          1
         ],
         "title": {
          "text": "SubmitTime"
         }
        }
       }
      },
      "text/html": [
       "<div>                            <div id=\"75ae57ea-d9e9-4500-9e9f-8f8f21141999\" class=\"plotly-graph-div\" style=\"height:525px; width:100%;\"></div>            <script type=\"text/javascript\">                require([\"plotly\"], function(Plotly) {                    window.PLOTLYENV=window.PLOTLYENV || {};                                    if (document.getElementById(\"75ae57ea-d9e9-4500-9e9f-8f8f21141999\")) {                    Plotly.newPlot(                        \"75ae57ea-d9e9-4500-9e9f-8f8f21141999\",                        [{\"hovertemplate\":\"category.labels=[\\\"Yes\\\"]<br>AcceptTime=%{x}<br>SubmitTime=%{y}<extra></extra>\",\"legendgroup\":\"[\\\"Yes\\\"]\",\"line\":{\"color\":\"#636efa\",\"dash\":\"solid\"},\"marker\":{\"symbol\":\"circle\"},\"mode\":\"lines\",\"name\":\"[\\\"Yes\\\"]\",\"orientation\":\"v\",\"showlegend\":true,\"type\":\"scatter\",\"x\":[\"2021-08-20T00:36:55+00:00\",\"2021-08-23T14:48:29+00:00\",\"2021-08-19T23:04:19+00:00\",\"2021-08-23T06:56:40+00:00\",\"2021-08-20T00:36:44+00:00\",\"2021-08-19T23:10:12+00:00\",\"2021-08-23T10:13:13+00:00\",\"2021-08-20T00:37:57+00:00\",\"2021-08-19T23:12:05+00:00\",\"2021-08-19T23:20:41+00:00\",\"2021-08-19T23:14:21+00:00\",\"2021-08-23T14:44:39+00:00\",\"2021-08-30T04:54:09+00:00\",\"2021-08-19T23:12:46+00:00\",\"2021-08-19T23:17:46+00:00\",\"2021-08-23T11:14:39+00:00\",\"2021-08-19T23:20:20+00:00\",\"2021-08-23T07:44:49+00:00\",\"2021-08-20T00:37:27+00:00\",\"2021-08-19T23:20:00+00:00\",\"2021-08-19T23:16:48+00:00\",\"2021-08-23T07:45:47+00:00\",\"2021-08-19T23:36:28+00:00\",\"2021-08-27T14:50:57+00:00\",\"2021-08-20T00:35:26+00:00\",\"2021-08-20T17:08:24+00:00\",\"2021-08-19T23:35:37+00:00\",\"2021-08-23T13:38:43+00:00\",\"2021-08-19T23:21:55+00:00\",\"2021-08-23T10:58:02+00:00\",\"2021-08-19T23:22:50+00:00\",\"2021-08-23T11:36:48+00:00\",\"2021-08-20T00:38:15+00:00\",\"2021-08-19T23:17:10+00:00\",\"2021-08-23T10:10:45+00:00\",\"2021-08-19T23:14:45+00:00\",\"2021-08-23T11:11:00+00:00\",\"2021-08-19T23:23:27+00:00\",\"2021-08-23T11:18:16+00:00\",\"2021-08-19T23:34:30+00:00\",\"2021-08-23T10:14:14+00:00\",\"2021-08-20T00:36:33+00:00\",\"2021-08-23T09:58:26+00:00\",\"2021-08-19T23:12:29+00:00\",\"2021-08-23T13:42:38+00:00\",\"2021-08-30T04:57:41+00:00\",\"2021-08-23T08:10:53+00:00\",\"2021-08-20T00:35:40+00:00\",\"2021-08-23T14:46:26+00:00\",\"2021-08-30T04:54:58+00:00\",\"2021-08-19T23:35:27+00:00\",\"2021-08-19T23:09:35+00:00\",\"2021-08-23T13:39:23+00:00\",\"2021-08-19T23:16:14+00:00\",\"2021-08-23T10:11:47+00:00\",\"2021-08-23T14:57:20+00:00\",\"2021-08-23T07:38:22+00:00\",\"2021-08-19T23:17:27+00:00\",\"2021-08-20T17:35:25+00:00\",\"2021-08-23T07:35:00+00:00\",\"2021-08-19T23:33:05+00:00\",\"2021-08-23T07:46:47+00:00\",\"2021-08-23T07:39:17+00:00\",\"2021-08-27T14:56:29+00:00\",\"2021-08-19T23:13:31+00:00\",\"2021-08-23T07:42:03+00:00\",\"2021-08-19T23:21:41+00:00\",\"2021-08-20T00:38:05+00:00\",\"2021-08-23T08:08:32+00:00\",\"2021-07-13T20:02:47+00:00\",\"2021-08-19T23:15:15+00:00\",\"2021-08-23T13:36:33+00:00\",\"2021-08-19T23:35:16+00:00\",\"2021-08-23T09:56:30+00:00\"],\"xaxis\":\"x\",\"y\":[\"2021-08-20T00:37:01+00:00\",\"2021-08-23T14:57:14+00:00\",\"2021-08-19T23:06:33+00:00\",\"2021-08-23T06:58:20+00:00\",\"2021-08-20T00:36:51+00:00\",\"2021-08-19T23:12:02+00:00\",\"2021-08-23T10:14:10+00:00\",\"2021-08-20T00:38:02+00:00\",\"2021-08-19T23:12:24+00:00\",\"2021-08-19T23:21:22+00:00\",\"2021-08-19T23:14:42+00:00\",\"2021-08-23T14:45:02+00:00\",\"2021-08-30T04:54:55+00:00\",\"2021-08-19T23:13:28+00:00\",\"2021-08-19T23:18:32+00:00\",\"2021-08-23T11:15:49+00:00\",\"2021-08-19T23:20:37+00:00\",\"2021-08-23T07:45:41+00:00\",\"2021-08-20T00:37:54+00:00\",\"2021-08-19T23:20:12+00:00\",\"2021-08-19T23:17:08+00:00\",\"2021-08-23T07:46:37+00:00\",\"2021-08-19T23:36:39+00:00\",\"2021-08-27T14:51:01+00:00\",\"2021-08-20T00:35:36+00:00\",\"2021-08-20T17:10:25+00:00\",\"2021-08-19T23:35:45+00:00\",\"2021-08-23T13:39:10+00:00\",\"2021-08-19T23:22:09+00:00\",\"2021-08-23T11:04:11+00:00\",\"2021-08-19T23:23:04+00:00\",\"2021-08-23T11:38:25+00:00\",\"2021-08-20T00:38:21+00:00\",\"2021-08-19T23:17:24+00:00\",\"2021-08-23T10:11:14+00:00\",\"2021-08-19T23:15:12+00:00\",\"2021-08-23T11:14:16+00:00\",\"2021-08-19T23:32:58+00:00\",\"2021-08-23T11:21:14+00:00\",\"2021-08-19T23:34:35+00:00\",\"2021-08-23T10:15:17+00:00\",\"2021-08-20T00:36:40+00:00\",\"2021-08-23T10:00:07+00:00\",\"2021-08-19T23:12:42+00:00\",\"2021-08-23T13:44:15+00:00\",\"2021-08-30T04:59:09+00:00\",\"2021-08-23T08:12:06+00:00\",\"2021-08-20T00:35:47+00:00\",\"2021-08-23T14:46:50+00:00\",\"2021-08-30T04:55:37+00:00\",\"2021-08-19T23:35:34+00:00\",\"2021-08-19T23:10:08+00:00\",\"2021-08-23T13:39:36+00:00\",\"2021-08-19T23:16:45+00:00\",\"2021-08-23T10:13:08+00:00\",\"2021-08-23T14:59:54+00:00\",\"2021-08-23T07:39:06+00:00\",\"2021-08-19T23:17:44+00:00\",\"2021-08-20T17:35:38+00:00\",\"2021-08-23T07:36:09+00:00\",\"2021-08-19T23:33:27+00:00\",\"2021-08-23T07:49:33+00:00\",\"2021-08-23T07:41:51+00:00\",\"2021-08-27T14:56:36+00:00\",\"2021-08-19T23:14:17+00:00\",\"2021-08-23T07:43:06+00:00\",\"2021-08-19T23:21:52+00:00\",\"2021-08-20T00:38:12+00:00\",\"2021-08-23T08:09:55+00:00\",\"2021-07-13T20:03:31+00:00\",\"2021-08-19T23:16:11+00:00\",\"2021-08-23T13:38:33+00:00\",\"2021-08-19T23:35:24+00:00\",\"2021-08-23T09:58:05+00:00\"],\"yaxis\":\"y\"},{\"hovertemplate\":\"category.labels=[\\\"No\\\"]<br>AcceptTime=%{x}<br>SubmitTime=%{y}<extra></extra>\",\"legendgroup\":\"[\\\"No\\\"]\",\"line\":{\"color\":\"#EF553B\",\"dash\":\"solid\"},\"marker\":{\"symbol\":\"circle\"},\"mode\":\"lines\",\"name\":\"[\\\"No\\\"]\",\"orientation\":\"v\",\"showlegend\":true,\"type\":\"scatter\",\"x\":[\"2021-08-23T06:29:15+00:00\",\"2021-08-23T11:30:42+00:00\",\"2021-08-30T04:47:24+00:00\",\"2021-08-23T06:25:54+00:00\",\"2021-08-23T06:51:19+00:00\",\"2021-08-23T11:53:53+00:00\",\"2021-08-20T00:35:50+00:00\",\"2021-08-23T07:43:11+00:00\",\"2021-08-23T14:45:13+00:00\",\"2021-08-19T23:23:07+00:00\",\"2021-08-23T11:38:59+00:00\",\"2021-08-19T23:33:33+00:00\",\"2021-08-23T08:10:09+00:00\",\"2021-08-23T11:51:12+00:00\",\"2021-08-23T07:49:48+00:00\",\"2021-08-30T04:51:06+00:00\",\"2021-08-23T13:39:48+00:00\",\"2021-08-30T16:55:21+00:00\",\"2021-08-19T23:34:47+00:00\",\"2021-08-23T06:29:32+00:00\",\"2021-08-23T13:33:52+00:00\",\"2021-08-23T11:16:34+00:00\",\"2021-08-23T06:54:48+00:00\",\"2021-08-27T14:44:03+00:00\",\"2021-08-27T14:47:49+00:00\",\"2021-08-19T23:21:25+00:00\",\"2021-08-25T23:16:09+00:00\",\"2021-08-23T11:31:48+00:00\",\"2021-08-19T23:08:25+00:00\",\"2021-08-23T14:47:31+00:00\",\"2021-08-19T23:35:47+00:00\",\"2021-08-30T04:49:31+00:00\",\"2021-08-19T23:18:34+00:00\",\"2021-08-23T15:07:07+00:00\",\"2021-08-20T00:36:10+00:00\",\"2021-08-23T10:19:02+00:00\",\"2021-08-23T07:36:25+00:00\",\"2021-08-30T04:55:39+00:00\",\"2021-08-20T00:37:04+00:00\",\"2021-08-23T13:55:02+00:00\"],\"xaxis\":\"x\",\"y\":[\"2021-08-23T06:29:21+00:00\",\"2021-08-23T11:31:43+00:00\",\"2021-08-30T04:49:17+00:00\",\"2021-08-23T06:26:06+00:00\",\"2021-08-23T06:54:00+00:00\",\"2021-08-23T11:55:29+00:00\",\"2021-08-20T00:36:06+00:00\",\"2021-08-23T07:44:45+00:00\",\"2021-08-23T14:46:21+00:00\",\"2021-08-19T23:23:22+00:00\",\"2021-08-23T11:42:09+00:00\",\"2021-08-19T23:34:26+00:00\",\"2021-08-23T08:10:41+00:00\",\"2021-08-23T11:51:30+00:00\",\"2021-08-23T07:52:04+00:00\",\"2021-08-30T04:52:34+00:00\",\"2021-08-23T13:41:35+00:00\",\"2021-08-30T16:56:46+00:00\",\"2021-08-19T23:35:12+00:00\",\"2021-08-23T06:29:36+00:00\",\"2021-08-23T13:36:14+00:00\",\"2021-08-23T11:18:06+00:00\",\"2021-08-23T06:56:30+00:00\",\"2021-08-27T14:44:32+00:00\",\"2021-08-27T14:48:40+00:00\",\"2021-08-19T23:21:38+00:00\",\"2021-08-25T23:19:55+00:00\",\"2021-08-23T11:32:30+00:00\",\"2021-08-19T23:09:29+00:00\",\"2021-08-23T14:48:08+00:00\",\"2021-08-19T23:36:15+00:00\",\"2021-08-30T04:51:01+00:00\",\"2021-08-19T23:19:35+00:00\",\"2021-08-23T15:08:40+00:00\",\"2021-08-20T00:36:29+00:00\",\"2021-08-23T10:21:58+00:00\",\"2021-08-23T07:38:14+00:00\",\"2021-08-30T04:57:21+00:00\",\"2021-08-20T00:37:24+00:00\",\"2021-08-23T13:56:09+00:00\"],\"yaxis\":\"y\"},{\"hovertemplate\":\"category.labels=[\\\"Not sure (skip)\\\"]<br>AcceptTime=%{x}<br>SubmitTime=%{y}<extra></extra>\",\"legendgroup\":\"[\\\"Not sure (skip)\\\"]\",\"line\":{\"color\":\"#00cc96\",\"dash\":\"solid\"},\"marker\":{\"symbol\":\"circle\"},\"mode\":\"lines\",\"name\":\"[\\\"Not sure (skip)\\\"]\",\"orientation\":\"v\",\"showlegend\":true,\"type\":\"scatter\",\"x\":[\"2021-08-30T04:52:38+00:00\",\"2021-08-23T10:56:00+00:00\",\"2021-08-19T23:06:49+00:00\",\"2021-08-25T23:28:07+00:00\",\"2021-08-19T23:22:17+00:00\",\"2021-08-25T23:24:27+00:00\"],\"xaxis\":\"x\",\"y\":[\"2021-08-30T04:54:06+00:00\",\"2021-08-23T10:57:53+00:00\",\"2021-08-19T23:08:19+00:00\",\"2021-08-25T23:31:17+00:00\",\"2021-08-19T23:22:47+00:00\",\"2021-08-25T23:28:05+00:00\"],\"yaxis\":\"y\"}],                        {\"legend\":{\"title\":{\"text\":\"category.labels\"},\"tracegroupgap\":0},\"margin\":{\"t\":60},\"template\":{\"data\":{\"bar\":[{\"error_x\":{\"color\":\"#2a3f5f\"},\"error_y\":{\"color\":\"#2a3f5f\"},\"marker\":{\"line\":{\"color\":\"#E5ECF6\",\"width\":0.5},\"pattern\":{\"fillmode\":\"overlay\",\"size\":10,\"solidity\":0.2}},\"type\":\"bar\"}],\"barpolar\":[{\"marker\":{\"line\":{\"color\":\"#E5ECF6\",\"width\":0.5},\"pattern\":{\"fillmode\":\"overlay\",\"size\":10,\"solidity\":0.2}},\"type\":\"barpolar\"}],\"carpet\":[{\"aaxis\":{\"endlinecolor\":\"#2a3f5f\",\"gridcolor\":\"white\",\"linecolor\":\"white\",\"minorgridcolor\":\"white\",\"startlinecolor\":\"#2a3f5f\"},\"baxis\":{\"endlinecolor\":\"#2a3f5f\",\"gridcolor\":\"white\",\"linecolor\":\"white\",\"minorgridcolor\":\"white\",\"startlinecolor\":\"#2a3f5f\"},\"type\":\"carpet\"}],\"choropleth\":[{\"colorbar\":{\"outlinewidth\":0,\"ticks\":\"\"},\"type\":\"choropleth\"}],\"contour\":[{\"colorbar\":{\"outlinewidth\":0,\"ticks\":\"\"},\"colorscale\":[[0.0,\"#0d0887\"],[0.1111111111111111,\"#46039f\"],[0.2222222222222222,\"#7201a8\"],[0.3333333333333333,\"#9c179e\"],[0.4444444444444444,\"#bd3786\"],[0.5555555555555556,\"#d8576b\"],[0.6666666666666666,\"#ed7953\"],[0.7777777777777778,\"#fb9f3a\"],[0.8888888888888888,\"#fdca26\"],[1.0,\"#f0f921\"]],\"type\":\"contour\"}],\"contourcarpet\":[{\"colorbar\":{\"outlinewidth\":0,\"ticks\":\"\"},\"type\":\"contourcarpet\"}],\"heatmap\":[{\"colorbar\":{\"outlinewidth\":0,\"ticks\":\"\"},\"colorscale\":[[0.0,\"#0d0887\"],[0.1111111111111111,\"#46039f\"],[0.2222222222222222,\"#7201a8\"],[0.3333333333333333,\"#9c179e\"],[0.4444444444444444,\"#bd3786\"],[0.5555555555555556,\"#d8576b\"],[0.6666666666666666,\"#ed7953\"],[0.7777777777777778,\"#fb9f3a\"],[0.8888888888888888,\"#fdca26\"],[1.0,\"#f0f921\"]],\"type\":\"heatmap\"}],\"heatmapgl\":[{\"colorbar\":{\"outlinewidth\":0,\"ticks\":\"\"},\"colorscale\":[[0.0,\"#0d0887\"],[0.1111111111111111,\"#46039f\"],[0.2222222222222222,\"#7201a8\"],[0.3333333333333333,\"#9c179e\"],[0.4444444444444444,\"#bd3786\"],[0.5555555555555556,\"#d8576b\"],[0.6666666666666666,\"#ed7953\"],[0.7777777777777778,\"#fb9f3a\"],[0.8888888888888888,\"#fdca26\"],[1.0,\"#f0f921\"]],\"type\":\"heatmapgl\"}],\"histogram\":[{\"marker\":{\"pattern\":{\"fillmode\":\"overlay\",\"size\":10,\"solidity\":0.2}},\"type\":\"histogram\"}],\"histogram2d\":[{\"colorbar\":{\"outlinewidth\":0,\"ticks\":\"\"},\"colorscale\":[[0.0,\"#0d0887\"],[0.1111111111111111,\"#46039f\"],[0.2222222222222222,\"#7201a8\"],[0.3333333333333333,\"#9c179e\"],[0.4444444444444444,\"#bd3786\"],[0.5555555555555556,\"#d8576b\"],[0.6666666666666666,\"#ed7953\"],[0.7777777777777778,\"#fb9f3a\"],[0.8888888888888888,\"#fdca26\"],[1.0,\"#f0f921\"]],\"type\":\"histogram2d\"}],\"histogram2dcontour\":[{\"colorbar\":{\"outlinewidth\":0,\"ticks\":\"\"},\"colorscale\":[[0.0,\"#0d0887\"],[0.1111111111111111,\"#46039f\"],[0.2222222222222222,\"#7201a8\"],[0.3333333333333333,\"#9c179e\"],[0.4444444444444444,\"#bd3786\"],[0.5555555555555556,\"#d8576b\"],[0.6666666666666666,\"#ed7953\"],[0.7777777777777778,\"#fb9f3a\"],[0.8888888888888888,\"#fdca26\"],[1.0,\"#f0f921\"]],\"type\":\"histogram2dcontour\"}],\"mesh3d\":[{\"colorbar\":{\"outlinewidth\":0,\"ticks\":\"\"},\"type\":\"mesh3d\"}],\"parcoords\":[{\"line\":{\"colorbar\":{\"outlinewidth\":0,\"ticks\":\"\"}},\"type\":\"parcoords\"}],\"pie\":[{\"automargin\":true,\"type\":\"pie\"}],\"scatter\":[{\"marker\":{\"colorbar\":{\"outlinewidth\":0,\"ticks\":\"\"}},\"type\":\"scatter\"}],\"scatter3d\":[{\"line\":{\"colorbar\":{\"outlinewidth\":0,\"ticks\":\"\"}},\"marker\":{\"colorbar\":{\"outlinewidth\":0,\"ticks\":\"\"}},\"type\":\"scatter3d\"}],\"scattercarpet\":[{\"marker\":{\"colorbar\":{\"outlinewidth\":0,\"ticks\":\"\"}},\"type\":\"scattercarpet\"}],\"scattergeo\":[{\"marker\":{\"colorbar\":{\"outlinewidth\":0,\"ticks\":\"\"}},\"type\":\"scattergeo\"}],\"scattergl\":[{\"marker\":{\"colorbar\":{\"outlinewidth\":0,\"ticks\":\"\"}},\"type\":\"scattergl\"}],\"scattermapbox\":[{\"marker\":{\"colorbar\":{\"outlinewidth\":0,\"ticks\":\"\"}},\"type\":\"scattermapbox\"}],\"scatterpolar\":[{\"marker\":{\"colorbar\":{\"outlinewidth\":0,\"ticks\":\"\"}},\"type\":\"scatterpolar\"}],\"scatterpolargl\":[{\"marker\":{\"colorbar\":{\"outlinewidth\":0,\"ticks\":\"\"}},\"type\":\"scatterpolargl\"}],\"scatterternary\":[{\"marker\":{\"colorbar\":{\"outlinewidth\":0,\"ticks\":\"\"}},\"type\":\"scatterternary\"}],\"surface\":[{\"colorbar\":{\"outlinewidth\":0,\"ticks\":\"\"},\"colorscale\":[[0.0,\"#0d0887\"],[0.1111111111111111,\"#46039f\"],[0.2222222222222222,\"#7201a8\"],[0.3333333333333333,\"#9c179e\"],[0.4444444444444444,\"#bd3786\"],[0.5555555555555556,\"#d8576b\"],[0.6666666666666666,\"#ed7953\"],[0.7777777777777778,\"#fb9f3a\"],[0.8888888888888888,\"#fdca26\"],[1.0,\"#f0f921\"]],\"type\":\"surface\"}],\"table\":[{\"cells\":{\"fill\":{\"color\":\"#EBF0F8\"},\"line\":{\"color\":\"white\"}},\"header\":{\"fill\":{\"color\":\"#C8D4E3\"},\"line\":{\"color\":\"white\"}},\"type\":\"table\"}]},\"layout\":{\"annotationdefaults\":{\"arrowcolor\":\"#2a3f5f\",\"arrowhead\":0,\"arrowwidth\":1},\"autotypenumbers\":\"strict\",\"coloraxis\":{\"colorbar\":{\"outlinewidth\":0,\"ticks\":\"\"}},\"colorscale\":{\"diverging\":[[0,\"#8e0152\"],[0.1,\"#c51b7d\"],[0.2,\"#de77ae\"],[0.3,\"#f1b6da\"],[0.4,\"#fde0ef\"],[0.5,\"#f7f7f7\"],[0.6,\"#e6f5d0\"],[0.7,\"#b8e186\"],[0.8,\"#7fbc41\"],[0.9,\"#4d9221\"],[1,\"#276419\"]],\"sequential\":[[0.0,\"#0d0887\"],[0.1111111111111111,\"#46039f\"],[0.2222222222222222,\"#7201a8\"],[0.3333333333333333,\"#9c179e\"],[0.4444444444444444,\"#bd3786\"],[0.5555555555555556,\"#d8576b\"],[0.6666666666666666,\"#ed7953\"],[0.7777777777777778,\"#fb9f3a\"],[0.8888888888888888,\"#fdca26\"],[1.0,\"#f0f921\"]],\"sequentialminus\":[[0.0,\"#0d0887\"],[0.1111111111111111,\"#46039f\"],[0.2222222222222222,\"#7201a8\"],[0.3333333333333333,\"#9c179e\"],[0.4444444444444444,\"#bd3786\"],[0.5555555555555556,\"#d8576b\"],[0.6666666666666666,\"#ed7953\"],[0.7777777777777778,\"#fb9f3a\"],[0.8888888888888888,\"#fdca26\"],[1.0,\"#f0f921\"]]},\"colorway\":[\"#636efa\",\"#EF553B\",\"#00cc96\",\"#ab63fa\",\"#FFA15A\",\"#19d3f3\",\"#FF6692\",\"#B6E880\",\"#FF97FF\",\"#FECB52\"],\"font\":{\"color\":\"#2a3f5f\"},\"geo\":{\"bgcolor\":\"white\",\"lakecolor\":\"white\",\"landcolor\":\"#E5ECF6\",\"showlakes\":true,\"showland\":true,\"subunitcolor\":\"white\"},\"hoverlabel\":{\"align\":\"left\"},\"hovermode\":\"closest\",\"mapbox\":{\"style\":\"light\"},\"paper_bgcolor\":\"white\",\"plot_bgcolor\":\"#E5ECF6\",\"polar\":{\"angularaxis\":{\"gridcolor\":\"white\",\"linecolor\":\"white\",\"ticks\":\"\"},\"bgcolor\":\"#E5ECF6\",\"radialaxis\":{\"gridcolor\":\"white\",\"linecolor\":\"white\",\"ticks\":\"\"}},\"scene\":{\"xaxis\":{\"backgroundcolor\":\"#E5ECF6\",\"gridcolor\":\"white\",\"gridwidth\":2,\"linecolor\":\"white\",\"showbackground\":true,\"ticks\":\"\",\"zerolinecolor\":\"white\"},\"yaxis\":{\"backgroundcolor\":\"#E5ECF6\",\"gridcolor\":\"white\",\"gridwidth\":2,\"linecolor\":\"white\",\"showbackground\":true,\"ticks\":\"\",\"zerolinecolor\":\"white\"},\"zaxis\":{\"backgroundcolor\":\"#E5ECF6\",\"gridcolor\":\"white\",\"gridwidth\":2,\"linecolor\":\"white\",\"showbackground\":true,\"ticks\":\"\",\"zerolinecolor\":\"white\"}},\"shapedefaults\":{\"line\":{\"color\":\"#2a3f5f\"}},\"ternary\":{\"aaxis\":{\"gridcolor\":\"white\",\"linecolor\":\"white\",\"ticks\":\"\"},\"baxis\":{\"gridcolor\":\"white\",\"linecolor\":\"white\",\"ticks\":\"\"},\"bgcolor\":\"#E5ECF6\",\"caxis\":{\"gridcolor\":\"white\",\"linecolor\":\"white\",\"ticks\":\"\"}},\"title\":{\"x\":0.05},\"xaxis\":{\"automargin\":true,\"gridcolor\":\"white\",\"linecolor\":\"white\",\"ticks\":\"\",\"title\":{\"standoff\":15},\"zerolinecolor\":\"white\",\"zerolinewidth\":2},\"yaxis\":{\"automargin\":true,\"gridcolor\":\"white\",\"linecolor\":\"white\",\"ticks\":\"\",\"title\":{\"standoff\":15},\"zerolinecolor\":\"white\",\"zerolinewidth\":2}}},\"xaxis\":{\"anchor\":\"y\",\"domain\":[0.0,1.0],\"title\":{\"text\":\"AcceptTime\"}},\"yaxis\":{\"anchor\":\"x\",\"domain\":[0.0,1.0],\"title\":{\"text\":\"SubmitTime\"}}},                        {\"responsive\": true}                    ).then(function(){\n",
       "                            \n",
       "var gd = document.getElementById('75ae57ea-d9e9-4500-9e9f-8f8f21141999');\n",
       "var x = new MutationObserver(function (mutations, observer) {{\n",
       "        var display = window.getComputedStyle(gd).display;\n",
       "        if (!display || display === 'none') {{\n",
       "            console.log([gd, 'removed!']);\n",
       "            Plotly.purge(gd);\n",
       "            observer.disconnect();\n",
       "        }}\n",
       "}});\n",
       "\n",
       "// Listen for the removal of the full notebook cells\n",
       "var notebookContainer = gd.closest('#notebook-container');\n",
       "if (notebookContainer) {{\n",
       "    x.observe(notebookContainer, {childList: true});\n",
       "}}\n",
       "\n",
       "// Listen for the clearing of the current output cell\n",
       "var outputEl = gd.closest('.output');\n",
       "if (outputEl) {{\n",
       "    x.observe(outputEl, {childList: true});\n",
       "}}\n",
       "\n",
       "                        })                };                });            </script>        </div>"
      ]
     },
     "metadata": {},
     "output_type": "display_data"
    }
   ],
   "source": [
    "fig = px.line(df, x = \"AcceptTime\", y = \"SubmitTime\", color = \"category.labels\")\n",
    "fig.show()"
   ]
  },
  {
   "cell_type": "code",
   "execution_count": 110,
   "id": "63250f7c",
   "metadata": {},
   "outputs": [
    {
     "data": {
      "application/vnd.plotly.v1+json": {
       "config": {
        "plotlyServerURL": "https://plot.ly"
       },
       "data": [
        {
         "alignmentgroup": "True",
         "hovertemplate": "category.labels=%{x}<br>TaskDuration=%{y}<extra></extra>",
         "legendgroup": "[\"Yes\"]",
         "marker": {
          "color": "#636efa"
         },
         "name": "[\"Yes\"]",
         "notched": false,
         "offsetgroup": "[\"Yes\"]",
         "orientation": "v",
         "showlegend": true,
         "type": "box",
         "x": [
          "[\"Yes\"]",
          "[\"Yes\"]",
          "[\"Yes\"]",
          "[\"Yes\"]",
          "[\"Yes\"]",
          "[\"Yes\"]",
          "[\"Yes\"]",
          "[\"Yes\"]",
          "[\"Yes\"]",
          "[\"Yes\"]",
          "[\"Yes\"]",
          "[\"Yes\"]",
          "[\"Yes\"]",
          "[\"Yes\"]",
          "[\"Yes\"]",
          "[\"Yes\"]",
          "[\"Yes\"]",
          "[\"Yes\"]",
          "[\"Yes\"]",
          "[\"Yes\"]",
          "[\"Yes\"]",
          "[\"Yes\"]",
          "[\"Yes\"]",
          "[\"Yes\"]",
          "[\"Yes\"]",
          "[\"Yes\"]",
          "[\"Yes\"]",
          "[\"Yes\"]",
          "[\"Yes\"]",
          "[\"Yes\"]",
          "[\"Yes\"]",
          "[\"Yes\"]",
          "[\"Yes\"]",
          "[\"Yes\"]",
          "[\"Yes\"]",
          "[\"Yes\"]",
          "[\"Yes\"]",
          "[\"Yes\"]",
          "[\"Yes\"]",
          "[\"Yes\"]",
          "[\"Yes\"]",
          "[\"Yes\"]",
          "[\"Yes\"]",
          "[\"Yes\"]",
          "[\"Yes\"]",
          "[\"Yes\"]",
          "[\"Yes\"]",
          "[\"Yes\"]",
          "[\"Yes\"]",
          "[\"Yes\"]",
          "[\"Yes\"]",
          "[\"Yes\"]",
          "[\"Yes\"]",
          "[\"Yes\"]",
          "[\"Yes\"]",
          "[\"Yes\"]",
          "[\"Yes\"]",
          "[\"Yes\"]",
          "[\"Yes\"]",
          "[\"Yes\"]",
          "[\"Yes\"]",
          "[\"Yes\"]",
          "[\"Yes\"]",
          "[\"Yes\"]",
          "[\"Yes\"]",
          "[\"Yes\"]",
          "[\"Yes\"]",
          "[\"Yes\"]",
          "[\"Yes\"]",
          "[\"Yes\"]",
          "[\"Yes\"]",
          "[\"Yes\"]",
          "[\"Yes\"]",
          "[\"Yes\"]"
         ],
         "x0": " ",
         "xaxis": "x",
         "y": [
          6000000000,
          525000000000,
          134000000000,
          100000000000,
          7000000000,
          110000000000,
          57000000000,
          5000000000,
          19000000000,
          41000000000,
          21000000000,
          23000000000,
          46000000000,
          42000000000,
          46000000000,
          70000000000,
          17000000000,
          52000000000,
          27000000000,
          12000000000,
          20000000000,
          50000000000,
          11000000000,
          4000000000,
          10000000000,
          121000000000,
          8000000000,
          27000000000,
          14000000000,
          369000000000,
          14000000000,
          97000000000,
          6000000000,
          14000000000,
          29000000000,
          27000000000,
          196000000000,
          571000000000,
          178000000000,
          5000000000,
          63000000000,
          7000000000,
          101000000000,
          13000000000,
          97000000000,
          88000000000,
          73000000000,
          7000000000,
          24000000000,
          39000000000,
          7000000000,
          33000000000,
          13000000000,
          31000000000,
          81000000000,
          154000000000,
          44000000000,
          17000000000,
          13000000000,
          69000000000,
          22000000000,
          166000000000,
          154000000000,
          7000000000,
          46000000000,
          63000000000,
          11000000000,
          7000000000,
          83000000000,
          44000000000,
          56000000000,
          120000000000,
          8000000000,
          95000000000
         ],
         "y0": " ",
         "yaxis": "y"
        },
        {
         "alignmentgroup": "True",
         "hovertemplate": "category.labels=%{x}<br>TaskDuration=%{y}<extra></extra>",
         "legendgroup": "[\"No\"]",
         "marker": {
          "color": "#EF553B"
         },
         "name": "[\"No\"]",
         "notched": false,
         "offsetgroup": "[\"No\"]",
         "orientation": "v",
         "showlegend": true,
         "type": "box",
         "x": [
          "[\"No\"]",
          "[\"No\"]",
          "[\"No\"]",
          "[\"No\"]",
          "[\"No\"]",
          "[\"No\"]",
          "[\"No\"]",
          "[\"No\"]",
          "[\"No\"]",
          "[\"No\"]",
          "[\"No\"]",
          "[\"No\"]",
          "[\"No\"]",
          "[\"No\"]",
          "[\"No\"]",
          "[\"No\"]",
          "[\"No\"]",
          "[\"No\"]",
          "[\"No\"]",
          "[\"No\"]",
          "[\"No\"]",
          "[\"No\"]",
          "[\"No\"]",
          "[\"No\"]",
          "[\"No\"]",
          "[\"No\"]",
          "[\"No\"]",
          "[\"No\"]",
          "[\"No\"]",
          "[\"No\"]",
          "[\"No\"]",
          "[\"No\"]",
          "[\"No\"]",
          "[\"No\"]",
          "[\"No\"]",
          "[\"No\"]",
          "[\"No\"]",
          "[\"No\"]",
          "[\"No\"]",
          "[\"No\"]"
         ],
         "x0": " ",
         "xaxis": "x",
         "y": [
          6000000000,
          61000000000,
          113000000000,
          12000000000,
          161000000000,
          96000000000,
          16000000000,
          94000000000,
          68000000000,
          15000000000,
          190000000000,
          53000000000,
          32000000000,
          18000000000,
          136000000000,
          88000000000,
          107000000000,
          85000000000,
          25000000000,
          4000000000,
          142000000000,
          92000000000,
          102000000000,
          29000000000,
          51000000000,
          13000000000,
          226000000000,
          42000000000,
          64000000000,
          37000000000,
          28000000000,
          90000000000,
          61000000000,
          93000000000,
          19000000000,
          176000000000,
          109000000000,
          102000000000,
          20000000000,
          67000000000
         ],
         "y0": " ",
         "yaxis": "y"
        },
        {
         "alignmentgroup": "True",
         "hovertemplate": "category.labels=%{x}<br>TaskDuration=%{y}<extra></extra>",
         "legendgroup": "[\"Not sure (skip)\"]",
         "marker": {
          "color": "#00cc96"
         },
         "name": "[\"Not sure (skip)\"]",
         "notched": false,
         "offsetgroup": "[\"Not sure (skip)\"]",
         "orientation": "v",
         "showlegend": true,
         "type": "box",
         "x": [
          "[\"Not sure (skip)\"]",
          "[\"Not sure (skip)\"]",
          "[\"Not sure (skip)\"]",
          "[\"Not sure (skip)\"]",
          "[\"Not sure (skip)\"]",
          "[\"Not sure (skip)\"]"
         ],
         "x0": " ",
         "xaxis": "x",
         "y": [
          88000000000,
          113000000000,
          90000000000,
          190000000000,
          30000000000,
          218000000000
         ],
         "y0": " ",
         "yaxis": "y"
        }
       ],
       "layout": {
        "boxmode": "overlay",
        "legend": {
         "title": {
          "text": "category.labels"
         },
         "tracegroupgap": 0
        },
        "margin": {
         "t": 60
        },
        "template": {
         "data": {
          "bar": [
           {
            "error_x": {
             "color": "#2a3f5f"
            },
            "error_y": {
             "color": "#2a3f5f"
            },
            "marker": {
             "line": {
              "color": "#E5ECF6",
              "width": 0.5
             },
             "pattern": {
              "fillmode": "overlay",
              "size": 10,
              "solidity": 0.2
             }
            },
            "type": "bar"
           }
          ],
          "barpolar": [
           {
            "marker": {
             "line": {
              "color": "#E5ECF6",
              "width": 0.5
             },
             "pattern": {
              "fillmode": "overlay",
              "size": 10,
              "solidity": 0.2
             }
            },
            "type": "barpolar"
           }
          ],
          "carpet": [
           {
            "aaxis": {
             "endlinecolor": "#2a3f5f",
             "gridcolor": "white",
             "linecolor": "white",
             "minorgridcolor": "white",
             "startlinecolor": "#2a3f5f"
            },
            "baxis": {
             "endlinecolor": "#2a3f5f",
             "gridcolor": "white",
             "linecolor": "white",
             "minorgridcolor": "white",
             "startlinecolor": "#2a3f5f"
            },
            "type": "carpet"
           }
          ],
          "choropleth": [
           {
            "colorbar": {
             "outlinewidth": 0,
             "ticks": ""
            },
            "type": "choropleth"
           }
          ],
          "contour": [
           {
            "colorbar": {
             "outlinewidth": 0,
             "ticks": ""
            },
            "colorscale": [
             [
              0,
              "#0d0887"
             ],
             [
              0.1111111111111111,
              "#46039f"
             ],
             [
              0.2222222222222222,
              "#7201a8"
             ],
             [
              0.3333333333333333,
              "#9c179e"
             ],
             [
              0.4444444444444444,
              "#bd3786"
             ],
             [
              0.5555555555555556,
              "#d8576b"
             ],
             [
              0.6666666666666666,
              "#ed7953"
             ],
             [
              0.7777777777777778,
              "#fb9f3a"
             ],
             [
              0.8888888888888888,
              "#fdca26"
             ],
             [
              1,
              "#f0f921"
             ]
            ],
            "type": "contour"
           }
          ],
          "contourcarpet": [
           {
            "colorbar": {
             "outlinewidth": 0,
             "ticks": ""
            },
            "type": "contourcarpet"
           }
          ],
          "heatmap": [
           {
            "colorbar": {
             "outlinewidth": 0,
             "ticks": ""
            },
            "colorscale": [
             [
              0,
              "#0d0887"
             ],
             [
              0.1111111111111111,
              "#46039f"
             ],
             [
              0.2222222222222222,
              "#7201a8"
             ],
             [
              0.3333333333333333,
              "#9c179e"
             ],
             [
              0.4444444444444444,
              "#bd3786"
             ],
             [
              0.5555555555555556,
              "#d8576b"
             ],
             [
              0.6666666666666666,
              "#ed7953"
             ],
             [
              0.7777777777777778,
              "#fb9f3a"
             ],
             [
              0.8888888888888888,
              "#fdca26"
             ],
             [
              1,
              "#f0f921"
             ]
            ],
            "type": "heatmap"
           }
          ],
          "heatmapgl": [
           {
            "colorbar": {
             "outlinewidth": 0,
             "ticks": ""
            },
            "colorscale": [
             [
              0,
              "#0d0887"
             ],
             [
              0.1111111111111111,
              "#46039f"
             ],
             [
              0.2222222222222222,
              "#7201a8"
             ],
             [
              0.3333333333333333,
              "#9c179e"
             ],
             [
              0.4444444444444444,
              "#bd3786"
             ],
             [
              0.5555555555555556,
              "#d8576b"
             ],
             [
              0.6666666666666666,
              "#ed7953"
             ],
             [
              0.7777777777777778,
              "#fb9f3a"
             ],
             [
              0.8888888888888888,
              "#fdca26"
             ],
             [
              1,
              "#f0f921"
             ]
            ],
            "type": "heatmapgl"
           }
          ],
          "histogram": [
           {
            "marker": {
             "pattern": {
              "fillmode": "overlay",
              "size": 10,
              "solidity": 0.2
             }
            },
            "type": "histogram"
           }
          ],
          "histogram2d": [
           {
            "colorbar": {
             "outlinewidth": 0,
             "ticks": ""
            },
            "colorscale": [
             [
              0,
              "#0d0887"
             ],
             [
              0.1111111111111111,
              "#46039f"
             ],
             [
              0.2222222222222222,
              "#7201a8"
             ],
             [
              0.3333333333333333,
              "#9c179e"
             ],
             [
              0.4444444444444444,
              "#bd3786"
             ],
             [
              0.5555555555555556,
              "#d8576b"
             ],
             [
              0.6666666666666666,
              "#ed7953"
             ],
             [
              0.7777777777777778,
              "#fb9f3a"
             ],
             [
              0.8888888888888888,
              "#fdca26"
             ],
             [
              1,
              "#f0f921"
             ]
            ],
            "type": "histogram2d"
           }
          ],
          "histogram2dcontour": [
           {
            "colorbar": {
             "outlinewidth": 0,
             "ticks": ""
            },
            "colorscale": [
             [
              0,
              "#0d0887"
             ],
             [
              0.1111111111111111,
              "#46039f"
             ],
             [
              0.2222222222222222,
              "#7201a8"
             ],
             [
              0.3333333333333333,
              "#9c179e"
             ],
             [
              0.4444444444444444,
              "#bd3786"
             ],
             [
              0.5555555555555556,
              "#d8576b"
             ],
             [
              0.6666666666666666,
              "#ed7953"
             ],
             [
              0.7777777777777778,
              "#fb9f3a"
             ],
             [
              0.8888888888888888,
              "#fdca26"
             ],
             [
              1,
              "#f0f921"
             ]
            ],
            "type": "histogram2dcontour"
           }
          ],
          "mesh3d": [
           {
            "colorbar": {
             "outlinewidth": 0,
             "ticks": ""
            },
            "type": "mesh3d"
           }
          ],
          "parcoords": [
           {
            "line": {
             "colorbar": {
              "outlinewidth": 0,
              "ticks": ""
             }
            },
            "type": "parcoords"
           }
          ],
          "pie": [
           {
            "automargin": true,
            "type": "pie"
           }
          ],
          "scatter": [
           {
            "marker": {
             "colorbar": {
              "outlinewidth": 0,
              "ticks": ""
             }
            },
            "type": "scatter"
           }
          ],
          "scatter3d": [
           {
            "line": {
             "colorbar": {
              "outlinewidth": 0,
              "ticks": ""
             }
            },
            "marker": {
             "colorbar": {
              "outlinewidth": 0,
              "ticks": ""
             }
            },
            "type": "scatter3d"
           }
          ],
          "scattercarpet": [
           {
            "marker": {
             "colorbar": {
              "outlinewidth": 0,
              "ticks": ""
             }
            },
            "type": "scattercarpet"
           }
          ],
          "scattergeo": [
           {
            "marker": {
             "colorbar": {
              "outlinewidth": 0,
              "ticks": ""
             }
            },
            "type": "scattergeo"
           }
          ],
          "scattergl": [
           {
            "marker": {
             "colorbar": {
              "outlinewidth": 0,
              "ticks": ""
             }
            },
            "type": "scattergl"
           }
          ],
          "scattermapbox": [
           {
            "marker": {
             "colorbar": {
              "outlinewidth": 0,
              "ticks": ""
             }
            },
            "type": "scattermapbox"
           }
          ],
          "scatterpolar": [
           {
            "marker": {
             "colorbar": {
              "outlinewidth": 0,
              "ticks": ""
             }
            },
            "type": "scatterpolar"
           }
          ],
          "scatterpolargl": [
           {
            "marker": {
             "colorbar": {
              "outlinewidth": 0,
              "ticks": ""
             }
            },
            "type": "scatterpolargl"
           }
          ],
          "scatterternary": [
           {
            "marker": {
             "colorbar": {
              "outlinewidth": 0,
              "ticks": ""
             }
            },
            "type": "scatterternary"
           }
          ],
          "surface": [
           {
            "colorbar": {
             "outlinewidth": 0,
             "ticks": ""
            },
            "colorscale": [
             [
              0,
              "#0d0887"
             ],
             [
              0.1111111111111111,
              "#46039f"
             ],
             [
              0.2222222222222222,
              "#7201a8"
             ],
             [
              0.3333333333333333,
              "#9c179e"
             ],
             [
              0.4444444444444444,
              "#bd3786"
             ],
             [
              0.5555555555555556,
              "#d8576b"
             ],
             [
              0.6666666666666666,
              "#ed7953"
             ],
             [
              0.7777777777777778,
              "#fb9f3a"
             ],
             [
              0.8888888888888888,
              "#fdca26"
             ],
             [
              1,
              "#f0f921"
             ]
            ],
            "type": "surface"
           }
          ],
          "table": [
           {
            "cells": {
             "fill": {
              "color": "#EBF0F8"
             },
             "line": {
              "color": "white"
             }
            },
            "header": {
             "fill": {
              "color": "#C8D4E3"
             },
             "line": {
              "color": "white"
             }
            },
            "type": "table"
           }
          ]
         },
         "layout": {
          "annotationdefaults": {
           "arrowcolor": "#2a3f5f",
           "arrowhead": 0,
           "arrowwidth": 1
          },
          "autotypenumbers": "strict",
          "coloraxis": {
           "colorbar": {
            "outlinewidth": 0,
            "ticks": ""
           }
          },
          "colorscale": {
           "diverging": [
            [
             0,
             "#8e0152"
            ],
            [
             0.1,
             "#c51b7d"
            ],
            [
             0.2,
             "#de77ae"
            ],
            [
             0.3,
             "#f1b6da"
            ],
            [
             0.4,
             "#fde0ef"
            ],
            [
             0.5,
             "#f7f7f7"
            ],
            [
             0.6,
             "#e6f5d0"
            ],
            [
             0.7,
             "#b8e186"
            ],
            [
             0.8,
             "#7fbc41"
            ],
            [
             0.9,
             "#4d9221"
            ],
            [
             1,
             "#276419"
            ]
           ],
           "sequential": [
            [
             0,
             "#0d0887"
            ],
            [
             0.1111111111111111,
             "#46039f"
            ],
            [
             0.2222222222222222,
             "#7201a8"
            ],
            [
             0.3333333333333333,
             "#9c179e"
            ],
            [
             0.4444444444444444,
             "#bd3786"
            ],
            [
             0.5555555555555556,
             "#d8576b"
            ],
            [
             0.6666666666666666,
             "#ed7953"
            ],
            [
             0.7777777777777778,
             "#fb9f3a"
            ],
            [
             0.8888888888888888,
             "#fdca26"
            ],
            [
             1,
             "#f0f921"
            ]
           ],
           "sequentialminus": [
            [
             0,
             "#0d0887"
            ],
            [
             0.1111111111111111,
             "#46039f"
            ],
            [
             0.2222222222222222,
             "#7201a8"
            ],
            [
             0.3333333333333333,
             "#9c179e"
            ],
            [
             0.4444444444444444,
             "#bd3786"
            ],
            [
             0.5555555555555556,
             "#d8576b"
            ],
            [
             0.6666666666666666,
             "#ed7953"
            ],
            [
             0.7777777777777778,
             "#fb9f3a"
            ],
            [
             0.8888888888888888,
             "#fdca26"
            ],
            [
             1,
             "#f0f921"
            ]
           ]
          },
          "colorway": [
           "#636efa",
           "#EF553B",
           "#00cc96",
           "#ab63fa",
           "#FFA15A",
           "#19d3f3",
           "#FF6692",
           "#B6E880",
           "#FF97FF",
           "#FECB52"
          ],
          "font": {
           "color": "#2a3f5f"
          },
          "geo": {
           "bgcolor": "white",
           "lakecolor": "white",
           "landcolor": "#E5ECF6",
           "showlakes": true,
           "showland": true,
           "subunitcolor": "white"
          },
          "hoverlabel": {
           "align": "left"
          },
          "hovermode": "closest",
          "mapbox": {
           "style": "light"
          },
          "paper_bgcolor": "white",
          "plot_bgcolor": "#E5ECF6",
          "polar": {
           "angularaxis": {
            "gridcolor": "white",
            "linecolor": "white",
            "ticks": ""
           },
           "bgcolor": "#E5ECF6",
           "radialaxis": {
            "gridcolor": "white",
            "linecolor": "white",
            "ticks": ""
           }
          },
          "scene": {
           "xaxis": {
            "backgroundcolor": "#E5ECF6",
            "gridcolor": "white",
            "gridwidth": 2,
            "linecolor": "white",
            "showbackground": true,
            "ticks": "",
            "zerolinecolor": "white"
           },
           "yaxis": {
            "backgroundcolor": "#E5ECF6",
            "gridcolor": "white",
            "gridwidth": 2,
            "linecolor": "white",
            "showbackground": true,
            "ticks": "",
            "zerolinecolor": "white"
           },
           "zaxis": {
            "backgroundcolor": "#E5ECF6",
            "gridcolor": "white",
            "gridwidth": 2,
            "linecolor": "white",
            "showbackground": true,
            "ticks": "",
            "zerolinecolor": "white"
           }
          },
          "shapedefaults": {
           "line": {
            "color": "#2a3f5f"
           }
          },
          "ternary": {
           "aaxis": {
            "gridcolor": "white",
            "linecolor": "white",
            "ticks": ""
           },
           "baxis": {
            "gridcolor": "white",
            "linecolor": "white",
            "ticks": ""
           },
           "bgcolor": "#E5ECF6",
           "caxis": {
            "gridcolor": "white",
            "linecolor": "white",
            "ticks": ""
           }
          },
          "title": {
           "x": 0.05
          },
          "xaxis": {
           "automargin": true,
           "gridcolor": "white",
           "linecolor": "white",
           "ticks": "",
           "title": {
            "standoff": 15
           },
           "zerolinecolor": "white",
           "zerolinewidth": 2
          },
          "yaxis": {
           "automargin": true,
           "gridcolor": "white",
           "linecolor": "white",
           "ticks": "",
           "title": {
            "standoff": 15
           },
           "zerolinecolor": "white",
           "zerolinewidth": 2
          }
         }
        },
        "xaxis": {
         "anchor": "y",
         "categoryarray": [
          "[\"Yes\"]",
          "[\"No\"]",
          "[\"Not sure (skip)\"]"
         ],
         "categoryorder": "array",
         "domain": [
          0,
          1
         ],
         "title": {
          "text": "category.labels"
         }
        },
        "yaxis": {
         "anchor": "x",
         "domain": [
          0,
          1
         ],
         "title": {
          "text": "TaskDuration"
         }
        }
       }
      },
      "text/html": [
       "<div>                            <div id=\"06cbe6be-cffc-464a-a89c-08ac9267b210\" class=\"plotly-graph-div\" style=\"height:525px; width:100%;\"></div>            <script type=\"text/javascript\">                require([\"plotly\"], function(Plotly) {                    window.PLOTLYENV=window.PLOTLYENV || {};                                    if (document.getElementById(\"06cbe6be-cffc-464a-a89c-08ac9267b210\")) {                    Plotly.newPlot(                        \"06cbe6be-cffc-464a-a89c-08ac9267b210\",                        [{\"alignmentgroup\":\"True\",\"hovertemplate\":\"category.labels=%{x}<br>TaskDuration=%{y}<extra></extra>\",\"legendgroup\":\"[\\\"Yes\\\"]\",\"marker\":{\"color\":\"#636efa\"},\"name\":\"[\\\"Yes\\\"]\",\"notched\":false,\"offsetgroup\":\"[\\\"Yes\\\"]\",\"orientation\":\"v\",\"showlegend\":true,\"type\":\"box\",\"x\":[\"[\\\"Yes\\\"]\",\"[\\\"Yes\\\"]\",\"[\\\"Yes\\\"]\",\"[\\\"Yes\\\"]\",\"[\\\"Yes\\\"]\",\"[\\\"Yes\\\"]\",\"[\\\"Yes\\\"]\",\"[\\\"Yes\\\"]\",\"[\\\"Yes\\\"]\",\"[\\\"Yes\\\"]\",\"[\\\"Yes\\\"]\",\"[\\\"Yes\\\"]\",\"[\\\"Yes\\\"]\",\"[\\\"Yes\\\"]\",\"[\\\"Yes\\\"]\",\"[\\\"Yes\\\"]\",\"[\\\"Yes\\\"]\",\"[\\\"Yes\\\"]\",\"[\\\"Yes\\\"]\",\"[\\\"Yes\\\"]\",\"[\\\"Yes\\\"]\",\"[\\\"Yes\\\"]\",\"[\\\"Yes\\\"]\",\"[\\\"Yes\\\"]\",\"[\\\"Yes\\\"]\",\"[\\\"Yes\\\"]\",\"[\\\"Yes\\\"]\",\"[\\\"Yes\\\"]\",\"[\\\"Yes\\\"]\",\"[\\\"Yes\\\"]\",\"[\\\"Yes\\\"]\",\"[\\\"Yes\\\"]\",\"[\\\"Yes\\\"]\",\"[\\\"Yes\\\"]\",\"[\\\"Yes\\\"]\",\"[\\\"Yes\\\"]\",\"[\\\"Yes\\\"]\",\"[\\\"Yes\\\"]\",\"[\\\"Yes\\\"]\",\"[\\\"Yes\\\"]\",\"[\\\"Yes\\\"]\",\"[\\\"Yes\\\"]\",\"[\\\"Yes\\\"]\",\"[\\\"Yes\\\"]\",\"[\\\"Yes\\\"]\",\"[\\\"Yes\\\"]\",\"[\\\"Yes\\\"]\",\"[\\\"Yes\\\"]\",\"[\\\"Yes\\\"]\",\"[\\\"Yes\\\"]\",\"[\\\"Yes\\\"]\",\"[\\\"Yes\\\"]\",\"[\\\"Yes\\\"]\",\"[\\\"Yes\\\"]\",\"[\\\"Yes\\\"]\",\"[\\\"Yes\\\"]\",\"[\\\"Yes\\\"]\",\"[\\\"Yes\\\"]\",\"[\\\"Yes\\\"]\",\"[\\\"Yes\\\"]\",\"[\\\"Yes\\\"]\",\"[\\\"Yes\\\"]\",\"[\\\"Yes\\\"]\",\"[\\\"Yes\\\"]\",\"[\\\"Yes\\\"]\",\"[\\\"Yes\\\"]\",\"[\\\"Yes\\\"]\",\"[\\\"Yes\\\"]\",\"[\\\"Yes\\\"]\",\"[\\\"Yes\\\"]\",\"[\\\"Yes\\\"]\",\"[\\\"Yes\\\"]\",\"[\\\"Yes\\\"]\",\"[\\\"Yes\\\"]\"],\"x0\":\" \",\"xaxis\":\"x\",\"y\":[6000000000,525000000000,134000000000,100000000000,7000000000,110000000000,57000000000,5000000000,19000000000,41000000000,21000000000,23000000000,46000000000,42000000000,46000000000,70000000000,17000000000,52000000000,27000000000,12000000000,20000000000,50000000000,11000000000,4000000000,10000000000,121000000000,8000000000,27000000000,14000000000,369000000000,14000000000,97000000000,6000000000,14000000000,29000000000,27000000000,196000000000,571000000000,178000000000,5000000000,63000000000,7000000000,101000000000,13000000000,97000000000,88000000000,73000000000,7000000000,24000000000,39000000000,7000000000,33000000000,13000000000,31000000000,81000000000,154000000000,44000000000,17000000000,13000000000,69000000000,22000000000,166000000000,154000000000,7000000000,46000000000,63000000000,11000000000,7000000000,83000000000,44000000000,56000000000,120000000000,8000000000,95000000000],\"y0\":\" \",\"yaxis\":\"y\"},{\"alignmentgroup\":\"True\",\"hovertemplate\":\"category.labels=%{x}<br>TaskDuration=%{y}<extra></extra>\",\"legendgroup\":\"[\\\"No\\\"]\",\"marker\":{\"color\":\"#EF553B\"},\"name\":\"[\\\"No\\\"]\",\"notched\":false,\"offsetgroup\":\"[\\\"No\\\"]\",\"orientation\":\"v\",\"showlegend\":true,\"type\":\"box\",\"x\":[\"[\\\"No\\\"]\",\"[\\\"No\\\"]\",\"[\\\"No\\\"]\",\"[\\\"No\\\"]\",\"[\\\"No\\\"]\",\"[\\\"No\\\"]\",\"[\\\"No\\\"]\",\"[\\\"No\\\"]\",\"[\\\"No\\\"]\",\"[\\\"No\\\"]\",\"[\\\"No\\\"]\",\"[\\\"No\\\"]\",\"[\\\"No\\\"]\",\"[\\\"No\\\"]\",\"[\\\"No\\\"]\",\"[\\\"No\\\"]\",\"[\\\"No\\\"]\",\"[\\\"No\\\"]\",\"[\\\"No\\\"]\",\"[\\\"No\\\"]\",\"[\\\"No\\\"]\",\"[\\\"No\\\"]\",\"[\\\"No\\\"]\",\"[\\\"No\\\"]\",\"[\\\"No\\\"]\",\"[\\\"No\\\"]\",\"[\\\"No\\\"]\",\"[\\\"No\\\"]\",\"[\\\"No\\\"]\",\"[\\\"No\\\"]\",\"[\\\"No\\\"]\",\"[\\\"No\\\"]\",\"[\\\"No\\\"]\",\"[\\\"No\\\"]\",\"[\\\"No\\\"]\",\"[\\\"No\\\"]\",\"[\\\"No\\\"]\",\"[\\\"No\\\"]\",\"[\\\"No\\\"]\",\"[\\\"No\\\"]\"],\"x0\":\" \",\"xaxis\":\"x\",\"y\":[6000000000,61000000000,113000000000,12000000000,161000000000,96000000000,16000000000,94000000000,68000000000,15000000000,190000000000,53000000000,32000000000,18000000000,136000000000,88000000000,107000000000,85000000000,25000000000,4000000000,142000000000,92000000000,102000000000,29000000000,51000000000,13000000000,226000000000,42000000000,64000000000,37000000000,28000000000,90000000000,61000000000,93000000000,19000000000,176000000000,109000000000,102000000000,20000000000,67000000000],\"y0\":\" \",\"yaxis\":\"y\"},{\"alignmentgroup\":\"True\",\"hovertemplate\":\"category.labels=%{x}<br>TaskDuration=%{y}<extra></extra>\",\"legendgroup\":\"[\\\"Not sure (skip)\\\"]\",\"marker\":{\"color\":\"#00cc96\"},\"name\":\"[\\\"Not sure (skip)\\\"]\",\"notched\":false,\"offsetgroup\":\"[\\\"Not sure (skip)\\\"]\",\"orientation\":\"v\",\"showlegend\":true,\"type\":\"box\",\"x\":[\"[\\\"Not sure (skip)\\\"]\",\"[\\\"Not sure (skip)\\\"]\",\"[\\\"Not sure (skip)\\\"]\",\"[\\\"Not sure (skip)\\\"]\",\"[\\\"Not sure (skip)\\\"]\",\"[\\\"Not sure (skip)\\\"]\"],\"x0\":\" \",\"xaxis\":\"x\",\"y\":[88000000000,113000000000,90000000000,190000000000,30000000000,218000000000],\"y0\":\" \",\"yaxis\":\"y\"}],                        {\"boxmode\":\"overlay\",\"legend\":{\"title\":{\"text\":\"category.labels\"},\"tracegroupgap\":0},\"margin\":{\"t\":60},\"template\":{\"data\":{\"bar\":[{\"error_x\":{\"color\":\"#2a3f5f\"},\"error_y\":{\"color\":\"#2a3f5f\"},\"marker\":{\"line\":{\"color\":\"#E5ECF6\",\"width\":0.5},\"pattern\":{\"fillmode\":\"overlay\",\"size\":10,\"solidity\":0.2}},\"type\":\"bar\"}],\"barpolar\":[{\"marker\":{\"line\":{\"color\":\"#E5ECF6\",\"width\":0.5},\"pattern\":{\"fillmode\":\"overlay\",\"size\":10,\"solidity\":0.2}},\"type\":\"barpolar\"}],\"carpet\":[{\"aaxis\":{\"endlinecolor\":\"#2a3f5f\",\"gridcolor\":\"white\",\"linecolor\":\"white\",\"minorgridcolor\":\"white\",\"startlinecolor\":\"#2a3f5f\"},\"baxis\":{\"endlinecolor\":\"#2a3f5f\",\"gridcolor\":\"white\",\"linecolor\":\"white\",\"minorgridcolor\":\"white\",\"startlinecolor\":\"#2a3f5f\"},\"type\":\"carpet\"}],\"choropleth\":[{\"colorbar\":{\"outlinewidth\":0,\"ticks\":\"\"},\"type\":\"choropleth\"}],\"contour\":[{\"colorbar\":{\"outlinewidth\":0,\"ticks\":\"\"},\"colorscale\":[[0.0,\"#0d0887\"],[0.1111111111111111,\"#46039f\"],[0.2222222222222222,\"#7201a8\"],[0.3333333333333333,\"#9c179e\"],[0.4444444444444444,\"#bd3786\"],[0.5555555555555556,\"#d8576b\"],[0.6666666666666666,\"#ed7953\"],[0.7777777777777778,\"#fb9f3a\"],[0.8888888888888888,\"#fdca26\"],[1.0,\"#f0f921\"]],\"type\":\"contour\"}],\"contourcarpet\":[{\"colorbar\":{\"outlinewidth\":0,\"ticks\":\"\"},\"type\":\"contourcarpet\"}],\"heatmap\":[{\"colorbar\":{\"outlinewidth\":0,\"ticks\":\"\"},\"colorscale\":[[0.0,\"#0d0887\"],[0.1111111111111111,\"#46039f\"],[0.2222222222222222,\"#7201a8\"],[0.3333333333333333,\"#9c179e\"],[0.4444444444444444,\"#bd3786\"],[0.5555555555555556,\"#d8576b\"],[0.6666666666666666,\"#ed7953\"],[0.7777777777777778,\"#fb9f3a\"],[0.8888888888888888,\"#fdca26\"],[1.0,\"#f0f921\"]],\"type\":\"heatmap\"}],\"heatmapgl\":[{\"colorbar\":{\"outlinewidth\":0,\"ticks\":\"\"},\"colorscale\":[[0.0,\"#0d0887\"],[0.1111111111111111,\"#46039f\"],[0.2222222222222222,\"#7201a8\"],[0.3333333333333333,\"#9c179e\"],[0.4444444444444444,\"#bd3786\"],[0.5555555555555556,\"#d8576b\"],[0.6666666666666666,\"#ed7953\"],[0.7777777777777778,\"#fb9f3a\"],[0.8888888888888888,\"#fdca26\"],[1.0,\"#f0f921\"]],\"type\":\"heatmapgl\"}],\"histogram\":[{\"marker\":{\"pattern\":{\"fillmode\":\"overlay\",\"size\":10,\"solidity\":0.2}},\"type\":\"histogram\"}],\"histogram2d\":[{\"colorbar\":{\"outlinewidth\":0,\"ticks\":\"\"},\"colorscale\":[[0.0,\"#0d0887\"],[0.1111111111111111,\"#46039f\"],[0.2222222222222222,\"#7201a8\"],[0.3333333333333333,\"#9c179e\"],[0.4444444444444444,\"#bd3786\"],[0.5555555555555556,\"#d8576b\"],[0.6666666666666666,\"#ed7953\"],[0.7777777777777778,\"#fb9f3a\"],[0.8888888888888888,\"#fdca26\"],[1.0,\"#f0f921\"]],\"type\":\"histogram2d\"}],\"histogram2dcontour\":[{\"colorbar\":{\"outlinewidth\":0,\"ticks\":\"\"},\"colorscale\":[[0.0,\"#0d0887\"],[0.1111111111111111,\"#46039f\"],[0.2222222222222222,\"#7201a8\"],[0.3333333333333333,\"#9c179e\"],[0.4444444444444444,\"#bd3786\"],[0.5555555555555556,\"#d8576b\"],[0.6666666666666666,\"#ed7953\"],[0.7777777777777778,\"#fb9f3a\"],[0.8888888888888888,\"#fdca26\"],[1.0,\"#f0f921\"]],\"type\":\"histogram2dcontour\"}],\"mesh3d\":[{\"colorbar\":{\"outlinewidth\":0,\"ticks\":\"\"},\"type\":\"mesh3d\"}],\"parcoords\":[{\"line\":{\"colorbar\":{\"outlinewidth\":0,\"ticks\":\"\"}},\"type\":\"parcoords\"}],\"pie\":[{\"automargin\":true,\"type\":\"pie\"}],\"scatter\":[{\"marker\":{\"colorbar\":{\"outlinewidth\":0,\"ticks\":\"\"}},\"type\":\"scatter\"}],\"scatter3d\":[{\"line\":{\"colorbar\":{\"outlinewidth\":0,\"ticks\":\"\"}},\"marker\":{\"colorbar\":{\"outlinewidth\":0,\"ticks\":\"\"}},\"type\":\"scatter3d\"}],\"scattercarpet\":[{\"marker\":{\"colorbar\":{\"outlinewidth\":0,\"ticks\":\"\"}},\"type\":\"scattercarpet\"}],\"scattergeo\":[{\"marker\":{\"colorbar\":{\"outlinewidth\":0,\"ticks\":\"\"}},\"type\":\"scattergeo\"}],\"scattergl\":[{\"marker\":{\"colorbar\":{\"outlinewidth\":0,\"ticks\":\"\"}},\"type\":\"scattergl\"}],\"scattermapbox\":[{\"marker\":{\"colorbar\":{\"outlinewidth\":0,\"ticks\":\"\"}},\"type\":\"scattermapbox\"}],\"scatterpolar\":[{\"marker\":{\"colorbar\":{\"outlinewidth\":0,\"ticks\":\"\"}},\"type\":\"scatterpolar\"}],\"scatterpolargl\":[{\"marker\":{\"colorbar\":{\"outlinewidth\":0,\"ticks\":\"\"}},\"type\":\"scatterpolargl\"}],\"scatterternary\":[{\"marker\":{\"colorbar\":{\"outlinewidth\":0,\"ticks\":\"\"}},\"type\":\"scatterternary\"}],\"surface\":[{\"colorbar\":{\"outlinewidth\":0,\"ticks\":\"\"},\"colorscale\":[[0.0,\"#0d0887\"],[0.1111111111111111,\"#46039f\"],[0.2222222222222222,\"#7201a8\"],[0.3333333333333333,\"#9c179e\"],[0.4444444444444444,\"#bd3786\"],[0.5555555555555556,\"#d8576b\"],[0.6666666666666666,\"#ed7953\"],[0.7777777777777778,\"#fb9f3a\"],[0.8888888888888888,\"#fdca26\"],[1.0,\"#f0f921\"]],\"type\":\"surface\"}],\"table\":[{\"cells\":{\"fill\":{\"color\":\"#EBF0F8\"},\"line\":{\"color\":\"white\"}},\"header\":{\"fill\":{\"color\":\"#C8D4E3\"},\"line\":{\"color\":\"white\"}},\"type\":\"table\"}]},\"layout\":{\"annotationdefaults\":{\"arrowcolor\":\"#2a3f5f\",\"arrowhead\":0,\"arrowwidth\":1},\"autotypenumbers\":\"strict\",\"coloraxis\":{\"colorbar\":{\"outlinewidth\":0,\"ticks\":\"\"}},\"colorscale\":{\"diverging\":[[0,\"#8e0152\"],[0.1,\"#c51b7d\"],[0.2,\"#de77ae\"],[0.3,\"#f1b6da\"],[0.4,\"#fde0ef\"],[0.5,\"#f7f7f7\"],[0.6,\"#e6f5d0\"],[0.7,\"#b8e186\"],[0.8,\"#7fbc41\"],[0.9,\"#4d9221\"],[1,\"#276419\"]],\"sequential\":[[0.0,\"#0d0887\"],[0.1111111111111111,\"#46039f\"],[0.2222222222222222,\"#7201a8\"],[0.3333333333333333,\"#9c179e\"],[0.4444444444444444,\"#bd3786\"],[0.5555555555555556,\"#d8576b\"],[0.6666666666666666,\"#ed7953\"],[0.7777777777777778,\"#fb9f3a\"],[0.8888888888888888,\"#fdca26\"],[1.0,\"#f0f921\"]],\"sequentialminus\":[[0.0,\"#0d0887\"],[0.1111111111111111,\"#46039f\"],[0.2222222222222222,\"#7201a8\"],[0.3333333333333333,\"#9c179e\"],[0.4444444444444444,\"#bd3786\"],[0.5555555555555556,\"#d8576b\"],[0.6666666666666666,\"#ed7953\"],[0.7777777777777778,\"#fb9f3a\"],[0.8888888888888888,\"#fdca26\"],[1.0,\"#f0f921\"]]},\"colorway\":[\"#636efa\",\"#EF553B\",\"#00cc96\",\"#ab63fa\",\"#FFA15A\",\"#19d3f3\",\"#FF6692\",\"#B6E880\",\"#FF97FF\",\"#FECB52\"],\"font\":{\"color\":\"#2a3f5f\"},\"geo\":{\"bgcolor\":\"white\",\"lakecolor\":\"white\",\"landcolor\":\"#E5ECF6\",\"showlakes\":true,\"showland\":true,\"subunitcolor\":\"white\"},\"hoverlabel\":{\"align\":\"left\"},\"hovermode\":\"closest\",\"mapbox\":{\"style\":\"light\"},\"paper_bgcolor\":\"white\",\"plot_bgcolor\":\"#E5ECF6\",\"polar\":{\"angularaxis\":{\"gridcolor\":\"white\",\"linecolor\":\"white\",\"ticks\":\"\"},\"bgcolor\":\"#E5ECF6\",\"radialaxis\":{\"gridcolor\":\"white\",\"linecolor\":\"white\",\"ticks\":\"\"}},\"scene\":{\"xaxis\":{\"backgroundcolor\":\"#E5ECF6\",\"gridcolor\":\"white\",\"gridwidth\":2,\"linecolor\":\"white\",\"showbackground\":true,\"ticks\":\"\",\"zerolinecolor\":\"white\"},\"yaxis\":{\"backgroundcolor\":\"#E5ECF6\",\"gridcolor\":\"white\",\"gridwidth\":2,\"linecolor\":\"white\",\"showbackground\":true,\"ticks\":\"\",\"zerolinecolor\":\"white\"},\"zaxis\":{\"backgroundcolor\":\"#E5ECF6\",\"gridcolor\":\"white\",\"gridwidth\":2,\"linecolor\":\"white\",\"showbackground\":true,\"ticks\":\"\",\"zerolinecolor\":\"white\"}},\"shapedefaults\":{\"line\":{\"color\":\"#2a3f5f\"}},\"ternary\":{\"aaxis\":{\"gridcolor\":\"white\",\"linecolor\":\"white\",\"ticks\":\"\"},\"baxis\":{\"gridcolor\":\"white\",\"linecolor\":\"white\",\"ticks\":\"\"},\"bgcolor\":\"#E5ECF6\",\"caxis\":{\"gridcolor\":\"white\",\"linecolor\":\"white\",\"ticks\":\"\"}},\"title\":{\"x\":0.05},\"xaxis\":{\"automargin\":true,\"gridcolor\":\"white\",\"linecolor\":\"white\",\"ticks\":\"\",\"title\":{\"standoff\":15},\"zerolinecolor\":\"white\",\"zerolinewidth\":2},\"yaxis\":{\"automargin\":true,\"gridcolor\":\"white\",\"linecolor\":\"white\",\"ticks\":\"\",\"title\":{\"standoff\":15},\"zerolinecolor\":\"white\",\"zerolinewidth\":2}}},\"xaxis\":{\"anchor\":\"y\",\"categoryarray\":[\"[\\\"Yes\\\"]\",\"[\\\"No\\\"]\",\"[\\\"Not sure (skip)\\\"]\"],\"categoryorder\":\"array\",\"domain\":[0.0,1.0],\"title\":{\"text\":\"category.labels\"}},\"yaxis\":{\"anchor\":\"x\",\"domain\":[0.0,1.0],\"title\":{\"text\":\"TaskDuration\"}}},                        {\"responsive\": true}                    ).then(function(){\n",
       "                            \n",
       "var gd = document.getElementById('06cbe6be-cffc-464a-a89c-08ac9267b210');\n",
       "var x = new MutationObserver(function (mutations, observer) {{\n",
       "        var display = window.getComputedStyle(gd).display;\n",
       "        if (!display || display === 'none') {{\n",
       "            console.log([gd, 'removed!']);\n",
       "            Plotly.purge(gd);\n",
       "            observer.disconnect();\n",
       "        }}\n",
       "}});\n",
       "\n",
       "// Listen for the removal of the full notebook cells\n",
       "var notebookContainer = gd.closest('#notebook-container');\n",
       "if (notebookContainer) {{\n",
       "    x.observe(notebookContainer, {childList: true});\n",
       "}}\n",
       "\n",
       "// Listen for the clearing of the current output cell\n",
       "var outputEl = gd.closest('.output');\n",
       "if (outputEl) {{\n",
       "    x.observe(outputEl, {childList: true});\n",
       "}}\n",
       "\n",
       "                        })                };                });            </script>        </div>"
      ]
     },
     "metadata": {},
     "output_type": "display_data"
    }
   ],
   "source": [
    "fig = px.box(df, x = \"category.labels\", y = \"TaskDuration\", color = \"category.labels\")\n",
    "fig.show()"
   ]
  },
  {
   "cell_type": "code",
   "execution_count": 109,
   "id": "89bba13c",
   "metadata": {},
   "outputs": [
    {
     "data": {
      "application/vnd.plotly.v1+json": {
       "config": {
        "plotlyServerURL": "https://plot.ly"
       },
       "data": [
        {
         "alignmentgroup": "True",
         "boxpoints": "all",
         "hovertemplate": "category.labels=%{x}<br>TaskDuration=%{y}<extra></extra>",
         "legendgroup": "[\"Yes\"]",
         "marker": {
          "color": "#636efa"
         },
         "name": "[\"Yes\"]",
         "notched": false,
         "offsetgroup": "[\"Yes\"]",
         "orientation": "v",
         "showlegend": true,
         "type": "box",
         "x": [
          "[\"Yes\"]",
          "[\"Yes\"]",
          "[\"Yes\"]",
          "[\"Yes\"]",
          "[\"Yes\"]",
          "[\"Yes\"]",
          "[\"Yes\"]",
          "[\"Yes\"]",
          "[\"Yes\"]",
          "[\"Yes\"]",
          "[\"Yes\"]",
          "[\"Yes\"]",
          "[\"Yes\"]",
          "[\"Yes\"]",
          "[\"Yes\"]",
          "[\"Yes\"]",
          "[\"Yes\"]",
          "[\"Yes\"]",
          "[\"Yes\"]",
          "[\"Yes\"]",
          "[\"Yes\"]",
          "[\"Yes\"]",
          "[\"Yes\"]",
          "[\"Yes\"]",
          "[\"Yes\"]",
          "[\"Yes\"]",
          "[\"Yes\"]",
          "[\"Yes\"]",
          "[\"Yes\"]",
          "[\"Yes\"]",
          "[\"Yes\"]",
          "[\"Yes\"]",
          "[\"Yes\"]",
          "[\"Yes\"]",
          "[\"Yes\"]",
          "[\"Yes\"]",
          "[\"Yes\"]",
          "[\"Yes\"]",
          "[\"Yes\"]",
          "[\"Yes\"]",
          "[\"Yes\"]",
          "[\"Yes\"]",
          "[\"Yes\"]",
          "[\"Yes\"]",
          "[\"Yes\"]",
          "[\"Yes\"]",
          "[\"Yes\"]",
          "[\"Yes\"]",
          "[\"Yes\"]",
          "[\"Yes\"]",
          "[\"Yes\"]",
          "[\"Yes\"]",
          "[\"Yes\"]",
          "[\"Yes\"]",
          "[\"Yes\"]",
          "[\"Yes\"]",
          "[\"Yes\"]",
          "[\"Yes\"]",
          "[\"Yes\"]",
          "[\"Yes\"]",
          "[\"Yes\"]",
          "[\"Yes\"]",
          "[\"Yes\"]",
          "[\"Yes\"]",
          "[\"Yes\"]",
          "[\"Yes\"]",
          "[\"Yes\"]",
          "[\"Yes\"]",
          "[\"Yes\"]",
          "[\"Yes\"]",
          "[\"Yes\"]",
          "[\"Yes\"]",
          "[\"Yes\"]",
          "[\"Yes\"]"
         ],
         "x0": " ",
         "xaxis": "x",
         "y": [
          6000000000,
          525000000000,
          134000000000,
          100000000000,
          7000000000,
          110000000000,
          57000000000,
          5000000000,
          19000000000,
          41000000000,
          21000000000,
          23000000000,
          46000000000,
          42000000000,
          46000000000,
          70000000000,
          17000000000,
          52000000000,
          27000000000,
          12000000000,
          20000000000,
          50000000000,
          11000000000,
          4000000000,
          10000000000,
          121000000000,
          8000000000,
          27000000000,
          14000000000,
          369000000000,
          14000000000,
          97000000000,
          6000000000,
          14000000000,
          29000000000,
          27000000000,
          196000000000,
          571000000000,
          178000000000,
          5000000000,
          63000000000,
          7000000000,
          101000000000,
          13000000000,
          97000000000,
          88000000000,
          73000000000,
          7000000000,
          24000000000,
          39000000000,
          7000000000,
          33000000000,
          13000000000,
          31000000000,
          81000000000,
          154000000000,
          44000000000,
          17000000000,
          13000000000,
          69000000000,
          22000000000,
          166000000000,
          154000000000,
          7000000000,
          46000000000,
          63000000000,
          11000000000,
          7000000000,
          83000000000,
          44000000000,
          56000000000,
          120000000000,
          8000000000,
          95000000000
         ],
         "y0": " ",
         "yaxis": "y"
        },
        {
         "alignmentgroup": "True",
         "boxpoints": "all",
         "hovertemplate": "category.labels=%{x}<br>TaskDuration=%{y}<extra></extra>",
         "legendgroup": "[\"No\"]",
         "marker": {
          "color": "#EF553B"
         },
         "name": "[\"No\"]",
         "notched": false,
         "offsetgroup": "[\"No\"]",
         "orientation": "v",
         "showlegend": true,
         "type": "box",
         "x": [
          "[\"No\"]",
          "[\"No\"]",
          "[\"No\"]",
          "[\"No\"]",
          "[\"No\"]",
          "[\"No\"]",
          "[\"No\"]",
          "[\"No\"]",
          "[\"No\"]",
          "[\"No\"]",
          "[\"No\"]",
          "[\"No\"]",
          "[\"No\"]",
          "[\"No\"]",
          "[\"No\"]",
          "[\"No\"]",
          "[\"No\"]",
          "[\"No\"]",
          "[\"No\"]",
          "[\"No\"]",
          "[\"No\"]",
          "[\"No\"]",
          "[\"No\"]",
          "[\"No\"]",
          "[\"No\"]",
          "[\"No\"]",
          "[\"No\"]",
          "[\"No\"]",
          "[\"No\"]",
          "[\"No\"]",
          "[\"No\"]",
          "[\"No\"]",
          "[\"No\"]",
          "[\"No\"]",
          "[\"No\"]",
          "[\"No\"]",
          "[\"No\"]",
          "[\"No\"]",
          "[\"No\"]",
          "[\"No\"]"
         ],
         "x0": " ",
         "xaxis": "x",
         "y": [
          6000000000,
          61000000000,
          113000000000,
          12000000000,
          161000000000,
          96000000000,
          16000000000,
          94000000000,
          68000000000,
          15000000000,
          190000000000,
          53000000000,
          32000000000,
          18000000000,
          136000000000,
          88000000000,
          107000000000,
          85000000000,
          25000000000,
          4000000000,
          142000000000,
          92000000000,
          102000000000,
          29000000000,
          51000000000,
          13000000000,
          226000000000,
          42000000000,
          64000000000,
          37000000000,
          28000000000,
          90000000000,
          61000000000,
          93000000000,
          19000000000,
          176000000000,
          109000000000,
          102000000000,
          20000000000,
          67000000000
         ],
         "y0": " ",
         "yaxis": "y"
        },
        {
         "alignmentgroup": "True",
         "boxpoints": "all",
         "hovertemplate": "category.labels=%{x}<br>TaskDuration=%{y}<extra></extra>",
         "legendgroup": "[\"Not sure (skip)\"]",
         "marker": {
          "color": "#00cc96"
         },
         "name": "[\"Not sure (skip)\"]",
         "notched": false,
         "offsetgroup": "[\"Not sure (skip)\"]",
         "orientation": "v",
         "showlegend": true,
         "type": "box",
         "x": [
          "[\"Not sure (skip)\"]",
          "[\"Not sure (skip)\"]",
          "[\"Not sure (skip)\"]",
          "[\"Not sure (skip)\"]",
          "[\"Not sure (skip)\"]",
          "[\"Not sure (skip)\"]"
         ],
         "x0": " ",
         "xaxis": "x",
         "y": [
          88000000000,
          113000000000,
          90000000000,
          190000000000,
          30000000000,
          218000000000
         ],
         "y0": " ",
         "yaxis": "y"
        }
       ],
       "layout": {
        "boxmode": "overlay",
        "legend": {
         "title": {
          "text": "category.labels"
         },
         "tracegroupgap": 0
        },
        "margin": {
         "t": 60
        },
        "template": {
         "data": {
          "bar": [
           {
            "error_x": {
             "color": "#2a3f5f"
            },
            "error_y": {
             "color": "#2a3f5f"
            },
            "marker": {
             "line": {
              "color": "#E5ECF6",
              "width": 0.5
             },
             "pattern": {
              "fillmode": "overlay",
              "size": 10,
              "solidity": 0.2
             }
            },
            "type": "bar"
           }
          ],
          "barpolar": [
           {
            "marker": {
             "line": {
              "color": "#E5ECF6",
              "width": 0.5
             },
             "pattern": {
              "fillmode": "overlay",
              "size": 10,
              "solidity": 0.2
             }
            },
            "type": "barpolar"
           }
          ],
          "carpet": [
           {
            "aaxis": {
             "endlinecolor": "#2a3f5f",
             "gridcolor": "white",
             "linecolor": "white",
             "minorgridcolor": "white",
             "startlinecolor": "#2a3f5f"
            },
            "baxis": {
             "endlinecolor": "#2a3f5f",
             "gridcolor": "white",
             "linecolor": "white",
             "minorgridcolor": "white",
             "startlinecolor": "#2a3f5f"
            },
            "type": "carpet"
           }
          ],
          "choropleth": [
           {
            "colorbar": {
             "outlinewidth": 0,
             "ticks": ""
            },
            "type": "choropleth"
           }
          ],
          "contour": [
           {
            "colorbar": {
             "outlinewidth": 0,
             "ticks": ""
            },
            "colorscale": [
             [
              0,
              "#0d0887"
             ],
             [
              0.1111111111111111,
              "#46039f"
             ],
             [
              0.2222222222222222,
              "#7201a8"
             ],
             [
              0.3333333333333333,
              "#9c179e"
             ],
             [
              0.4444444444444444,
              "#bd3786"
             ],
             [
              0.5555555555555556,
              "#d8576b"
             ],
             [
              0.6666666666666666,
              "#ed7953"
             ],
             [
              0.7777777777777778,
              "#fb9f3a"
             ],
             [
              0.8888888888888888,
              "#fdca26"
             ],
             [
              1,
              "#f0f921"
             ]
            ],
            "type": "contour"
           }
          ],
          "contourcarpet": [
           {
            "colorbar": {
             "outlinewidth": 0,
             "ticks": ""
            },
            "type": "contourcarpet"
           }
          ],
          "heatmap": [
           {
            "colorbar": {
             "outlinewidth": 0,
             "ticks": ""
            },
            "colorscale": [
             [
              0,
              "#0d0887"
             ],
             [
              0.1111111111111111,
              "#46039f"
             ],
             [
              0.2222222222222222,
              "#7201a8"
             ],
             [
              0.3333333333333333,
              "#9c179e"
             ],
             [
              0.4444444444444444,
              "#bd3786"
             ],
             [
              0.5555555555555556,
              "#d8576b"
             ],
             [
              0.6666666666666666,
              "#ed7953"
             ],
             [
              0.7777777777777778,
              "#fb9f3a"
             ],
             [
              0.8888888888888888,
              "#fdca26"
             ],
             [
              1,
              "#f0f921"
             ]
            ],
            "type": "heatmap"
           }
          ],
          "heatmapgl": [
           {
            "colorbar": {
             "outlinewidth": 0,
             "ticks": ""
            },
            "colorscale": [
             [
              0,
              "#0d0887"
             ],
             [
              0.1111111111111111,
              "#46039f"
             ],
             [
              0.2222222222222222,
              "#7201a8"
             ],
             [
              0.3333333333333333,
              "#9c179e"
             ],
             [
              0.4444444444444444,
              "#bd3786"
             ],
             [
              0.5555555555555556,
              "#d8576b"
             ],
             [
              0.6666666666666666,
              "#ed7953"
             ],
             [
              0.7777777777777778,
              "#fb9f3a"
             ],
             [
              0.8888888888888888,
              "#fdca26"
             ],
             [
              1,
              "#f0f921"
             ]
            ],
            "type": "heatmapgl"
           }
          ],
          "histogram": [
           {
            "marker": {
             "pattern": {
              "fillmode": "overlay",
              "size": 10,
              "solidity": 0.2
             }
            },
            "type": "histogram"
           }
          ],
          "histogram2d": [
           {
            "colorbar": {
             "outlinewidth": 0,
             "ticks": ""
            },
            "colorscale": [
             [
              0,
              "#0d0887"
             ],
             [
              0.1111111111111111,
              "#46039f"
             ],
             [
              0.2222222222222222,
              "#7201a8"
             ],
             [
              0.3333333333333333,
              "#9c179e"
             ],
             [
              0.4444444444444444,
              "#bd3786"
             ],
             [
              0.5555555555555556,
              "#d8576b"
             ],
             [
              0.6666666666666666,
              "#ed7953"
             ],
             [
              0.7777777777777778,
              "#fb9f3a"
             ],
             [
              0.8888888888888888,
              "#fdca26"
             ],
             [
              1,
              "#f0f921"
             ]
            ],
            "type": "histogram2d"
           }
          ],
          "histogram2dcontour": [
           {
            "colorbar": {
             "outlinewidth": 0,
             "ticks": ""
            },
            "colorscale": [
             [
              0,
              "#0d0887"
             ],
             [
              0.1111111111111111,
              "#46039f"
             ],
             [
              0.2222222222222222,
              "#7201a8"
             ],
             [
              0.3333333333333333,
              "#9c179e"
             ],
             [
              0.4444444444444444,
              "#bd3786"
             ],
             [
              0.5555555555555556,
              "#d8576b"
             ],
             [
              0.6666666666666666,
              "#ed7953"
             ],
             [
              0.7777777777777778,
              "#fb9f3a"
             ],
             [
              0.8888888888888888,
              "#fdca26"
             ],
             [
              1,
              "#f0f921"
             ]
            ],
            "type": "histogram2dcontour"
           }
          ],
          "mesh3d": [
           {
            "colorbar": {
             "outlinewidth": 0,
             "ticks": ""
            },
            "type": "mesh3d"
           }
          ],
          "parcoords": [
           {
            "line": {
             "colorbar": {
              "outlinewidth": 0,
              "ticks": ""
             }
            },
            "type": "parcoords"
           }
          ],
          "pie": [
           {
            "automargin": true,
            "type": "pie"
           }
          ],
          "scatter": [
           {
            "marker": {
             "colorbar": {
              "outlinewidth": 0,
              "ticks": ""
             }
            },
            "type": "scatter"
           }
          ],
          "scatter3d": [
           {
            "line": {
             "colorbar": {
              "outlinewidth": 0,
              "ticks": ""
             }
            },
            "marker": {
             "colorbar": {
              "outlinewidth": 0,
              "ticks": ""
             }
            },
            "type": "scatter3d"
           }
          ],
          "scattercarpet": [
           {
            "marker": {
             "colorbar": {
              "outlinewidth": 0,
              "ticks": ""
             }
            },
            "type": "scattercarpet"
           }
          ],
          "scattergeo": [
           {
            "marker": {
             "colorbar": {
              "outlinewidth": 0,
              "ticks": ""
             }
            },
            "type": "scattergeo"
           }
          ],
          "scattergl": [
           {
            "marker": {
             "colorbar": {
              "outlinewidth": 0,
              "ticks": ""
             }
            },
            "type": "scattergl"
           }
          ],
          "scattermapbox": [
           {
            "marker": {
             "colorbar": {
              "outlinewidth": 0,
              "ticks": ""
             }
            },
            "type": "scattermapbox"
           }
          ],
          "scatterpolar": [
           {
            "marker": {
             "colorbar": {
              "outlinewidth": 0,
              "ticks": ""
             }
            },
            "type": "scatterpolar"
           }
          ],
          "scatterpolargl": [
           {
            "marker": {
             "colorbar": {
              "outlinewidth": 0,
              "ticks": ""
             }
            },
            "type": "scatterpolargl"
           }
          ],
          "scatterternary": [
           {
            "marker": {
             "colorbar": {
              "outlinewidth": 0,
              "ticks": ""
             }
            },
            "type": "scatterternary"
           }
          ],
          "surface": [
           {
            "colorbar": {
             "outlinewidth": 0,
             "ticks": ""
            },
            "colorscale": [
             [
              0,
              "#0d0887"
             ],
             [
              0.1111111111111111,
              "#46039f"
             ],
             [
              0.2222222222222222,
              "#7201a8"
             ],
             [
              0.3333333333333333,
              "#9c179e"
             ],
             [
              0.4444444444444444,
              "#bd3786"
             ],
             [
              0.5555555555555556,
              "#d8576b"
             ],
             [
              0.6666666666666666,
              "#ed7953"
             ],
             [
              0.7777777777777778,
              "#fb9f3a"
             ],
             [
              0.8888888888888888,
              "#fdca26"
             ],
             [
              1,
              "#f0f921"
             ]
            ],
            "type": "surface"
           }
          ],
          "table": [
           {
            "cells": {
             "fill": {
              "color": "#EBF0F8"
             },
             "line": {
              "color": "white"
             }
            },
            "header": {
             "fill": {
              "color": "#C8D4E3"
             },
             "line": {
              "color": "white"
             }
            },
            "type": "table"
           }
          ]
         },
         "layout": {
          "annotationdefaults": {
           "arrowcolor": "#2a3f5f",
           "arrowhead": 0,
           "arrowwidth": 1
          },
          "autotypenumbers": "strict",
          "coloraxis": {
           "colorbar": {
            "outlinewidth": 0,
            "ticks": ""
           }
          },
          "colorscale": {
           "diverging": [
            [
             0,
             "#8e0152"
            ],
            [
             0.1,
             "#c51b7d"
            ],
            [
             0.2,
             "#de77ae"
            ],
            [
             0.3,
             "#f1b6da"
            ],
            [
             0.4,
             "#fde0ef"
            ],
            [
             0.5,
             "#f7f7f7"
            ],
            [
             0.6,
             "#e6f5d0"
            ],
            [
             0.7,
             "#b8e186"
            ],
            [
             0.8,
             "#7fbc41"
            ],
            [
             0.9,
             "#4d9221"
            ],
            [
             1,
             "#276419"
            ]
           ],
           "sequential": [
            [
             0,
             "#0d0887"
            ],
            [
             0.1111111111111111,
             "#46039f"
            ],
            [
             0.2222222222222222,
             "#7201a8"
            ],
            [
             0.3333333333333333,
             "#9c179e"
            ],
            [
             0.4444444444444444,
             "#bd3786"
            ],
            [
             0.5555555555555556,
             "#d8576b"
            ],
            [
             0.6666666666666666,
             "#ed7953"
            ],
            [
             0.7777777777777778,
             "#fb9f3a"
            ],
            [
             0.8888888888888888,
             "#fdca26"
            ],
            [
             1,
             "#f0f921"
            ]
           ],
           "sequentialminus": [
            [
             0,
             "#0d0887"
            ],
            [
             0.1111111111111111,
             "#46039f"
            ],
            [
             0.2222222222222222,
             "#7201a8"
            ],
            [
             0.3333333333333333,
             "#9c179e"
            ],
            [
             0.4444444444444444,
             "#bd3786"
            ],
            [
             0.5555555555555556,
             "#d8576b"
            ],
            [
             0.6666666666666666,
             "#ed7953"
            ],
            [
             0.7777777777777778,
             "#fb9f3a"
            ],
            [
             0.8888888888888888,
             "#fdca26"
            ],
            [
             1,
             "#f0f921"
            ]
           ]
          },
          "colorway": [
           "#636efa",
           "#EF553B",
           "#00cc96",
           "#ab63fa",
           "#FFA15A",
           "#19d3f3",
           "#FF6692",
           "#B6E880",
           "#FF97FF",
           "#FECB52"
          ],
          "font": {
           "color": "#2a3f5f"
          },
          "geo": {
           "bgcolor": "white",
           "lakecolor": "white",
           "landcolor": "#E5ECF6",
           "showlakes": true,
           "showland": true,
           "subunitcolor": "white"
          },
          "hoverlabel": {
           "align": "left"
          },
          "hovermode": "closest",
          "mapbox": {
           "style": "light"
          },
          "paper_bgcolor": "white",
          "plot_bgcolor": "#E5ECF6",
          "polar": {
           "angularaxis": {
            "gridcolor": "white",
            "linecolor": "white",
            "ticks": ""
           },
           "bgcolor": "#E5ECF6",
           "radialaxis": {
            "gridcolor": "white",
            "linecolor": "white",
            "ticks": ""
           }
          },
          "scene": {
           "xaxis": {
            "backgroundcolor": "#E5ECF6",
            "gridcolor": "white",
            "gridwidth": 2,
            "linecolor": "white",
            "showbackground": true,
            "ticks": "",
            "zerolinecolor": "white"
           },
           "yaxis": {
            "backgroundcolor": "#E5ECF6",
            "gridcolor": "white",
            "gridwidth": 2,
            "linecolor": "white",
            "showbackground": true,
            "ticks": "",
            "zerolinecolor": "white"
           },
           "zaxis": {
            "backgroundcolor": "#E5ECF6",
            "gridcolor": "white",
            "gridwidth": 2,
            "linecolor": "white",
            "showbackground": true,
            "ticks": "",
            "zerolinecolor": "white"
           }
          },
          "shapedefaults": {
           "line": {
            "color": "#2a3f5f"
           }
          },
          "ternary": {
           "aaxis": {
            "gridcolor": "white",
            "linecolor": "white",
            "ticks": ""
           },
           "baxis": {
            "gridcolor": "white",
            "linecolor": "white",
            "ticks": ""
           },
           "bgcolor": "#E5ECF6",
           "caxis": {
            "gridcolor": "white",
            "linecolor": "white",
            "ticks": ""
           }
          },
          "title": {
           "x": 0.05
          },
          "xaxis": {
           "automargin": true,
           "gridcolor": "white",
           "linecolor": "white",
           "ticks": "",
           "title": {
            "standoff": 15
           },
           "zerolinecolor": "white",
           "zerolinewidth": 2
          },
          "yaxis": {
           "automargin": true,
           "gridcolor": "white",
           "linecolor": "white",
           "ticks": "",
           "title": {
            "standoff": 15
           },
           "zerolinecolor": "white",
           "zerolinewidth": 2
          }
         }
        },
        "xaxis": {
         "anchor": "y",
         "categoryarray": [
          "[\"Yes\"]",
          "[\"No\"]",
          "[\"Not sure (skip)\"]"
         ],
         "categoryorder": "array",
         "domain": [
          0,
          1
         ],
         "title": {
          "text": "category.labels"
         }
        },
        "yaxis": {
         "anchor": "x",
         "domain": [
          0,
          1
         ],
         "title": {
          "text": "TaskDuration"
         }
        }
       }
      },
      "text/html": [
       "<div>                            <div id=\"46ebd3c3-63a1-421a-8cd2-a108a2fe02e4\" class=\"plotly-graph-div\" style=\"height:525px; width:100%;\"></div>            <script type=\"text/javascript\">                require([\"plotly\"], function(Plotly) {                    window.PLOTLYENV=window.PLOTLYENV || {};                                    if (document.getElementById(\"46ebd3c3-63a1-421a-8cd2-a108a2fe02e4\")) {                    Plotly.newPlot(                        \"46ebd3c3-63a1-421a-8cd2-a108a2fe02e4\",                        [{\"alignmentgroup\":\"True\",\"boxpoints\":\"all\",\"hovertemplate\":\"category.labels=%{x}<br>TaskDuration=%{y}<extra></extra>\",\"legendgroup\":\"[\\\"Yes\\\"]\",\"marker\":{\"color\":\"#636efa\"},\"name\":\"[\\\"Yes\\\"]\",\"notched\":false,\"offsetgroup\":\"[\\\"Yes\\\"]\",\"orientation\":\"v\",\"showlegend\":true,\"type\":\"box\",\"x\":[\"[\\\"Yes\\\"]\",\"[\\\"Yes\\\"]\",\"[\\\"Yes\\\"]\",\"[\\\"Yes\\\"]\",\"[\\\"Yes\\\"]\",\"[\\\"Yes\\\"]\",\"[\\\"Yes\\\"]\",\"[\\\"Yes\\\"]\",\"[\\\"Yes\\\"]\",\"[\\\"Yes\\\"]\",\"[\\\"Yes\\\"]\",\"[\\\"Yes\\\"]\",\"[\\\"Yes\\\"]\",\"[\\\"Yes\\\"]\",\"[\\\"Yes\\\"]\",\"[\\\"Yes\\\"]\",\"[\\\"Yes\\\"]\",\"[\\\"Yes\\\"]\",\"[\\\"Yes\\\"]\",\"[\\\"Yes\\\"]\",\"[\\\"Yes\\\"]\",\"[\\\"Yes\\\"]\",\"[\\\"Yes\\\"]\",\"[\\\"Yes\\\"]\",\"[\\\"Yes\\\"]\",\"[\\\"Yes\\\"]\",\"[\\\"Yes\\\"]\",\"[\\\"Yes\\\"]\",\"[\\\"Yes\\\"]\",\"[\\\"Yes\\\"]\",\"[\\\"Yes\\\"]\",\"[\\\"Yes\\\"]\",\"[\\\"Yes\\\"]\",\"[\\\"Yes\\\"]\",\"[\\\"Yes\\\"]\",\"[\\\"Yes\\\"]\",\"[\\\"Yes\\\"]\",\"[\\\"Yes\\\"]\",\"[\\\"Yes\\\"]\",\"[\\\"Yes\\\"]\",\"[\\\"Yes\\\"]\",\"[\\\"Yes\\\"]\",\"[\\\"Yes\\\"]\",\"[\\\"Yes\\\"]\",\"[\\\"Yes\\\"]\",\"[\\\"Yes\\\"]\",\"[\\\"Yes\\\"]\",\"[\\\"Yes\\\"]\",\"[\\\"Yes\\\"]\",\"[\\\"Yes\\\"]\",\"[\\\"Yes\\\"]\",\"[\\\"Yes\\\"]\",\"[\\\"Yes\\\"]\",\"[\\\"Yes\\\"]\",\"[\\\"Yes\\\"]\",\"[\\\"Yes\\\"]\",\"[\\\"Yes\\\"]\",\"[\\\"Yes\\\"]\",\"[\\\"Yes\\\"]\",\"[\\\"Yes\\\"]\",\"[\\\"Yes\\\"]\",\"[\\\"Yes\\\"]\",\"[\\\"Yes\\\"]\",\"[\\\"Yes\\\"]\",\"[\\\"Yes\\\"]\",\"[\\\"Yes\\\"]\",\"[\\\"Yes\\\"]\",\"[\\\"Yes\\\"]\",\"[\\\"Yes\\\"]\",\"[\\\"Yes\\\"]\",\"[\\\"Yes\\\"]\",\"[\\\"Yes\\\"]\",\"[\\\"Yes\\\"]\",\"[\\\"Yes\\\"]\"],\"x0\":\" \",\"xaxis\":\"x\",\"y\":[6000000000,525000000000,134000000000,100000000000,7000000000,110000000000,57000000000,5000000000,19000000000,41000000000,21000000000,23000000000,46000000000,42000000000,46000000000,70000000000,17000000000,52000000000,27000000000,12000000000,20000000000,50000000000,11000000000,4000000000,10000000000,121000000000,8000000000,27000000000,14000000000,369000000000,14000000000,97000000000,6000000000,14000000000,29000000000,27000000000,196000000000,571000000000,178000000000,5000000000,63000000000,7000000000,101000000000,13000000000,97000000000,88000000000,73000000000,7000000000,24000000000,39000000000,7000000000,33000000000,13000000000,31000000000,81000000000,154000000000,44000000000,17000000000,13000000000,69000000000,22000000000,166000000000,154000000000,7000000000,46000000000,63000000000,11000000000,7000000000,83000000000,44000000000,56000000000,120000000000,8000000000,95000000000],\"y0\":\" \",\"yaxis\":\"y\"},{\"alignmentgroup\":\"True\",\"boxpoints\":\"all\",\"hovertemplate\":\"category.labels=%{x}<br>TaskDuration=%{y}<extra></extra>\",\"legendgroup\":\"[\\\"No\\\"]\",\"marker\":{\"color\":\"#EF553B\"},\"name\":\"[\\\"No\\\"]\",\"notched\":false,\"offsetgroup\":\"[\\\"No\\\"]\",\"orientation\":\"v\",\"showlegend\":true,\"type\":\"box\",\"x\":[\"[\\\"No\\\"]\",\"[\\\"No\\\"]\",\"[\\\"No\\\"]\",\"[\\\"No\\\"]\",\"[\\\"No\\\"]\",\"[\\\"No\\\"]\",\"[\\\"No\\\"]\",\"[\\\"No\\\"]\",\"[\\\"No\\\"]\",\"[\\\"No\\\"]\",\"[\\\"No\\\"]\",\"[\\\"No\\\"]\",\"[\\\"No\\\"]\",\"[\\\"No\\\"]\",\"[\\\"No\\\"]\",\"[\\\"No\\\"]\",\"[\\\"No\\\"]\",\"[\\\"No\\\"]\",\"[\\\"No\\\"]\",\"[\\\"No\\\"]\",\"[\\\"No\\\"]\",\"[\\\"No\\\"]\",\"[\\\"No\\\"]\",\"[\\\"No\\\"]\",\"[\\\"No\\\"]\",\"[\\\"No\\\"]\",\"[\\\"No\\\"]\",\"[\\\"No\\\"]\",\"[\\\"No\\\"]\",\"[\\\"No\\\"]\",\"[\\\"No\\\"]\",\"[\\\"No\\\"]\",\"[\\\"No\\\"]\",\"[\\\"No\\\"]\",\"[\\\"No\\\"]\",\"[\\\"No\\\"]\",\"[\\\"No\\\"]\",\"[\\\"No\\\"]\",\"[\\\"No\\\"]\",\"[\\\"No\\\"]\"],\"x0\":\" \",\"xaxis\":\"x\",\"y\":[6000000000,61000000000,113000000000,12000000000,161000000000,96000000000,16000000000,94000000000,68000000000,15000000000,190000000000,53000000000,32000000000,18000000000,136000000000,88000000000,107000000000,85000000000,25000000000,4000000000,142000000000,92000000000,102000000000,29000000000,51000000000,13000000000,226000000000,42000000000,64000000000,37000000000,28000000000,90000000000,61000000000,93000000000,19000000000,176000000000,109000000000,102000000000,20000000000,67000000000],\"y0\":\" \",\"yaxis\":\"y\"},{\"alignmentgroup\":\"True\",\"boxpoints\":\"all\",\"hovertemplate\":\"category.labels=%{x}<br>TaskDuration=%{y}<extra></extra>\",\"legendgroup\":\"[\\\"Not sure (skip)\\\"]\",\"marker\":{\"color\":\"#00cc96\"},\"name\":\"[\\\"Not sure (skip)\\\"]\",\"notched\":false,\"offsetgroup\":\"[\\\"Not sure (skip)\\\"]\",\"orientation\":\"v\",\"showlegend\":true,\"type\":\"box\",\"x\":[\"[\\\"Not sure (skip)\\\"]\",\"[\\\"Not sure (skip)\\\"]\",\"[\\\"Not sure (skip)\\\"]\",\"[\\\"Not sure (skip)\\\"]\",\"[\\\"Not sure (skip)\\\"]\",\"[\\\"Not sure (skip)\\\"]\"],\"x0\":\" \",\"xaxis\":\"x\",\"y\":[88000000000,113000000000,90000000000,190000000000,30000000000,218000000000],\"y0\":\" \",\"yaxis\":\"y\"}],                        {\"boxmode\":\"overlay\",\"legend\":{\"title\":{\"text\":\"category.labels\"},\"tracegroupgap\":0},\"margin\":{\"t\":60},\"template\":{\"data\":{\"bar\":[{\"error_x\":{\"color\":\"#2a3f5f\"},\"error_y\":{\"color\":\"#2a3f5f\"},\"marker\":{\"line\":{\"color\":\"#E5ECF6\",\"width\":0.5},\"pattern\":{\"fillmode\":\"overlay\",\"size\":10,\"solidity\":0.2}},\"type\":\"bar\"}],\"barpolar\":[{\"marker\":{\"line\":{\"color\":\"#E5ECF6\",\"width\":0.5},\"pattern\":{\"fillmode\":\"overlay\",\"size\":10,\"solidity\":0.2}},\"type\":\"barpolar\"}],\"carpet\":[{\"aaxis\":{\"endlinecolor\":\"#2a3f5f\",\"gridcolor\":\"white\",\"linecolor\":\"white\",\"minorgridcolor\":\"white\",\"startlinecolor\":\"#2a3f5f\"},\"baxis\":{\"endlinecolor\":\"#2a3f5f\",\"gridcolor\":\"white\",\"linecolor\":\"white\",\"minorgridcolor\":\"white\",\"startlinecolor\":\"#2a3f5f\"},\"type\":\"carpet\"}],\"choropleth\":[{\"colorbar\":{\"outlinewidth\":0,\"ticks\":\"\"},\"type\":\"choropleth\"}],\"contour\":[{\"colorbar\":{\"outlinewidth\":0,\"ticks\":\"\"},\"colorscale\":[[0.0,\"#0d0887\"],[0.1111111111111111,\"#46039f\"],[0.2222222222222222,\"#7201a8\"],[0.3333333333333333,\"#9c179e\"],[0.4444444444444444,\"#bd3786\"],[0.5555555555555556,\"#d8576b\"],[0.6666666666666666,\"#ed7953\"],[0.7777777777777778,\"#fb9f3a\"],[0.8888888888888888,\"#fdca26\"],[1.0,\"#f0f921\"]],\"type\":\"contour\"}],\"contourcarpet\":[{\"colorbar\":{\"outlinewidth\":0,\"ticks\":\"\"},\"type\":\"contourcarpet\"}],\"heatmap\":[{\"colorbar\":{\"outlinewidth\":0,\"ticks\":\"\"},\"colorscale\":[[0.0,\"#0d0887\"],[0.1111111111111111,\"#46039f\"],[0.2222222222222222,\"#7201a8\"],[0.3333333333333333,\"#9c179e\"],[0.4444444444444444,\"#bd3786\"],[0.5555555555555556,\"#d8576b\"],[0.6666666666666666,\"#ed7953\"],[0.7777777777777778,\"#fb9f3a\"],[0.8888888888888888,\"#fdca26\"],[1.0,\"#f0f921\"]],\"type\":\"heatmap\"}],\"heatmapgl\":[{\"colorbar\":{\"outlinewidth\":0,\"ticks\":\"\"},\"colorscale\":[[0.0,\"#0d0887\"],[0.1111111111111111,\"#46039f\"],[0.2222222222222222,\"#7201a8\"],[0.3333333333333333,\"#9c179e\"],[0.4444444444444444,\"#bd3786\"],[0.5555555555555556,\"#d8576b\"],[0.6666666666666666,\"#ed7953\"],[0.7777777777777778,\"#fb9f3a\"],[0.8888888888888888,\"#fdca26\"],[1.0,\"#f0f921\"]],\"type\":\"heatmapgl\"}],\"histogram\":[{\"marker\":{\"pattern\":{\"fillmode\":\"overlay\",\"size\":10,\"solidity\":0.2}},\"type\":\"histogram\"}],\"histogram2d\":[{\"colorbar\":{\"outlinewidth\":0,\"ticks\":\"\"},\"colorscale\":[[0.0,\"#0d0887\"],[0.1111111111111111,\"#46039f\"],[0.2222222222222222,\"#7201a8\"],[0.3333333333333333,\"#9c179e\"],[0.4444444444444444,\"#bd3786\"],[0.5555555555555556,\"#d8576b\"],[0.6666666666666666,\"#ed7953\"],[0.7777777777777778,\"#fb9f3a\"],[0.8888888888888888,\"#fdca26\"],[1.0,\"#f0f921\"]],\"type\":\"histogram2d\"}],\"histogram2dcontour\":[{\"colorbar\":{\"outlinewidth\":0,\"ticks\":\"\"},\"colorscale\":[[0.0,\"#0d0887\"],[0.1111111111111111,\"#46039f\"],[0.2222222222222222,\"#7201a8\"],[0.3333333333333333,\"#9c179e\"],[0.4444444444444444,\"#bd3786\"],[0.5555555555555556,\"#d8576b\"],[0.6666666666666666,\"#ed7953\"],[0.7777777777777778,\"#fb9f3a\"],[0.8888888888888888,\"#fdca26\"],[1.0,\"#f0f921\"]],\"type\":\"histogram2dcontour\"}],\"mesh3d\":[{\"colorbar\":{\"outlinewidth\":0,\"ticks\":\"\"},\"type\":\"mesh3d\"}],\"parcoords\":[{\"line\":{\"colorbar\":{\"outlinewidth\":0,\"ticks\":\"\"}},\"type\":\"parcoords\"}],\"pie\":[{\"automargin\":true,\"type\":\"pie\"}],\"scatter\":[{\"marker\":{\"colorbar\":{\"outlinewidth\":0,\"ticks\":\"\"}},\"type\":\"scatter\"}],\"scatter3d\":[{\"line\":{\"colorbar\":{\"outlinewidth\":0,\"ticks\":\"\"}},\"marker\":{\"colorbar\":{\"outlinewidth\":0,\"ticks\":\"\"}},\"type\":\"scatter3d\"}],\"scattercarpet\":[{\"marker\":{\"colorbar\":{\"outlinewidth\":0,\"ticks\":\"\"}},\"type\":\"scattercarpet\"}],\"scattergeo\":[{\"marker\":{\"colorbar\":{\"outlinewidth\":0,\"ticks\":\"\"}},\"type\":\"scattergeo\"}],\"scattergl\":[{\"marker\":{\"colorbar\":{\"outlinewidth\":0,\"ticks\":\"\"}},\"type\":\"scattergl\"}],\"scattermapbox\":[{\"marker\":{\"colorbar\":{\"outlinewidth\":0,\"ticks\":\"\"}},\"type\":\"scattermapbox\"}],\"scatterpolar\":[{\"marker\":{\"colorbar\":{\"outlinewidth\":0,\"ticks\":\"\"}},\"type\":\"scatterpolar\"}],\"scatterpolargl\":[{\"marker\":{\"colorbar\":{\"outlinewidth\":0,\"ticks\":\"\"}},\"type\":\"scatterpolargl\"}],\"scatterternary\":[{\"marker\":{\"colorbar\":{\"outlinewidth\":0,\"ticks\":\"\"}},\"type\":\"scatterternary\"}],\"surface\":[{\"colorbar\":{\"outlinewidth\":0,\"ticks\":\"\"},\"colorscale\":[[0.0,\"#0d0887\"],[0.1111111111111111,\"#46039f\"],[0.2222222222222222,\"#7201a8\"],[0.3333333333333333,\"#9c179e\"],[0.4444444444444444,\"#bd3786\"],[0.5555555555555556,\"#d8576b\"],[0.6666666666666666,\"#ed7953\"],[0.7777777777777778,\"#fb9f3a\"],[0.8888888888888888,\"#fdca26\"],[1.0,\"#f0f921\"]],\"type\":\"surface\"}],\"table\":[{\"cells\":{\"fill\":{\"color\":\"#EBF0F8\"},\"line\":{\"color\":\"white\"}},\"header\":{\"fill\":{\"color\":\"#C8D4E3\"},\"line\":{\"color\":\"white\"}},\"type\":\"table\"}]},\"layout\":{\"annotationdefaults\":{\"arrowcolor\":\"#2a3f5f\",\"arrowhead\":0,\"arrowwidth\":1},\"autotypenumbers\":\"strict\",\"coloraxis\":{\"colorbar\":{\"outlinewidth\":0,\"ticks\":\"\"}},\"colorscale\":{\"diverging\":[[0,\"#8e0152\"],[0.1,\"#c51b7d\"],[0.2,\"#de77ae\"],[0.3,\"#f1b6da\"],[0.4,\"#fde0ef\"],[0.5,\"#f7f7f7\"],[0.6,\"#e6f5d0\"],[0.7,\"#b8e186\"],[0.8,\"#7fbc41\"],[0.9,\"#4d9221\"],[1,\"#276419\"]],\"sequential\":[[0.0,\"#0d0887\"],[0.1111111111111111,\"#46039f\"],[0.2222222222222222,\"#7201a8\"],[0.3333333333333333,\"#9c179e\"],[0.4444444444444444,\"#bd3786\"],[0.5555555555555556,\"#d8576b\"],[0.6666666666666666,\"#ed7953\"],[0.7777777777777778,\"#fb9f3a\"],[0.8888888888888888,\"#fdca26\"],[1.0,\"#f0f921\"]],\"sequentialminus\":[[0.0,\"#0d0887\"],[0.1111111111111111,\"#46039f\"],[0.2222222222222222,\"#7201a8\"],[0.3333333333333333,\"#9c179e\"],[0.4444444444444444,\"#bd3786\"],[0.5555555555555556,\"#d8576b\"],[0.6666666666666666,\"#ed7953\"],[0.7777777777777778,\"#fb9f3a\"],[0.8888888888888888,\"#fdca26\"],[1.0,\"#f0f921\"]]},\"colorway\":[\"#636efa\",\"#EF553B\",\"#00cc96\",\"#ab63fa\",\"#FFA15A\",\"#19d3f3\",\"#FF6692\",\"#B6E880\",\"#FF97FF\",\"#FECB52\"],\"font\":{\"color\":\"#2a3f5f\"},\"geo\":{\"bgcolor\":\"white\",\"lakecolor\":\"white\",\"landcolor\":\"#E5ECF6\",\"showlakes\":true,\"showland\":true,\"subunitcolor\":\"white\"},\"hoverlabel\":{\"align\":\"left\"},\"hovermode\":\"closest\",\"mapbox\":{\"style\":\"light\"},\"paper_bgcolor\":\"white\",\"plot_bgcolor\":\"#E5ECF6\",\"polar\":{\"angularaxis\":{\"gridcolor\":\"white\",\"linecolor\":\"white\",\"ticks\":\"\"},\"bgcolor\":\"#E5ECF6\",\"radialaxis\":{\"gridcolor\":\"white\",\"linecolor\":\"white\",\"ticks\":\"\"}},\"scene\":{\"xaxis\":{\"backgroundcolor\":\"#E5ECF6\",\"gridcolor\":\"white\",\"gridwidth\":2,\"linecolor\":\"white\",\"showbackground\":true,\"ticks\":\"\",\"zerolinecolor\":\"white\"},\"yaxis\":{\"backgroundcolor\":\"#E5ECF6\",\"gridcolor\":\"white\",\"gridwidth\":2,\"linecolor\":\"white\",\"showbackground\":true,\"ticks\":\"\",\"zerolinecolor\":\"white\"},\"zaxis\":{\"backgroundcolor\":\"#E5ECF6\",\"gridcolor\":\"white\",\"gridwidth\":2,\"linecolor\":\"white\",\"showbackground\":true,\"ticks\":\"\",\"zerolinecolor\":\"white\"}},\"shapedefaults\":{\"line\":{\"color\":\"#2a3f5f\"}},\"ternary\":{\"aaxis\":{\"gridcolor\":\"white\",\"linecolor\":\"white\",\"ticks\":\"\"},\"baxis\":{\"gridcolor\":\"white\",\"linecolor\":\"white\",\"ticks\":\"\"},\"bgcolor\":\"#E5ECF6\",\"caxis\":{\"gridcolor\":\"white\",\"linecolor\":\"white\",\"ticks\":\"\"}},\"title\":{\"x\":0.05},\"xaxis\":{\"automargin\":true,\"gridcolor\":\"white\",\"linecolor\":\"white\",\"ticks\":\"\",\"title\":{\"standoff\":15},\"zerolinecolor\":\"white\",\"zerolinewidth\":2},\"yaxis\":{\"automargin\":true,\"gridcolor\":\"white\",\"linecolor\":\"white\",\"ticks\":\"\",\"title\":{\"standoff\":15},\"zerolinecolor\":\"white\",\"zerolinewidth\":2}}},\"xaxis\":{\"anchor\":\"y\",\"categoryarray\":[\"[\\\"Yes\\\"]\",\"[\\\"No\\\"]\",\"[\\\"Not sure (skip)\\\"]\"],\"categoryorder\":\"array\",\"domain\":[0.0,1.0],\"title\":{\"text\":\"category.labels\"}},\"yaxis\":{\"anchor\":\"x\",\"domain\":[0.0,1.0],\"title\":{\"text\":\"TaskDuration\"}}},                        {\"responsive\": true}                    ).then(function(){\n",
       "                            \n",
       "var gd = document.getElementById('46ebd3c3-63a1-421a-8cd2-a108a2fe02e4');\n",
       "var x = new MutationObserver(function (mutations, observer) {{\n",
       "        var display = window.getComputedStyle(gd).display;\n",
       "        if (!display || display === 'none') {{\n",
       "            console.log([gd, 'removed!']);\n",
       "            Plotly.purge(gd);\n",
       "            observer.disconnect();\n",
       "        }}\n",
       "}});\n",
       "\n",
       "// Listen for the removal of the full notebook cells\n",
       "var notebookContainer = gd.closest('#notebook-container');\n",
       "if (notebookContainer) {{\n",
       "    x.observe(notebookContainer, {childList: true});\n",
       "}}\n",
       "\n",
       "// Listen for the clearing of the current output cell\n",
       "var outputEl = gd.closest('.output');\n",
       "if (outputEl) {{\n",
       "    x.observe(outputEl, {childList: true});\n",
       "}}\n",
       "\n",
       "                        })                };                });            </script>        </div>"
      ]
     },
     "metadata": {},
     "output_type": "display_data"
    }
   ],
   "source": [
    "fig = px.box(df, x = \"category.labels\", y = \"TaskDuration\", points = \"all\", color = \"category.labels\")\n",
    "fig.show()"
   ]
  },
  {
   "cell_type": "code",
   "execution_count": 113,
   "id": "406cd865",
   "metadata": {},
   "outputs": [
    {
     "data": {
      "application/vnd.plotly.v1+json": {
       "config": {
        "plotlyServerURL": "https://plot.ly"
       },
       "data": [
        {
         "alignmentgroup": "True",
         "boxpoints": "all",
         "hovertemplate": "category.labels=[\"Yes\"]<br>WorkerId=%{x}<br>TaskDuration=%{y}<extra></extra>",
         "legendgroup": "[\"Yes\"]",
         "marker": {
          "color": "#636efa"
         },
         "name": "[\"Yes\"]",
         "notched": false,
         "offsetgroup": "[\"Yes\"]",
         "orientation": "v",
         "quartilemethod": "exclusive",
         "showlegend": true,
         "type": "box",
         "x": [
          "AL8JC13KU3C9T",
          "A20878HW89X71R",
          "AL8JC13KU3C9T",
          "A20878HW89X71R",
          "AL8JC13KU3C9T",
          "AL8JC13KU3C9T",
          "A20878HW89X71R",
          "AL8JC13KU3C9T",
          "AL8JC13KU3C9T",
          "AL8JC13KU3C9T",
          "AL8JC13KU3C9T",
          "A20878HW89X71R",
          "AICE56S8QO5LI",
          "AL8JC13KU3C9T",
          "AL8JC13KU3C9T",
          "A20878HW89X71R",
          "AL8JC13KU3C9T",
          "A20878HW89X71R",
          "AL8JC13KU3C9T",
          "AL8JC13KU3C9T",
          "AL8JC13KU3C9T",
          "A20878HW89X71R",
          "AL8JC13KU3C9T",
          "ACY06TWVZQGU0",
          "AL8JC13KU3C9T",
          "A2ESUS16XEDI5D",
          "AL8JC13KU3C9T",
          "A20878HW89X71R",
          "AL8JC13KU3C9T",
          "A20878HW89X71R",
          "AL8JC13KU3C9T",
          "A20878HW89X71R",
          "AL8JC13KU3C9T",
          "AL8JC13KU3C9T",
          "A20878HW89X71R",
          "AL8JC13KU3C9T",
          "A20878HW89X71R",
          "AL8JC13KU3C9T",
          "A20878HW89X71R",
          "AL8JC13KU3C9T",
          "A20878HW89X71R",
          "AL8JC13KU3C9T",
          "A20878HW89X71R",
          "AL8JC13KU3C9T",
          "A20878HW89X71R",
          "AICE56S8QO5LI",
          "A20878HW89X71R",
          "AL8JC13KU3C9T",
          "A20878HW89X71R",
          "AICE56S8QO5LI",
          "AL8JC13KU3C9T",
          "AL8JC13KU3C9T",
          "A20878HW89X71R",
          "AL8JC13KU3C9T",
          "A20878HW89X71R",
          "A20878HW89X71R",
          "A20878HW89X71R",
          "AL8JC13KU3C9T",
          "A2ESUS16XEDI5D",
          "A20878HW89X71R",
          "AL8JC13KU3C9T",
          "A20878HW89X71R",
          "A20878HW89X71R",
          "ACY06TWVZQGU0",
          "AL8JC13KU3C9T",
          "A20878HW89X71R",
          "AL8JC13KU3C9T",
          "AL8JC13KU3C9T",
          "A20878HW89X71R",
          "A3TFH9LDLGHGGN",
          "AL8JC13KU3C9T",
          "A20878HW89X71R",
          "AL8JC13KU3C9T",
          "A20878HW89X71R"
         ],
         "x0": " ",
         "xaxis": "x",
         "y": [
          6000000000,
          525000000000,
          134000000000,
          100000000000,
          7000000000,
          110000000000,
          57000000000,
          5000000000,
          19000000000,
          41000000000,
          21000000000,
          23000000000,
          46000000000,
          42000000000,
          46000000000,
          70000000000,
          17000000000,
          52000000000,
          27000000000,
          12000000000,
          20000000000,
          50000000000,
          11000000000,
          4000000000,
          10000000000,
          121000000000,
          8000000000,
          27000000000,
          14000000000,
          369000000000,
          14000000000,
          97000000000,
          6000000000,
          14000000000,
          29000000000,
          27000000000,
          196000000000,
          571000000000,
          178000000000,
          5000000000,
          63000000000,
          7000000000,
          101000000000,
          13000000000,
          97000000000,
          88000000000,
          73000000000,
          7000000000,
          24000000000,
          39000000000,
          7000000000,
          33000000000,
          13000000000,
          31000000000,
          81000000000,
          154000000000,
          44000000000,
          17000000000,
          13000000000,
          69000000000,
          22000000000,
          166000000000,
          154000000000,
          7000000000,
          46000000000,
          63000000000,
          11000000000,
          7000000000,
          83000000000,
          44000000000,
          56000000000,
          120000000000,
          8000000000,
          95000000000
         ],
         "y0": " ",
         "yaxis": "y"
        },
        {
         "alignmentgroup": "True",
         "boxpoints": "all",
         "hovertemplate": "category.labels=[\"No\"]<br>WorkerId=%{x}<br>TaskDuration=%{y}<extra></extra>",
         "legendgroup": "[\"No\"]",
         "marker": {
          "color": "#EF553B"
         },
         "name": "[\"No\"]",
         "notched": false,
         "offsetgroup": "[\"No\"]",
         "orientation": "v",
         "quartilemethod": "exclusive",
         "showlegend": true,
         "type": "box",
         "x": [
          "A38Q778WKQNURL",
          "A20878HW89X71R",
          "AICE56S8QO5LI",
          "A38Q778WKQNURL",
          "A20878HW89X71R",
          "A20878HW89X71R",
          "AL8JC13KU3C9T",
          "A20878HW89X71R",
          "A20878HW89X71R",
          "AL8JC13KU3C9T",
          "A20878HW89X71R",
          "AL8JC13KU3C9T",
          "A20878HW89X71R",
          "A20878HW89X71R",
          "A20878HW89X71R",
          "AICE56S8QO5LI",
          "A20878HW89X71R",
          "AICE56S8QO5LI",
          "AL8JC13KU3C9T",
          "A38Q778WKQNURL",
          "A20878HW89X71R",
          "A20878HW89X71R",
          "A20878HW89X71R",
          "ACY06TWVZQGU0",
          "ACY06TWVZQGU0",
          "AL8JC13KU3C9T",
          "A2SY2DFGMX15EC",
          "A20878HW89X71R",
          "AL8JC13KU3C9T",
          "A20878HW89X71R",
          "AL8JC13KU3C9T",
          "AICE56S8QO5LI",
          "AL8JC13KU3C9T",
          "A20878HW89X71R",
          "AL8JC13KU3C9T",
          "A20878HW89X71R",
          "A20878HW89X71R",
          "AICE56S8QO5LI",
          "AL8JC13KU3C9T",
          "A20878HW89X71R"
         ],
         "x0": " ",
         "xaxis": "x",
         "y": [
          6000000000,
          61000000000,
          113000000000,
          12000000000,
          161000000000,
          96000000000,
          16000000000,
          94000000000,
          68000000000,
          15000000000,
          190000000000,
          53000000000,
          32000000000,
          18000000000,
          136000000000,
          88000000000,
          107000000000,
          85000000000,
          25000000000,
          4000000000,
          142000000000,
          92000000000,
          102000000000,
          29000000000,
          51000000000,
          13000000000,
          226000000000,
          42000000000,
          64000000000,
          37000000000,
          28000000000,
          90000000000,
          61000000000,
          93000000000,
          19000000000,
          176000000000,
          109000000000,
          102000000000,
          20000000000,
          67000000000
         ],
         "y0": " ",
         "yaxis": "y"
        },
        {
         "alignmentgroup": "True",
         "boxpoints": "all",
         "hovertemplate": "category.labels=[\"Not sure (skip)\"]<br>WorkerId=%{x}<br>TaskDuration=%{y}<extra></extra>",
         "legendgroup": "[\"Not sure (skip)\"]",
         "marker": {
          "color": "#00cc96"
         },
         "name": "[\"Not sure (skip)\"]",
         "notched": false,
         "offsetgroup": "[\"Not sure (skip)\"]",
         "orientation": "v",
         "quartilemethod": "exclusive",
         "showlegend": true,
         "type": "box",
         "x": [
          "AICE56S8QO5LI",
          "A20878HW89X71R",
          "AL8JC13KU3C9T",
          "A2SY2DFGMX15EC",
          "AL8JC13KU3C9T",
          "A2SY2DFGMX15EC"
         ],
         "x0": " ",
         "xaxis": "x",
         "y": [
          88000000000,
          113000000000,
          90000000000,
          190000000000,
          30000000000,
          218000000000
         ],
         "y0": " ",
         "yaxis": "y"
        }
       ],
       "layout": {
        "boxmode": "group",
        "legend": {
         "title": {
          "text": "category.labels"
         },
         "tracegroupgap": 0
        },
        "margin": {
         "t": 60
        },
        "template": {
         "data": {
          "bar": [
           {
            "error_x": {
             "color": "#2a3f5f"
            },
            "error_y": {
             "color": "#2a3f5f"
            },
            "marker": {
             "line": {
              "color": "#E5ECF6",
              "width": 0.5
             },
             "pattern": {
              "fillmode": "overlay",
              "size": 10,
              "solidity": 0.2
             }
            },
            "type": "bar"
           }
          ],
          "barpolar": [
           {
            "marker": {
             "line": {
              "color": "#E5ECF6",
              "width": 0.5
             },
             "pattern": {
              "fillmode": "overlay",
              "size": 10,
              "solidity": 0.2
             }
            },
            "type": "barpolar"
           }
          ],
          "carpet": [
           {
            "aaxis": {
             "endlinecolor": "#2a3f5f",
             "gridcolor": "white",
             "linecolor": "white",
             "minorgridcolor": "white",
             "startlinecolor": "#2a3f5f"
            },
            "baxis": {
             "endlinecolor": "#2a3f5f",
             "gridcolor": "white",
             "linecolor": "white",
             "minorgridcolor": "white",
             "startlinecolor": "#2a3f5f"
            },
            "type": "carpet"
           }
          ],
          "choropleth": [
           {
            "colorbar": {
             "outlinewidth": 0,
             "ticks": ""
            },
            "type": "choropleth"
           }
          ],
          "contour": [
           {
            "colorbar": {
             "outlinewidth": 0,
             "ticks": ""
            },
            "colorscale": [
             [
              0,
              "#0d0887"
             ],
             [
              0.1111111111111111,
              "#46039f"
             ],
             [
              0.2222222222222222,
              "#7201a8"
             ],
             [
              0.3333333333333333,
              "#9c179e"
             ],
             [
              0.4444444444444444,
              "#bd3786"
             ],
             [
              0.5555555555555556,
              "#d8576b"
             ],
             [
              0.6666666666666666,
              "#ed7953"
             ],
             [
              0.7777777777777778,
              "#fb9f3a"
             ],
             [
              0.8888888888888888,
              "#fdca26"
             ],
             [
              1,
              "#f0f921"
             ]
            ],
            "type": "contour"
           }
          ],
          "contourcarpet": [
           {
            "colorbar": {
             "outlinewidth": 0,
             "ticks": ""
            },
            "type": "contourcarpet"
           }
          ],
          "heatmap": [
           {
            "colorbar": {
             "outlinewidth": 0,
             "ticks": ""
            },
            "colorscale": [
             [
              0,
              "#0d0887"
             ],
             [
              0.1111111111111111,
              "#46039f"
             ],
             [
              0.2222222222222222,
              "#7201a8"
             ],
             [
              0.3333333333333333,
              "#9c179e"
             ],
             [
              0.4444444444444444,
              "#bd3786"
             ],
             [
              0.5555555555555556,
              "#d8576b"
             ],
             [
              0.6666666666666666,
              "#ed7953"
             ],
             [
              0.7777777777777778,
              "#fb9f3a"
             ],
             [
              0.8888888888888888,
              "#fdca26"
             ],
             [
              1,
              "#f0f921"
             ]
            ],
            "type": "heatmap"
           }
          ],
          "heatmapgl": [
           {
            "colorbar": {
             "outlinewidth": 0,
             "ticks": ""
            },
            "colorscale": [
             [
              0,
              "#0d0887"
             ],
             [
              0.1111111111111111,
              "#46039f"
             ],
             [
              0.2222222222222222,
              "#7201a8"
             ],
             [
              0.3333333333333333,
              "#9c179e"
             ],
             [
              0.4444444444444444,
              "#bd3786"
             ],
             [
              0.5555555555555556,
              "#d8576b"
             ],
             [
              0.6666666666666666,
              "#ed7953"
             ],
             [
              0.7777777777777778,
              "#fb9f3a"
             ],
             [
              0.8888888888888888,
              "#fdca26"
             ],
             [
              1,
              "#f0f921"
             ]
            ],
            "type": "heatmapgl"
           }
          ],
          "histogram": [
           {
            "marker": {
             "pattern": {
              "fillmode": "overlay",
              "size": 10,
              "solidity": 0.2
             }
            },
            "type": "histogram"
           }
          ],
          "histogram2d": [
           {
            "colorbar": {
             "outlinewidth": 0,
             "ticks": ""
            },
            "colorscale": [
             [
              0,
              "#0d0887"
             ],
             [
              0.1111111111111111,
              "#46039f"
             ],
             [
              0.2222222222222222,
              "#7201a8"
             ],
             [
              0.3333333333333333,
              "#9c179e"
             ],
             [
              0.4444444444444444,
              "#bd3786"
             ],
             [
              0.5555555555555556,
              "#d8576b"
             ],
             [
              0.6666666666666666,
              "#ed7953"
             ],
             [
              0.7777777777777778,
              "#fb9f3a"
             ],
             [
              0.8888888888888888,
              "#fdca26"
             ],
             [
              1,
              "#f0f921"
             ]
            ],
            "type": "histogram2d"
           }
          ],
          "histogram2dcontour": [
           {
            "colorbar": {
             "outlinewidth": 0,
             "ticks": ""
            },
            "colorscale": [
             [
              0,
              "#0d0887"
             ],
             [
              0.1111111111111111,
              "#46039f"
             ],
             [
              0.2222222222222222,
              "#7201a8"
             ],
             [
              0.3333333333333333,
              "#9c179e"
             ],
             [
              0.4444444444444444,
              "#bd3786"
             ],
             [
              0.5555555555555556,
              "#d8576b"
             ],
             [
              0.6666666666666666,
              "#ed7953"
             ],
             [
              0.7777777777777778,
              "#fb9f3a"
             ],
             [
              0.8888888888888888,
              "#fdca26"
             ],
             [
              1,
              "#f0f921"
             ]
            ],
            "type": "histogram2dcontour"
           }
          ],
          "mesh3d": [
           {
            "colorbar": {
             "outlinewidth": 0,
             "ticks": ""
            },
            "type": "mesh3d"
           }
          ],
          "parcoords": [
           {
            "line": {
             "colorbar": {
              "outlinewidth": 0,
              "ticks": ""
             }
            },
            "type": "parcoords"
           }
          ],
          "pie": [
           {
            "automargin": true,
            "type": "pie"
           }
          ],
          "scatter": [
           {
            "marker": {
             "colorbar": {
              "outlinewidth": 0,
              "ticks": ""
             }
            },
            "type": "scatter"
           }
          ],
          "scatter3d": [
           {
            "line": {
             "colorbar": {
              "outlinewidth": 0,
              "ticks": ""
             }
            },
            "marker": {
             "colorbar": {
              "outlinewidth": 0,
              "ticks": ""
             }
            },
            "type": "scatter3d"
           }
          ],
          "scattercarpet": [
           {
            "marker": {
             "colorbar": {
              "outlinewidth": 0,
              "ticks": ""
             }
            },
            "type": "scattercarpet"
           }
          ],
          "scattergeo": [
           {
            "marker": {
             "colorbar": {
              "outlinewidth": 0,
              "ticks": ""
             }
            },
            "type": "scattergeo"
           }
          ],
          "scattergl": [
           {
            "marker": {
             "colorbar": {
              "outlinewidth": 0,
              "ticks": ""
             }
            },
            "type": "scattergl"
           }
          ],
          "scattermapbox": [
           {
            "marker": {
             "colorbar": {
              "outlinewidth": 0,
              "ticks": ""
             }
            },
            "type": "scattermapbox"
           }
          ],
          "scatterpolar": [
           {
            "marker": {
             "colorbar": {
              "outlinewidth": 0,
              "ticks": ""
             }
            },
            "type": "scatterpolar"
           }
          ],
          "scatterpolargl": [
           {
            "marker": {
             "colorbar": {
              "outlinewidth": 0,
              "ticks": ""
             }
            },
            "type": "scatterpolargl"
           }
          ],
          "scatterternary": [
           {
            "marker": {
             "colorbar": {
              "outlinewidth": 0,
              "ticks": ""
             }
            },
            "type": "scatterternary"
           }
          ],
          "surface": [
           {
            "colorbar": {
             "outlinewidth": 0,
             "ticks": ""
            },
            "colorscale": [
             [
              0,
              "#0d0887"
             ],
             [
              0.1111111111111111,
              "#46039f"
             ],
             [
              0.2222222222222222,
              "#7201a8"
             ],
             [
              0.3333333333333333,
              "#9c179e"
             ],
             [
              0.4444444444444444,
              "#bd3786"
             ],
             [
              0.5555555555555556,
              "#d8576b"
             ],
             [
              0.6666666666666666,
              "#ed7953"
             ],
             [
              0.7777777777777778,
              "#fb9f3a"
             ],
             [
              0.8888888888888888,
              "#fdca26"
             ],
             [
              1,
              "#f0f921"
             ]
            ],
            "type": "surface"
           }
          ],
          "table": [
           {
            "cells": {
             "fill": {
              "color": "#EBF0F8"
             },
             "line": {
              "color": "white"
             }
            },
            "header": {
             "fill": {
              "color": "#C8D4E3"
             },
             "line": {
              "color": "white"
             }
            },
            "type": "table"
           }
          ]
         },
         "layout": {
          "annotationdefaults": {
           "arrowcolor": "#2a3f5f",
           "arrowhead": 0,
           "arrowwidth": 1
          },
          "autotypenumbers": "strict",
          "coloraxis": {
           "colorbar": {
            "outlinewidth": 0,
            "ticks": ""
           }
          },
          "colorscale": {
           "diverging": [
            [
             0,
             "#8e0152"
            ],
            [
             0.1,
             "#c51b7d"
            ],
            [
             0.2,
             "#de77ae"
            ],
            [
             0.3,
             "#f1b6da"
            ],
            [
             0.4,
             "#fde0ef"
            ],
            [
             0.5,
             "#f7f7f7"
            ],
            [
             0.6,
             "#e6f5d0"
            ],
            [
             0.7,
             "#b8e186"
            ],
            [
             0.8,
             "#7fbc41"
            ],
            [
             0.9,
             "#4d9221"
            ],
            [
             1,
             "#276419"
            ]
           ],
           "sequential": [
            [
             0,
             "#0d0887"
            ],
            [
             0.1111111111111111,
             "#46039f"
            ],
            [
             0.2222222222222222,
             "#7201a8"
            ],
            [
             0.3333333333333333,
             "#9c179e"
            ],
            [
             0.4444444444444444,
             "#bd3786"
            ],
            [
             0.5555555555555556,
             "#d8576b"
            ],
            [
             0.6666666666666666,
             "#ed7953"
            ],
            [
             0.7777777777777778,
             "#fb9f3a"
            ],
            [
             0.8888888888888888,
             "#fdca26"
            ],
            [
             1,
             "#f0f921"
            ]
           ],
           "sequentialminus": [
            [
             0,
             "#0d0887"
            ],
            [
             0.1111111111111111,
             "#46039f"
            ],
            [
             0.2222222222222222,
             "#7201a8"
            ],
            [
             0.3333333333333333,
             "#9c179e"
            ],
            [
             0.4444444444444444,
             "#bd3786"
            ],
            [
             0.5555555555555556,
             "#d8576b"
            ],
            [
             0.6666666666666666,
             "#ed7953"
            ],
            [
             0.7777777777777778,
             "#fb9f3a"
            ],
            [
             0.8888888888888888,
             "#fdca26"
            ],
            [
             1,
             "#f0f921"
            ]
           ]
          },
          "colorway": [
           "#636efa",
           "#EF553B",
           "#00cc96",
           "#ab63fa",
           "#FFA15A",
           "#19d3f3",
           "#FF6692",
           "#B6E880",
           "#FF97FF",
           "#FECB52"
          ],
          "font": {
           "color": "#2a3f5f"
          },
          "geo": {
           "bgcolor": "white",
           "lakecolor": "white",
           "landcolor": "#E5ECF6",
           "showlakes": true,
           "showland": true,
           "subunitcolor": "white"
          },
          "hoverlabel": {
           "align": "left"
          },
          "hovermode": "closest",
          "mapbox": {
           "style": "light"
          },
          "paper_bgcolor": "white",
          "plot_bgcolor": "#E5ECF6",
          "polar": {
           "angularaxis": {
            "gridcolor": "white",
            "linecolor": "white",
            "ticks": ""
           },
           "bgcolor": "#E5ECF6",
           "radialaxis": {
            "gridcolor": "white",
            "linecolor": "white",
            "ticks": ""
           }
          },
          "scene": {
           "xaxis": {
            "backgroundcolor": "#E5ECF6",
            "gridcolor": "white",
            "gridwidth": 2,
            "linecolor": "white",
            "showbackground": true,
            "ticks": "",
            "zerolinecolor": "white"
           },
           "yaxis": {
            "backgroundcolor": "#E5ECF6",
            "gridcolor": "white",
            "gridwidth": 2,
            "linecolor": "white",
            "showbackground": true,
            "ticks": "",
            "zerolinecolor": "white"
           },
           "zaxis": {
            "backgroundcolor": "#E5ECF6",
            "gridcolor": "white",
            "gridwidth": 2,
            "linecolor": "white",
            "showbackground": true,
            "ticks": "",
            "zerolinecolor": "white"
           }
          },
          "shapedefaults": {
           "line": {
            "color": "#2a3f5f"
           }
          },
          "ternary": {
           "aaxis": {
            "gridcolor": "white",
            "linecolor": "white",
            "ticks": ""
           },
           "baxis": {
            "gridcolor": "white",
            "linecolor": "white",
            "ticks": ""
           },
           "bgcolor": "#E5ECF6",
           "caxis": {
            "gridcolor": "white",
            "linecolor": "white",
            "ticks": ""
           }
          },
          "title": {
           "x": 0.05
          },
          "xaxis": {
           "automargin": true,
           "gridcolor": "white",
           "linecolor": "white",
           "ticks": "",
           "title": {
            "standoff": 15
           },
           "zerolinecolor": "white",
           "zerolinewidth": 2
          },
          "yaxis": {
           "automargin": true,
           "gridcolor": "white",
           "linecolor": "white",
           "ticks": "",
           "title": {
            "standoff": 15
           },
           "zerolinecolor": "white",
           "zerolinewidth": 2
          }
         }
        },
        "xaxis": {
         "anchor": "y",
         "domain": [
          0,
          1
         ],
         "title": {
          "text": "WorkerId"
         }
        },
        "yaxis": {
         "anchor": "x",
         "domain": [
          0,
          1
         ],
         "title": {
          "text": "TaskDuration"
         }
        }
       }
      },
      "text/html": [
       "<div>                            <div id=\"cf807a1e-9459-4a60-9ab1-3702a18d7cc4\" class=\"plotly-graph-div\" style=\"height:525px; width:100%;\"></div>            <script type=\"text/javascript\">                require([\"plotly\"], function(Plotly) {                    window.PLOTLYENV=window.PLOTLYENV || {};                                    if (document.getElementById(\"cf807a1e-9459-4a60-9ab1-3702a18d7cc4\")) {                    Plotly.newPlot(                        \"cf807a1e-9459-4a60-9ab1-3702a18d7cc4\",                        [{\"alignmentgroup\":\"True\",\"boxpoints\":\"all\",\"hovertemplate\":\"category.labels=[\\\"Yes\\\"]<br>WorkerId=%{x}<br>TaskDuration=%{y}<extra></extra>\",\"legendgroup\":\"[\\\"Yes\\\"]\",\"marker\":{\"color\":\"#636efa\"},\"name\":\"[\\\"Yes\\\"]\",\"notched\":false,\"offsetgroup\":\"[\\\"Yes\\\"]\",\"orientation\":\"v\",\"quartilemethod\":\"exclusive\",\"showlegend\":true,\"type\":\"box\",\"x\":[\"AL8JC13KU3C9T\",\"A20878HW89X71R\",\"AL8JC13KU3C9T\",\"A20878HW89X71R\",\"AL8JC13KU3C9T\",\"AL8JC13KU3C9T\",\"A20878HW89X71R\",\"AL8JC13KU3C9T\",\"AL8JC13KU3C9T\",\"AL8JC13KU3C9T\",\"AL8JC13KU3C9T\",\"A20878HW89X71R\",\"AICE56S8QO5LI\",\"AL8JC13KU3C9T\",\"AL8JC13KU3C9T\",\"A20878HW89X71R\",\"AL8JC13KU3C9T\",\"A20878HW89X71R\",\"AL8JC13KU3C9T\",\"AL8JC13KU3C9T\",\"AL8JC13KU3C9T\",\"A20878HW89X71R\",\"AL8JC13KU3C9T\",\"ACY06TWVZQGU0\",\"AL8JC13KU3C9T\",\"A2ESUS16XEDI5D\",\"AL8JC13KU3C9T\",\"A20878HW89X71R\",\"AL8JC13KU3C9T\",\"A20878HW89X71R\",\"AL8JC13KU3C9T\",\"A20878HW89X71R\",\"AL8JC13KU3C9T\",\"AL8JC13KU3C9T\",\"A20878HW89X71R\",\"AL8JC13KU3C9T\",\"A20878HW89X71R\",\"AL8JC13KU3C9T\",\"A20878HW89X71R\",\"AL8JC13KU3C9T\",\"A20878HW89X71R\",\"AL8JC13KU3C9T\",\"A20878HW89X71R\",\"AL8JC13KU3C9T\",\"A20878HW89X71R\",\"AICE56S8QO5LI\",\"A20878HW89X71R\",\"AL8JC13KU3C9T\",\"A20878HW89X71R\",\"AICE56S8QO5LI\",\"AL8JC13KU3C9T\",\"AL8JC13KU3C9T\",\"A20878HW89X71R\",\"AL8JC13KU3C9T\",\"A20878HW89X71R\",\"A20878HW89X71R\",\"A20878HW89X71R\",\"AL8JC13KU3C9T\",\"A2ESUS16XEDI5D\",\"A20878HW89X71R\",\"AL8JC13KU3C9T\",\"A20878HW89X71R\",\"A20878HW89X71R\",\"ACY06TWVZQGU0\",\"AL8JC13KU3C9T\",\"A20878HW89X71R\",\"AL8JC13KU3C9T\",\"AL8JC13KU3C9T\",\"A20878HW89X71R\",\"A3TFH9LDLGHGGN\",\"AL8JC13KU3C9T\",\"A20878HW89X71R\",\"AL8JC13KU3C9T\",\"A20878HW89X71R\"],\"x0\":\" \",\"xaxis\":\"x\",\"y\":[6000000000,525000000000,134000000000,100000000000,7000000000,110000000000,57000000000,5000000000,19000000000,41000000000,21000000000,23000000000,46000000000,42000000000,46000000000,70000000000,17000000000,52000000000,27000000000,12000000000,20000000000,50000000000,11000000000,4000000000,10000000000,121000000000,8000000000,27000000000,14000000000,369000000000,14000000000,97000000000,6000000000,14000000000,29000000000,27000000000,196000000000,571000000000,178000000000,5000000000,63000000000,7000000000,101000000000,13000000000,97000000000,88000000000,73000000000,7000000000,24000000000,39000000000,7000000000,33000000000,13000000000,31000000000,81000000000,154000000000,44000000000,17000000000,13000000000,69000000000,22000000000,166000000000,154000000000,7000000000,46000000000,63000000000,11000000000,7000000000,83000000000,44000000000,56000000000,120000000000,8000000000,95000000000],\"y0\":\" \",\"yaxis\":\"y\"},{\"alignmentgroup\":\"True\",\"boxpoints\":\"all\",\"hovertemplate\":\"category.labels=[\\\"No\\\"]<br>WorkerId=%{x}<br>TaskDuration=%{y}<extra></extra>\",\"legendgroup\":\"[\\\"No\\\"]\",\"marker\":{\"color\":\"#EF553B\"},\"name\":\"[\\\"No\\\"]\",\"notched\":false,\"offsetgroup\":\"[\\\"No\\\"]\",\"orientation\":\"v\",\"quartilemethod\":\"exclusive\",\"showlegend\":true,\"type\":\"box\",\"x\":[\"A38Q778WKQNURL\",\"A20878HW89X71R\",\"AICE56S8QO5LI\",\"A38Q778WKQNURL\",\"A20878HW89X71R\",\"A20878HW89X71R\",\"AL8JC13KU3C9T\",\"A20878HW89X71R\",\"A20878HW89X71R\",\"AL8JC13KU3C9T\",\"A20878HW89X71R\",\"AL8JC13KU3C9T\",\"A20878HW89X71R\",\"A20878HW89X71R\",\"A20878HW89X71R\",\"AICE56S8QO5LI\",\"A20878HW89X71R\",\"AICE56S8QO5LI\",\"AL8JC13KU3C9T\",\"A38Q778WKQNURL\",\"A20878HW89X71R\",\"A20878HW89X71R\",\"A20878HW89X71R\",\"ACY06TWVZQGU0\",\"ACY06TWVZQGU0\",\"AL8JC13KU3C9T\",\"A2SY2DFGMX15EC\",\"A20878HW89X71R\",\"AL8JC13KU3C9T\",\"A20878HW89X71R\",\"AL8JC13KU3C9T\",\"AICE56S8QO5LI\",\"AL8JC13KU3C9T\",\"A20878HW89X71R\",\"AL8JC13KU3C9T\",\"A20878HW89X71R\",\"A20878HW89X71R\",\"AICE56S8QO5LI\",\"AL8JC13KU3C9T\",\"A20878HW89X71R\"],\"x0\":\" \",\"xaxis\":\"x\",\"y\":[6000000000,61000000000,113000000000,12000000000,161000000000,96000000000,16000000000,94000000000,68000000000,15000000000,190000000000,53000000000,32000000000,18000000000,136000000000,88000000000,107000000000,85000000000,25000000000,4000000000,142000000000,92000000000,102000000000,29000000000,51000000000,13000000000,226000000000,42000000000,64000000000,37000000000,28000000000,90000000000,61000000000,93000000000,19000000000,176000000000,109000000000,102000000000,20000000000,67000000000],\"y0\":\" \",\"yaxis\":\"y\"},{\"alignmentgroup\":\"True\",\"boxpoints\":\"all\",\"hovertemplate\":\"category.labels=[\\\"Not sure (skip)\\\"]<br>WorkerId=%{x}<br>TaskDuration=%{y}<extra></extra>\",\"legendgroup\":\"[\\\"Not sure (skip)\\\"]\",\"marker\":{\"color\":\"#00cc96\"},\"name\":\"[\\\"Not sure (skip)\\\"]\",\"notched\":false,\"offsetgroup\":\"[\\\"Not sure (skip)\\\"]\",\"orientation\":\"v\",\"quartilemethod\":\"exclusive\",\"showlegend\":true,\"type\":\"box\",\"x\":[\"AICE56S8QO5LI\",\"A20878HW89X71R\",\"AL8JC13KU3C9T\",\"A2SY2DFGMX15EC\",\"AL8JC13KU3C9T\",\"A2SY2DFGMX15EC\"],\"x0\":\" \",\"xaxis\":\"x\",\"y\":[88000000000,113000000000,90000000000,190000000000,30000000000,218000000000],\"y0\":\" \",\"yaxis\":\"y\"}],                        {\"boxmode\":\"group\",\"legend\":{\"title\":{\"text\":\"category.labels\"},\"tracegroupgap\":0},\"margin\":{\"t\":60},\"template\":{\"data\":{\"bar\":[{\"error_x\":{\"color\":\"#2a3f5f\"},\"error_y\":{\"color\":\"#2a3f5f\"},\"marker\":{\"line\":{\"color\":\"#E5ECF6\",\"width\":0.5},\"pattern\":{\"fillmode\":\"overlay\",\"size\":10,\"solidity\":0.2}},\"type\":\"bar\"}],\"barpolar\":[{\"marker\":{\"line\":{\"color\":\"#E5ECF6\",\"width\":0.5},\"pattern\":{\"fillmode\":\"overlay\",\"size\":10,\"solidity\":0.2}},\"type\":\"barpolar\"}],\"carpet\":[{\"aaxis\":{\"endlinecolor\":\"#2a3f5f\",\"gridcolor\":\"white\",\"linecolor\":\"white\",\"minorgridcolor\":\"white\",\"startlinecolor\":\"#2a3f5f\"},\"baxis\":{\"endlinecolor\":\"#2a3f5f\",\"gridcolor\":\"white\",\"linecolor\":\"white\",\"minorgridcolor\":\"white\",\"startlinecolor\":\"#2a3f5f\"},\"type\":\"carpet\"}],\"choropleth\":[{\"colorbar\":{\"outlinewidth\":0,\"ticks\":\"\"},\"type\":\"choropleth\"}],\"contour\":[{\"colorbar\":{\"outlinewidth\":0,\"ticks\":\"\"},\"colorscale\":[[0.0,\"#0d0887\"],[0.1111111111111111,\"#46039f\"],[0.2222222222222222,\"#7201a8\"],[0.3333333333333333,\"#9c179e\"],[0.4444444444444444,\"#bd3786\"],[0.5555555555555556,\"#d8576b\"],[0.6666666666666666,\"#ed7953\"],[0.7777777777777778,\"#fb9f3a\"],[0.8888888888888888,\"#fdca26\"],[1.0,\"#f0f921\"]],\"type\":\"contour\"}],\"contourcarpet\":[{\"colorbar\":{\"outlinewidth\":0,\"ticks\":\"\"},\"type\":\"contourcarpet\"}],\"heatmap\":[{\"colorbar\":{\"outlinewidth\":0,\"ticks\":\"\"},\"colorscale\":[[0.0,\"#0d0887\"],[0.1111111111111111,\"#46039f\"],[0.2222222222222222,\"#7201a8\"],[0.3333333333333333,\"#9c179e\"],[0.4444444444444444,\"#bd3786\"],[0.5555555555555556,\"#d8576b\"],[0.6666666666666666,\"#ed7953\"],[0.7777777777777778,\"#fb9f3a\"],[0.8888888888888888,\"#fdca26\"],[1.0,\"#f0f921\"]],\"type\":\"heatmap\"}],\"heatmapgl\":[{\"colorbar\":{\"outlinewidth\":0,\"ticks\":\"\"},\"colorscale\":[[0.0,\"#0d0887\"],[0.1111111111111111,\"#46039f\"],[0.2222222222222222,\"#7201a8\"],[0.3333333333333333,\"#9c179e\"],[0.4444444444444444,\"#bd3786\"],[0.5555555555555556,\"#d8576b\"],[0.6666666666666666,\"#ed7953\"],[0.7777777777777778,\"#fb9f3a\"],[0.8888888888888888,\"#fdca26\"],[1.0,\"#f0f921\"]],\"type\":\"heatmapgl\"}],\"histogram\":[{\"marker\":{\"pattern\":{\"fillmode\":\"overlay\",\"size\":10,\"solidity\":0.2}},\"type\":\"histogram\"}],\"histogram2d\":[{\"colorbar\":{\"outlinewidth\":0,\"ticks\":\"\"},\"colorscale\":[[0.0,\"#0d0887\"],[0.1111111111111111,\"#46039f\"],[0.2222222222222222,\"#7201a8\"],[0.3333333333333333,\"#9c179e\"],[0.4444444444444444,\"#bd3786\"],[0.5555555555555556,\"#d8576b\"],[0.6666666666666666,\"#ed7953\"],[0.7777777777777778,\"#fb9f3a\"],[0.8888888888888888,\"#fdca26\"],[1.0,\"#f0f921\"]],\"type\":\"histogram2d\"}],\"histogram2dcontour\":[{\"colorbar\":{\"outlinewidth\":0,\"ticks\":\"\"},\"colorscale\":[[0.0,\"#0d0887\"],[0.1111111111111111,\"#46039f\"],[0.2222222222222222,\"#7201a8\"],[0.3333333333333333,\"#9c179e\"],[0.4444444444444444,\"#bd3786\"],[0.5555555555555556,\"#d8576b\"],[0.6666666666666666,\"#ed7953\"],[0.7777777777777778,\"#fb9f3a\"],[0.8888888888888888,\"#fdca26\"],[1.0,\"#f0f921\"]],\"type\":\"histogram2dcontour\"}],\"mesh3d\":[{\"colorbar\":{\"outlinewidth\":0,\"ticks\":\"\"},\"type\":\"mesh3d\"}],\"parcoords\":[{\"line\":{\"colorbar\":{\"outlinewidth\":0,\"ticks\":\"\"}},\"type\":\"parcoords\"}],\"pie\":[{\"automargin\":true,\"type\":\"pie\"}],\"scatter\":[{\"marker\":{\"colorbar\":{\"outlinewidth\":0,\"ticks\":\"\"}},\"type\":\"scatter\"}],\"scatter3d\":[{\"line\":{\"colorbar\":{\"outlinewidth\":0,\"ticks\":\"\"}},\"marker\":{\"colorbar\":{\"outlinewidth\":0,\"ticks\":\"\"}},\"type\":\"scatter3d\"}],\"scattercarpet\":[{\"marker\":{\"colorbar\":{\"outlinewidth\":0,\"ticks\":\"\"}},\"type\":\"scattercarpet\"}],\"scattergeo\":[{\"marker\":{\"colorbar\":{\"outlinewidth\":0,\"ticks\":\"\"}},\"type\":\"scattergeo\"}],\"scattergl\":[{\"marker\":{\"colorbar\":{\"outlinewidth\":0,\"ticks\":\"\"}},\"type\":\"scattergl\"}],\"scattermapbox\":[{\"marker\":{\"colorbar\":{\"outlinewidth\":0,\"ticks\":\"\"}},\"type\":\"scattermapbox\"}],\"scatterpolar\":[{\"marker\":{\"colorbar\":{\"outlinewidth\":0,\"ticks\":\"\"}},\"type\":\"scatterpolar\"}],\"scatterpolargl\":[{\"marker\":{\"colorbar\":{\"outlinewidth\":0,\"ticks\":\"\"}},\"type\":\"scatterpolargl\"}],\"scatterternary\":[{\"marker\":{\"colorbar\":{\"outlinewidth\":0,\"ticks\":\"\"}},\"type\":\"scatterternary\"}],\"surface\":[{\"colorbar\":{\"outlinewidth\":0,\"ticks\":\"\"},\"colorscale\":[[0.0,\"#0d0887\"],[0.1111111111111111,\"#46039f\"],[0.2222222222222222,\"#7201a8\"],[0.3333333333333333,\"#9c179e\"],[0.4444444444444444,\"#bd3786\"],[0.5555555555555556,\"#d8576b\"],[0.6666666666666666,\"#ed7953\"],[0.7777777777777778,\"#fb9f3a\"],[0.8888888888888888,\"#fdca26\"],[1.0,\"#f0f921\"]],\"type\":\"surface\"}],\"table\":[{\"cells\":{\"fill\":{\"color\":\"#EBF0F8\"},\"line\":{\"color\":\"white\"}},\"header\":{\"fill\":{\"color\":\"#C8D4E3\"},\"line\":{\"color\":\"white\"}},\"type\":\"table\"}]},\"layout\":{\"annotationdefaults\":{\"arrowcolor\":\"#2a3f5f\",\"arrowhead\":0,\"arrowwidth\":1},\"autotypenumbers\":\"strict\",\"coloraxis\":{\"colorbar\":{\"outlinewidth\":0,\"ticks\":\"\"}},\"colorscale\":{\"diverging\":[[0,\"#8e0152\"],[0.1,\"#c51b7d\"],[0.2,\"#de77ae\"],[0.3,\"#f1b6da\"],[0.4,\"#fde0ef\"],[0.5,\"#f7f7f7\"],[0.6,\"#e6f5d0\"],[0.7,\"#b8e186\"],[0.8,\"#7fbc41\"],[0.9,\"#4d9221\"],[1,\"#276419\"]],\"sequential\":[[0.0,\"#0d0887\"],[0.1111111111111111,\"#46039f\"],[0.2222222222222222,\"#7201a8\"],[0.3333333333333333,\"#9c179e\"],[0.4444444444444444,\"#bd3786\"],[0.5555555555555556,\"#d8576b\"],[0.6666666666666666,\"#ed7953\"],[0.7777777777777778,\"#fb9f3a\"],[0.8888888888888888,\"#fdca26\"],[1.0,\"#f0f921\"]],\"sequentialminus\":[[0.0,\"#0d0887\"],[0.1111111111111111,\"#46039f\"],[0.2222222222222222,\"#7201a8\"],[0.3333333333333333,\"#9c179e\"],[0.4444444444444444,\"#bd3786\"],[0.5555555555555556,\"#d8576b\"],[0.6666666666666666,\"#ed7953\"],[0.7777777777777778,\"#fb9f3a\"],[0.8888888888888888,\"#fdca26\"],[1.0,\"#f0f921\"]]},\"colorway\":[\"#636efa\",\"#EF553B\",\"#00cc96\",\"#ab63fa\",\"#FFA15A\",\"#19d3f3\",\"#FF6692\",\"#B6E880\",\"#FF97FF\",\"#FECB52\"],\"font\":{\"color\":\"#2a3f5f\"},\"geo\":{\"bgcolor\":\"white\",\"lakecolor\":\"white\",\"landcolor\":\"#E5ECF6\",\"showlakes\":true,\"showland\":true,\"subunitcolor\":\"white\"},\"hoverlabel\":{\"align\":\"left\"},\"hovermode\":\"closest\",\"mapbox\":{\"style\":\"light\"},\"paper_bgcolor\":\"white\",\"plot_bgcolor\":\"#E5ECF6\",\"polar\":{\"angularaxis\":{\"gridcolor\":\"white\",\"linecolor\":\"white\",\"ticks\":\"\"},\"bgcolor\":\"#E5ECF6\",\"radialaxis\":{\"gridcolor\":\"white\",\"linecolor\":\"white\",\"ticks\":\"\"}},\"scene\":{\"xaxis\":{\"backgroundcolor\":\"#E5ECF6\",\"gridcolor\":\"white\",\"gridwidth\":2,\"linecolor\":\"white\",\"showbackground\":true,\"ticks\":\"\",\"zerolinecolor\":\"white\"},\"yaxis\":{\"backgroundcolor\":\"#E5ECF6\",\"gridcolor\":\"white\",\"gridwidth\":2,\"linecolor\":\"white\",\"showbackground\":true,\"ticks\":\"\",\"zerolinecolor\":\"white\"},\"zaxis\":{\"backgroundcolor\":\"#E5ECF6\",\"gridcolor\":\"white\",\"gridwidth\":2,\"linecolor\":\"white\",\"showbackground\":true,\"ticks\":\"\",\"zerolinecolor\":\"white\"}},\"shapedefaults\":{\"line\":{\"color\":\"#2a3f5f\"}},\"ternary\":{\"aaxis\":{\"gridcolor\":\"white\",\"linecolor\":\"white\",\"ticks\":\"\"},\"baxis\":{\"gridcolor\":\"white\",\"linecolor\":\"white\",\"ticks\":\"\"},\"bgcolor\":\"#E5ECF6\",\"caxis\":{\"gridcolor\":\"white\",\"linecolor\":\"white\",\"ticks\":\"\"}},\"title\":{\"x\":0.05},\"xaxis\":{\"automargin\":true,\"gridcolor\":\"white\",\"linecolor\":\"white\",\"ticks\":\"\",\"title\":{\"standoff\":15},\"zerolinecolor\":\"white\",\"zerolinewidth\":2},\"yaxis\":{\"automargin\":true,\"gridcolor\":\"white\",\"linecolor\":\"white\",\"ticks\":\"\",\"title\":{\"standoff\":15},\"zerolinecolor\":\"white\",\"zerolinewidth\":2}}},\"xaxis\":{\"anchor\":\"y\",\"domain\":[0.0,1.0],\"title\":{\"text\":\"WorkerId\"}},\"yaxis\":{\"anchor\":\"x\",\"domain\":[0.0,1.0],\"title\":{\"text\":\"TaskDuration\"}}},                        {\"responsive\": true}                    ).then(function(){\n",
       "                            \n",
       "var gd = document.getElementById('cf807a1e-9459-4a60-9ab1-3702a18d7cc4');\n",
       "var x = new MutationObserver(function (mutations, observer) {{\n",
       "        var display = window.getComputedStyle(gd).display;\n",
       "        if (!display || display === 'none') {{\n",
       "            console.log([gd, 'removed!']);\n",
       "            Plotly.purge(gd);\n",
       "            observer.disconnect();\n",
       "        }}\n",
       "}});\n",
       "\n",
       "// Listen for the removal of the full notebook cells\n",
       "var notebookContainer = gd.closest('#notebook-container');\n",
       "if (notebookContainer) {{\n",
       "    x.observe(notebookContainer, {childList: true});\n",
       "}}\n",
       "\n",
       "// Listen for the clearing of the current output cell\n",
       "var outputEl = gd.closest('.output');\n",
       "if (outputEl) {{\n",
       "    x.observe(outputEl, {childList: true});\n",
       "}}\n",
       "\n",
       "                        })                };                });            </script>        </div>"
      ]
     },
     "metadata": {},
     "output_type": "display_data"
    }
   ],
   "source": [
    "fig = px.box(df, x = \"WorkerId\", y = \"TaskDuration\", points = \"all\", color = \"category.labels\")\n",
    "fig.update_traces(quartilemethod = \"exclusive\")\n",
    "fig.show()"
   ]
  },
  {
   "cell_type": "code",
   "execution_count": null,
   "id": "ecc112fe",
   "metadata": {},
   "outputs": [],
   "source": []
  }
 ],
 "metadata": {
  "kernelspec": {
   "display_name": "Python 3 (ipykernel)",
   "language": "python",
   "name": "python3"
  },
  "language_info": {
   "codemirror_mode": {
    "name": "ipython",
    "version": 3
   },
   "file_extension": ".py",
   "mimetype": "text/x-python",
   "name": "python",
   "nbconvert_exporter": "python",
   "pygments_lexer": "ipython3",
   "version": "3.9.6"
  }
 },
 "nbformat": 4,
 "nbformat_minor": 5
}
